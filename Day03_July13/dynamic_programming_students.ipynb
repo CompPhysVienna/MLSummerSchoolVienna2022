{
 "cells": [
  {
   "cell_type": "code",
   "execution_count": 2,
   "id": "69c6c8b5-7e12-4f53-b708-8ad3223827f8",
   "metadata": {},
   "outputs": [],
   "source": [
    "%matplotlib qt\n",
    "import numpy as np\n",
    "import matplotlib.pyplot as plt\n",
    "from skimage import io as skio"
   ]
  },
  {
   "cell_type": "code",
   "execution_count": 38,
   "id": "dcc4dd26-af6c-47a4-ba33-d8cf6bb12056",
   "metadata": {},
   "outputs": [
    {
     "name": "stdout",
     "output_type": "stream",
     "text": [
      "800\n"
     ]
    },
    {
     "data": {
      "text/plain": [
       "[<matplotlib.lines.Line2D at 0x7fc18350d130>]"
      ]
     },
     "execution_count": 38,
     "metadata": {},
     "output_type": "execute_result"
    }
   ],
   "source": [
    "g = skio.imread('einstein_gray.png')/255\n",
    "g = g[100,:].ravel()\n",
    "N = len(g)\n",
    "print(N)\n",
    "\n",
    "# generate noisy signal\n",
    "f = g + np.random.randn(N) * 0.05\n",
    "\n",
    "plt.close(1)\n",
    "plt.figure(1, figsize=(20,10))\n",
    "plt.plot(f, linewidth=0.5, color=\"black\")\n",
    "plt.plot(g, linewidth=4.0, color=\"red\")"
   ]
  },
  {
   "cell_type": "code",
   "execution_count": 36,
   "id": "69b28940-e867-443b-b263-81489cc6922c",
   "metadata": {},
   "outputs": [
    {
     "data": {
      "text/plain": [
       "[<matplotlib.lines.Line2D at 0x7fc183df3e20>]"
      ]
     },
     "execution_count": 36,
     "metadata": {},
     "output_type": "execute_result"
    }
   ],
   "source": [
    "# number of labels\n",
    "L = 1000\n",
    "\n",
    "# labels\n",
    "labels = np.linspace(0, 1, L)\n",
    "\n",
    "# regularization strength\n",
    "lamb = 0.1\n",
    "\n",
    "# denoised signal\n",
    "u = np.zeros(N)\n",
    "\n",
    "# unaries\n",
    "theta_i = (labels[np.newaxis, :] - f[:, np.newaxis]) ** 2 / 2.0\n",
    "\n",
    "# pairwise are absolute differences !\n",
    "theta_ij = lamb * np.abs(labels[np.newaxis, :] - labels[:, np.newaxis])\n",
    "\n",
    "\n",
    "# ...\n",
    "\n",
    "plt.close(2)\n",
    "plt.figure(2, figsize=(20,10))\n",
    "plt.plot(f, linewidth=0.5, color=\"black\")\n",
    "plt.plot(u / (L - 1), linewidth=4.0, color=\"blue\")"
   ]
  },
  {
   "cell_type": "code",
   "execution_count": null,
   "id": "d8bc5c7b-ae74-4299-b05d-b15be2c5a821",
   "metadata": {},
   "outputs": [],
   "source": []
  }
 ],
 "metadata": {
  "kernelspec": {
   "display_name": "Python 3 (ipykernel)",
   "language": "python",
   "name": "python3"
  },
  "language_info": {
   "codemirror_mode": {
    "name": "ipython",
    "version": 3
   },
   "file_extension": ".py",
   "mimetype": "text/x-python",
   "name": "python",
   "nbconvert_exporter": "python",
   "pygments_lexer": "ipython3",
   "version": "3.9.1"
  },
  "widgets": {
   "application/vnd.jupyter.widget-state+json": {
    "state": {},
    "version_major": 2,
    "version_minor": 0
   }
  }
 },
 "nbformat": 4,
 "nbformat_minor": 5
}
