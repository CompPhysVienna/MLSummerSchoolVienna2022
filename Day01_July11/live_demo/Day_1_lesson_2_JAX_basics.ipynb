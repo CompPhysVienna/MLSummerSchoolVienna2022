{
  "nbformat": 4,
  "nbformat_minor": 0,
  "metadata": {
    "colab": {
      "name": "Day_1_lesson_2_JAX_basics.ipynb",
      "provenance": [],
      "collapsed_sections": []
    },
    "kernelspec": {
      "name": "python3",
      "display_name": "Python 3"
    },
    "language_info": {
      "name": "python"
    }
  },
  "cells": [
    {
      "cell_type": "code",
      "execution_count": 12,
      "metadata": {
        "id": "Qirnc8mqT2kw"
      },
      "outputs": [],
      "source": [
        "import numpy as np\n",
        "import matplotlib.pyplot as plt\n",
        "import jax\n",
        "import jax.numpy as jnp\n",
        "from typing import List\n",
        "import time"
      ]
    },
    {
      "cell_type": "code",
      "source": [
        "def polynomial(x, coeffs):\n",
        "  y = jnp.zeros_like(x)\n",
        "  for k, c in enumerate(coeffs):\n",
        "    y += c * x ** k\n",
        "  return y\n",
        "\n",
        "\n",
        "polymial_compiled = jax.jit(polynomial)\n",
        "\n",
        "coeffs = np.random.normal(size=50)\n",
        "coeffs2 = np.random.normal(size=50)\n",
        "x = jnp.linspace(-2, 3, 100)\n",
        "\n",
        "t0 = time.time()\n",
        "y = polynomial(x, coeffs)\n",
        "t1 = time.time()\n",
        "y = polymial_compiled(x, coeffs)\n",
        "t2 = time.time()\n",
        "y = polymial_compiled(x, coeffs2)\n",
        "t3 = time.time()\n",
        "\n",
        "print(f\"Regular python                 : {t1-t0:.5f}\")\n",
        "print(f\"JIT compiled: first run        : {t2-t1:.5f}\")\n",
        "print(f\"JIT compiled: other runs       : {t3-t2:.5f}\")\n",
        "\n",
        "plt.plot(x,y)\n"
      ],
      "metadata": {
        "colab": {
          "base_uri": "https://localhost:8080/",
          "height": 345
        },
        "id": "DOXRr4WHUCpi",
        "outputId": "6500f7fb-b737-4db4-cf80-238be8faf833"
      },
      "execution_count": 26,
      "outputs": [
        {
          "output_type": "stream",
          "name": "stdout",
          "text": [
            "Regular python                 : 0.00653\n",
            "JIT compiled: first run        : 0.30031\n",
            "JIT compiled: other runs       : 0.00010\n"
          ]
        },
        {
          "output_type": "execute_result",
          "data": {
            "text/plain": [
              "[<matplotlib.lines.Line2D at 0x7fb22abd61d0>]"
            ]
          },
          "metadata": {},
          "execution_count": 26
        },
        {
          "output_type": "display_data",
          "data": {
            "text/plain": [
              "<Figure size 432x288 with 1 Axes>"
            ],
            "image/png": "[encoded data removed]"
          },
          "metadata": {
            "needs_background": "light"
          }
        }
      ]
    },
    {
      "cell_type": "code",
      "source": [
        "coeffs = np.random.normal(size=[50, 100])\n",
        "print(coeffs.shape)\n",
        "\n",
        "coeffs = np.random.normal(size=[100, 50]) # 100 polynomials, each of degree 50\n",
        "x = jnp.linspace(-2, 3, 500)\n",
        "\n",
        "polynomial_vectorized = jax.jit(jax.vmap(polynomial, in_axes=(None, 0), out_axes=0))\n",
        "y = polynomial_vectorized(x, coeffs)\n",
        "print(x.shape)\n",
        "print(\"coeffs.shape\", coeffs.shape)\n",
        "print(\"output shape\", y.shape)\n"
      ],
      "metadata": {
        "colab": {
          "base_uri": "https://localhost:8080/"
        },
        "id": "732HPO80YhIx",
        "outputId": "669ac764-da21-42d5-eac0-a707b2f43819"
      },
      "execution_count": 41,
      "outputs": [
        {
          "output_type": "stream",
          "name": "stdout",
          "text": [
            "(50, 100)\n",
            "(500,)\n",
            "coeffs.shape (100, 50)\n",
            "output shape (100, 500)\n"
          ]
        }
      ]
    },
    {
      "cell_type": "code",
      "source": [
        "def poly_deriv(x, coeffs):\n",
        "  y = jnp.zeros_like(x)\n",
        "  for k, c in enumerate(coeffs):\n",
        "    if k == 0:\n",
        "      pass\n",
        "    else:\n",
        "      y += c * x ** (k-1) * k\n",
        "  return y\n",
        "\n",
        "poly_deriv_auto = jax.vmap(jax.grad(polynomial, argnums=0), in_axes=(0, None))\n",
        "\n",
        "coeffs = [1,2,3, -2]\n",
        "x = jnp.linspace(-2, 3, 500)\n",
        "y = polynomial(x, coeffs)\n",
        "y_deriv_manual = poly_deriv(x, coeffs)\n",
        "y_deriv_auto = poly_deriv_auto(x, coeffs)\n",
        "\n",
        "plt.plot(x, y, label=\"y\")\n",
        "plt.plot(x, y_deriv_manual, label=\"y' manual\")\n",
        "plt.plot(x, y_deriv_auto, label=\"y' auto\", ls='--')\n",
        "plt.legend()\n",
        "\n"
      ],
      "metadata": {
        "colab": {
          "base_uri": "https://localhost:8080/",
          "height": 282
        },
        "id": "aPsL_venbUnD",
        "outputId": "d1baa3d8-eaee-48df-e9de-76101978fb92"
      },
      "execution_count": 48,
      "outputs": [
        {
          "output_type": "execute_result",
          "data": {
            "text/plain": [
              "<matplotlib.legend.Legend at 0x7fb22a543f10>"
            ]
          },
          "metadata": {},
          "execution_count": 48
        },
        {
          "output_type": "display_data",
          "data": {
            "text/plain": [
              "<Figure size 432x288 with 1 Axes>"
            ],
            "image/png": "[encoded data removed]"
          },
          "metadata": {
            "needs_background": "light"
          }
        }
      ]
    }
  ]
}