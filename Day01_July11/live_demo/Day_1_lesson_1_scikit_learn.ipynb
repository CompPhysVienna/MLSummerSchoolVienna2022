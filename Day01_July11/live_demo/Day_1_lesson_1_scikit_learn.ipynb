{
  "nbformat": 4,
  "nbformat_minor": 0,
  "metadata": {
    "colab": {
      "name": "Day_1_lesson_1_scikit_learn.ipynb",
      "provenance": [],
      "collapsed_sections": [],
      "toc_visible": true
    },
    "kernelspec": {
      "name": "python3",
      "display_name": "Python 3"
    },
    "language_info": {
      "name": "python"
    }
  },
  "cells": [
    {
      "cell_type": "code",
      "execution_count": 2,
      "metadata": {
        "id": "kU3Cbnq87fpY"
      },
      "outputs": [],
      "source": [
        "# Welcome to the 1. tutorial!\n",
        "\n",
        "# 1) If you don't have a laptop or have no experience coding: Pair up!\n",
        "# 2) Open up https://colab.research.google.com/ => New notebook\n",
        "# 3) Take a look a the github: \n",
        "#    https://github.com/CompPhysVienna/MLSummerSchoolVienna2022 => Day1\n"
      ]
    },
    {
      "cell_type": "code",
      "source": [
        "import numpy as np\n",
        "import matplotlib.pyplot as plt\n",
        "import sklearn\n",
        "from sklearn.datasets import load_digits\n",
        "from sklearn.naive_bayes import GaussianNB\n",
        "from sklearn.metrics import accuracy_score\n",
        "from sklearn.model_selection import train_test_split\n",
        "from sklearn.tree import DecisionTreeClassifier\n",
        "from sklearn.decomposition import PCA # principal component analysis\n",
        "from sklearn.pipeline import Pipeline\n",
        "from sklearn.linear_model import LogisticRegression\n",
        "\n",
        "data = load_digits()\n",
        "X = data.images\n",
        "y = data.target\n",
        "\n",
        "ind = np.random.randint(len(X))\n",
        "plt.imshow(X[ind])\n",
        "plt.title(y[ind])\n",
        "X = X.reshape([-1, 64])\n",
        "X_train, X_test, y_train, y_test = train_test_split(X, y, train_size=0.8)\n",
        "print(X_train.shape)\n",
        "print(X_test.shape)\n",
        "print(X.shape)\n"
      ],
      "metadata": {
        "colab": {
          "base_uri": "https://localhost:8080/",
          "height": 333
        },
        "id": "AE0lFrMi9N3y",
        "outputId": "a8aba9b7-4adf-495d-c397-7142e4cdfbe2"
      },
      "execution_count": 41,
      "outputs": [
        {
          "output_type": "stream",
          "name": "stdout",
          "text": [
            "(1437, 64)\n",
            "(360, 64)\n",
            "(1797, 64)\n"
          ]
        },
        {
          "output_type": "display_data",
          "data": {
            "text/plain": [
              "<Figure size 432x288 with 1 Axes>"
            ],
            "image/png": "[encoded data removed]"
          },
          "metadata": {
            "needs_background": "light"
          }
        }
      ]
    },
    {
      "cell_type": "code",
      "source": [
        "\n",
        "model = Pipeline([('pca', PCA(n_components=10)), ('naive_bayes', GaussianNB())])\n",
        "\n",
        "#model = GaussianNB()\n",
        "#model = DecisionTreeClassifier()\n",
        "model.fit(X_train, y_train)\n",
        "\n",
        "y_pred_train = model.predict(X_train)\n",
        "y_pred_test = model.predict(X_test)\n",
        "accuracy_train = accuracy_score(y_train, y_pred_train)\n",
        "accuracy_test = accuracy_score(y_test, y_pred_test)\n",
        "print(f\"Accuracy train: {accuracy_train:.1%}\")\n",
        "print(f\"Accuracy test: {accuracy_test:.1%}\")\n",
        "\n",
        "#fig, axes = plt.subplots(2,5, figsize=(10,8))\n",
        "#for theta, ax in zip(model.theta_, axes.flatten()):\n",
        "#  ax.imshow(theta.reshape([8,8]), cmap='binary')\n",
        "#  ax.axis(\"off\")\n",
        "\n",
        "#img = np.zeros([8,8])\n",
        "#img[:, 3] = 15\n",
        "#img = img.reshape([1, 64])\n",
        "#y_p = model.predict(img)\n",
        "\n",
        "#plt.figure()\n",
        "#plt.imshow(img.reshape([8,8]), cmap='binary')\n",
        "#plt.title(y_p[0], fontsize=40)\n",
        "\n"
      ],
      "metadata": {
        "colab": {
          "base_uri": "https://localhost:8080/"
        },
        "id": "53NGEnvaKmIN",
        "outputId": "5cbd465b-c458-4ea3-c3df-3e88be638b84"
      },
      "execution_count": 42,
      "outputs": [
        {
          "output_type": "stream",
          "name": "stdout",
          "text": [
            "Accuracy train: 91.9%\n",
            "Accuracy test: 90.3%\n"
          ]
        }
      ]
    },
    {
      "cell_type": "code",
      "source": [
        ""
      ],
      "metadata": {
        "id": "9jMqFRSeLLPZ"
      },
      "execution_count": null,
      "outputs": []
    }
  ]
}