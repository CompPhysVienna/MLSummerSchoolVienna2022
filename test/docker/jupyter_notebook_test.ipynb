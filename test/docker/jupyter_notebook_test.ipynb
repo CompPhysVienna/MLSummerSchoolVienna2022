{
 "cells": [
  {
   "cell_type": "code",
   "execution_count": null,
   "metadata": {},
   "outputs": [],
   "source": [
    "import warnings\n",
    "warnings.filterwarnings('ignore', category=DeprecationWarning)\n",
    "warnings.filterwarnings('ignore', category=UserWarning)\n",
    "import nglview as nv\n",
    "import matplotlib.pyplot as plt\n",
    "import MDAnalysis as mda\n",
    "import MDAnalysis.analysis.rdf\n",
    "import warnings\n",
    "import qml\n",
    "from qml import representations\n",
    "import numpy as np\n",
    "from glob import glob\n",
    "from sklearn.metrics.pairwise import rbf_kernel"
   ]
  },
  {
   "cell_type": "code",
   "execution_count": null,
   "metadata": {
    "scrolled": true
   },
   "outputs": [],
   "source": [
    "import warnings\n",
    "warnings.filterwarnings('ignore', category=DeprecationWarning)\n",
    "import MDAnalysis as mda\n",
    "import MDAnalysis.analysis.rdf\n",
    "\n",
    "mda_traj = mda.Universe(\"./traj.dump\", topology_format=\"LAMMPSDUMP\")\n",
    "atomtypes_to_names = []\n",
    "for i in range(len(mda_traj.atoms)):\n",
    "    if mda_traj.atoms[i].type == \"1\":\n",
    "        atomtypes_to_names.append(\"O\")\n",
    "    elif mda_traj.atoms[i].type == \"2\":\n",
    "        atomtypes_to_names.append(\"H\")\n",
    "mda_traj.add_TopologyAttr(\"name\", atomtypes_to_names)\n",
    "\n",
    "mda_view = nv.show_mdanalysis(mda_traj)\n",
    "mda_view.clear_representations()\n",
    "mda_view.add_representation('spacefill',radius =1)\n",
    "mda_view\n",
    "\n",
    "# IF RENDERING IS TRIPPY, TRY DIFFERENT BROWSER!"
   ]
  },
  {
   "cell_type": "code",
   "execution_count": null,
   "metadata": {},
   "outputs": [],
   "source": [
    "mol = qml.Compound(xyz=\"0001.xyz\")\n",
    "mol.nuclear_charges\n",
    "m = representations.generate_coulomb_matrix(\n",
    "mol.nuclear_charges, mol.coordinates, size=len(mol.nuclear_charges),\n",
    "sorting='row-norm')\n",
    "m"
   ]
  },
  {
   "cell_type": "code",
   "execution_count": null,
   "metadata": {},
   "outputs": [],
   "source": []
  }
 ],
 "metadata": {
  "kernelspec": {
   "display_name": "Python 3",
   "language": "python",
   "name": "python3"
  },
  "language_info": {
   "codemirror_mode": {
    "name": "ipython",
    "version": 3
   },
   "file_extension": ".py",
   "mimetype": "text/x-python",
   "name": "python",
   "nbconvert_exporter": "python",
   "pygments_lexer": "ipython3",
   "version": "3.8.3"
  },
  "vscode": {
   "interpreter": {
    "hash": "d9a8acb4f733d3596df9f6fac9daff15e014d11794ebc65488d1c191c94698fd"
   }
  }
 },
 "nbformat": 4,
 "nbformat_minor": 1
}
