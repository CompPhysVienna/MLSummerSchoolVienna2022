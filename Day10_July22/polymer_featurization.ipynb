{
  "cells": [
    {
      "cell_type": "markdown",
      "metadata": {
        "colab_type": "text",
        "id": "view-in-github"
      },
      "source": [
        "<a href=\"https://colab.research.google.com/github/CompPhysVienna/MLSummerSchoolVienna/blob/main/Day10_July22/polymer_ml_tutorial.ipynb\" target=\"_parent\"><img src=\"https://colab.research.google.com/assets/colab-badge.svg\" alt=\"Open In Colab\"/></a>"
      ]
    },
    {
      "cell_type": "markdown",
      "metadata": {
        "id": "hCx3Pz1lMvLo"
      },
      "source": [
        "# Polymer Machine Learning via Polymer Database\n",
        "\n",
        "Datasource: http://polymerdatabase.com/polymer%20physics/Polymer%20Tg.html\n",
        "\n",
        "Polymer names were cleaned to have better conformance with `pubchempy` API."
      ]
    },
    {
      "cell_type": "markdown",
      "metadata": {
        "id": "HfTw9DYaNRrs"
      },
      "source": [
        "## Setup"
      ]
    },
    {
      "cell_type": "markdown",
      "metadata": {
        "id": "WVJkutbpNG-P"
      },
      "source": [
        "### Installation"
      ]
    },
    {
      "cell_type": "code",
      "execution_count": null,
      "metadata": {
        "colab": {
          "base_uri": "https://localhost:8080/"
        },
        "id": "qy-o7hKuggL6",
        "outputId": "474fe78f-0bc3-462f-aee7-f6ad3861cb8c"
      },
      "outputs": [
        {
          "name": "stdout",
          "output_type": "stream",
          "text": [
            "Requirement already satisfied: pubchempy in /usr/local/lib/python3.7/dist-packages (1.0.4)\n",
            "Requirement already satisfied: deepchem in /usr/local/lib/python3.7/dist-packages (2.6.1)\n",
            "Requirement already satisfied: scikit-learn in /usr/local/lib/python3.7/dist-packages (from deepchem) (1.0.2)\n",
            "Requirement already satisfied: scipy in /usr/local/lib/python3.7/dist-packages (from deepchem) (1.4.1)\n",
            "Requirement already satisfied: joblib in /usr/local/lib/python3.7/dist-packages (from deepchem) (1.1.0)\n",
            "Requirement already satisfied: pandas in /usr/local/lib/python3.7/dist-packages (from deepchem) (1.3.5)\n",
            "Requirement already satisfied: rdkit-pypi in /usr/local/lib/python3.7/dist-packages (from deepchem) (2021.9.4)\n",
            "Requirement already satisfied: numpy>=1.21 in /usr/local/lib/python3.7/dist-packages (from deepchem) (1.21.5)\n",
            "Requirement already satisfied: python-dateutil>=2.7.3 in /usr/local/lib/python3.7/dist-packages (from pandas->deepchem) (2.8.2)\n",
            "Requirement already satisfied: pytz>=2017.3 in /usr/local/lib/python3.7/dist-packages (from pandas->deepchem) (2018.9)\n",
            "Requirement already satisfied: six>=1.5 in /usr/local/lib/python3.7/dist-packages (from python-dateutil>=2.7.3->pandas->deepchem) (1.15.0)\n",
            "Requirement already satisfied: Pillow in /usr/local/lib/python3.7/dist-packages (from rdkit-pypi->deepchem) (7.1.2)\n",
            "Requirement already satisfied: threadpoolctl>=2.0.0 in /usr/local/lib/python3.7/dist-packages (from scikit-learn->deepchem) (3.1.0)\n",
            "Collecting selfies\n",
            "  Downloading selfies-2.0.0-py3-none-any.whl (33 kB)\n",
            "Installing collected packages: selfies\n",
            "Successfully installed selfies-2.0.0\n"
          ]
        }
      ],
      "source": [
        "%pip install pubchempy\n",
        "%pip install deepchem\n",
        "%pip install selfies"
      ]
    },
    {
      "cell_type": "markdown",
      "metadata": {
        "id": "dU3tXY-kNLG_"
      },
      "source": [
        "### Imports"
      ]
    },
    {
      "cell_type": "code",
      "execution_count": null,
      "metadata": {
        "id": "OW9T27U1gvrc"
      },
      "outputs": [],
      "source": [
        "from tqdm import tqdm\n",
        "from time import sleep\n",
        "import numpy as np\n",
        "import pandas as pd\n",
        "import pubchempy as pcp\n",
        "import deepchem as dc\n",
        "import selfies as sf"
      ]
    },
    {
      "cell_type": "markdown",
      "metadata": {
        "id": "YAelq7oaNMXw"
      },
      "source": [
        "### Data"
      ]
    },
    {
      "cell_type": "code",
      "execution_count": null,
      "metadata": {
        "colab": {
          "base_uri": "https://localhost:8080/",
          "height": 423
        },
        "id": "XScgiAqsg2AU",
        "outputId": "cdf9529e-db38-4d02-ca9b-7e6bca149522"
      },
      "outputs": [
        {
          "data": {
            "text/html": [
              "\n",
              "  <div id=\"df-7049de0c-88ee-4b8a-9417-19d60f235855\">\n",
              "    <div class=\"colab-df-container\">\n",
              "      <div>\n",
              "<style scoped>\n",
              "    .dataframe tbody tr th:only-of-type {\n",
              "        vertical-align: middle;\n",
              "    }\n",
              "\n",
              "    .dataframe tbody tr th {\n",
              "        vertical-align: top;\n",
              "    }\n",
              "\n",
              "    .dataframe thead th {\n",
              "        text-align: right;\n",
              "    }\n",
              "</style>\n",
              "<table border=\"1\" class=\"dataframe\">\n",
              "  <thead>\n",
              "    <tr style=\"text-align: right;\">\n",
              "      <th></th>\n",
              "      <th>Amorphous Polymer</th>\n",
              "      <th>name</th>\n",
              "      <th>Tg</th>\n",
              "    </tr>\n",
              "  </thead>\n",
              "  <tbody>\n",
              "    <tr>\n",
              "      <th>0</th>\n",
              "      <td>Poly(chlorotrifluoroethylene)</td>\n",
              "      <td>chlorotrifluoroethylene</td>\n",
              "      <td>87</td>\n",
              "    </tr>\n",
              "    <tr>\n",
              "      <th>1</th>\n",
              "      <td>Poly(vinyl chloride), PVC</td>\n",
              "      <td>vinyl chloride</td>\n",
              "      <td>83</td>\n",
              "    </tr>\n",
              "    <tr>\n",
              "      <th>2</th>\n",
              "      <td>Poly(vinyl fluoride), PVF</td>\n",
              "      <td>vinyl fluoride</td>\n",
              "      <td>52</td>\n",
              "    </tr>\n",
              "    <tr>\n",
              "      <th>3</th>\n",
              "      <td>Poly(vinylidene chloride), PVDC</td>\n",
              "      <td>vinylidene chloride</td>\n",
              "      <td>-17</td>\n",
              "    </tr>\n",
              "    <tr>\n",
              "      <th>4</th>\n",
              "      <td>Poly(vinylidene fluoride), PVDF</td>\n",
              "      <td>vinylidene fluoride</td>\n",
              "      <td>-34</td>\n",
              "    </tr>\n",
              "    <tr>\n",
              "      <th>...</th>\n",
              "      <td>...</td>\n",
              "      <td>...</td>\n",
              "      <td>...</td>\n",
              "    </tr>\n",
              "    <tr>\n",
              "      <th>217</th>\n",
              "      <td>Poly(methyl vinyl thioether)</td>\n",
              "      <td>methyl vinyl thioether</td>\n",
              "      <td>28</td>\n",
              "    </tr>\n",
              "    <tr>\n",
              "      <th>218</th>\n",
              "      <td>Poly(vinyl phenyl sulfide)</td>\n",
              "      <td>vinyl phenyl sulfide</td>\n",
              "      <td>-20</td>\n",
              "    </tr>\n",
              "    <tr>\n",
              "      <th>219</th>\n",
              "      <td>Poly(ethyl vinyl thioether)</td>\n",
              "      <td>ethyl vinyl thioether</td>\n",
              "      <td>-7</td>\n",
              "    </tr>\n",
              "    <tr>\n",
              "      <th>220</th>\n",
              "      <td>Poly(methyl vinyl thioether)</td>\n",
              "      <td>methyl vinyl thioether</td>\n",
              "      <td>-1</td>\n",
              "    </tr>\n",
              "    <tr>\n",
              "      <th>221</th>\n",
              "      <td>Poly(vinyl phenyl sulfide)</td>\n",
              "      <td>vinyl phenyl sulfide</td>\n",
              "      <td>113</td>\n",
              "    </tr>\n",
              "  </tbody>\n",
              "</table>\n",
              "<p>222 rows × 3 columns</p>\n",
              "</div>\n",
              "      <button class=\"colab-df-convert\" onclick=\"convertToInteractive('df-7049de0c-88ee-4b8a-9417-19d60f235855')\"\n",
              "              title=\"Convert this dataframe to an interactive table.\"\n",
              "              style=\"display:none;\">\n",
              "        \n",
              "  <svg xmlns=\"http://www.w3.org/2000/svg\" height=\"24px\"viewBox=\"0 0 24 24\"\n",
              "       width=\"24px\">\n",
              "    <path d=\"M0 0h24v24H0V0z\" fill=\"none\"/>\n",
              "    <path d=\"M18.56 5.44l.94 2.06.94-2.06 2.06-.94-2.06-.94-.94-2.06-.94 2.06-2.06.94zm-11 1L8.5 8.5l.94-2.06 2.06-.94-2.06-.94L8.5 2.5l-.94 2.06-2.06.94zm10 10l.94 2.06.94-2.06 2.06-.94-2.06-.94-.94-2.06-.94 2.06-2.06.94z\"/><path d=\"M17.41 7.96l-1.37-1.37c-.4-.4-.92-.59-1.43-.59-.52 0-1.04.2-1.43.59L10.3 9.45l-7.72 7.72c-.78.78-.78 2.05 0 2.83L4 21.41c.39.39.9.59 1.41.59.51 0 1.02-.2 1.41-.59l7.78-7.78 2.81-2.81c.8-.78.8-2.07 0-2.86zM5.41 20L4 18.59l7.72-7.72 1.47 1.35L5.41 20z\"/>\n",
              "  </svg>\n",
              "      </button>\n",
              "      \n",
              "  <style>\n",
              "    .colab-df-container {\n",
              "      display:flex;\n",
              "      flex-wrap:wrap;\n",
              "      gap: 12px;\n",
              "    }\n",
              "\n",
              "    .colab-df-convert {\n",
              "      background-color: #E8F0FE;\n",
              "      border: none;\n",
              "      border-radius: 50%;\n",
              "      cursor: pointer;\n",
              "      display: none;\n",
              "      fill: #1967D2;\n",
              "      height: 32px;\n",
              "      padding: 0 0 0 0;\n",
              "      width: 32px;\n",
              "    }\n",
              "\n",
              "    .colab-df-convert:hover {\n",
              "      background-color: #E2EBFA;\n",
              "      box-shadow: 0px 1px 2px rgba(60, 64, 67, 0.3), 0px 1px 3px 1px rgba(60, 64, 67, 0.15);\n",
              "      fill: #174EA6;\n",
              "    }\n",
              "\n",
              "    [theme=dark] .colab-df-convert {\n",
              "      background-color: #3B4455;\n",
              "      fill: #D2E3FC;\n",
              "    }\n",
              "\n",
              "    [theme=dark] .colab-df-convert:hover {\n",
              "      background-color: #434B5C;\n",
              "      box-shadow: 0px 1px 3px 1px rgba(0, 0, 0, 0.15);\n",
              "      filter: drop-shadow(0px 1px 2px rgba(0, 0, 0, 0.3));\n",
              "      fill: #FFFFFF;\n",
              "    }\n",
              "  </style>\n",
              "\n",
              "      <script>\n",
              "        const buttonEl =\n",
              "          document.querySelector('#df-7049de0c-88ee-4b8a-9417-19d60f235855 button.colab-df-convert');\n",
              "        buttonEl.style.display =\n",
              "          google.colab.kernel.accessAllowed ? 'block' : 'none';\n",
              "\n",
              "        async function convertToInteractive(key) {\n",
              "          const element = document.querySelector('#df-7049de0c-88ee-4b8a-9417-19d60f235855');\n",
              "          const dataTable =\n",
              "            await google.colab.kernel.invokeFunction('convertToInteractive',\n",
              "                                                     [key], {});\n",
              "          if (!dataTable) return;\n",
              "\n",
              "          const docLinkHtml = 'Like what you see? Visit the ' +\n",
              "            '<a target=\"_blank\" href=https://colab.research.google.com/notebooks/data_table.ipynb>data table notebook</a>'\n",
              "            + ' to learn more about interactive tables.';\n",
              "          element.innerHTML = '';\n",
              "          dataTable['output_type'] = 'display_data';\n",
              "          await google.colab.output.renderOutput(dataTable, element);\n",
              "          const docLink = document.createElement('div');\n",
              "          docLink.innerHTML = docLinkHtml;\n",
              "          element.appendChild(docLink);\n",
              "        }\n",
              "      </script>\n",
              "    </div>\n",
              "  </div>\n",
              "  "
            ],
            "text/plain": [
              "                   Amorphous Polymer                     name   Tg\n",
              "0      Poly(chlorotrifluoroethylene)  chlorotrifluoroethylene   87\n",
              "1          Poly(vinyl chloride), PVC           vinyl chloride   83\n",
              "2          Poly(vinyl fluoride), PVF           vinyl fluoride   52\n",
              "3    Poly(vinylidene chloride), PVDC      vinylidene chloride  -17\n",
              "4    Poly(vinylidene fluoride), PVDF      vinylidene fluoride  -34\n",
              "..                               ...                      ...  ...\n",
              "217     Poly(methyl vinyl thioether)   methyl vinyl thioether   28\n",
              "218       Poly(vinyl phenyl sulfide)     vinyl phenyl sulfide  -20\n",
              "219      Poly(ethyl vinyl thioether)    ethyl vinyl thioether   -7\n",
              "220     Poly(methyl vinyl thioether)   methyl vinyl thioether   -1\n",
              "221       Poly(vinyl phenyl sulfide)     vinyl phenyl sulfide  113\n",
              "\n",
              "[222 rows x 3 columns]"
            ]
          },
          "execution_count": 2,
          "metadata": {},
          "output_type": "execute_result"
        }
      ],
      "source": [
        "data = pd.read_csv(\"polymer-database-glass-transition.csv\")\n",
        "df = data.rename(columns = {\"pretty_polymer\": \"name\", \"Tg (deg C)\": \"Tg\"})\n",
        "df"
      ]
    },
    {
      "cell_type": "code",
      "execution_count": null,
      "metadata": {
        "colab": {
          "base_uri": "https://localhost:8080/",
          "height": 300
        },
        "id": "X0dpB_p3lwqr",
        "outputId": "3afb39cd-79a5-48dc-ff57-990e5a5681f6"
      },
      "outputs": [
        {
          "data": {
            "text/html": [
              "\n",
              "  <div id=\"df-5a434e0a-65c9-4770-a59a-b93291afe421\">\n",
              "    <div class=\"colab-df-container\">\n",
              "      <div>\n",
              "<style scoped>\n",
              "    .dataframe tbody tr th:only-of-type {\n",
              "        vertical-align: middle;\n",
              "    }\n",
              "\n",
              "    .dataframe tbody tr th {\n",
              "        vertical-align: top;\n",
              "    }\n",
              "\n",
              "    .dataframe thead th {\n",
              "        text-align: right;\n",
              "    }\n",
              "</style>\n",
              "<table border=\"1\" class=\"dataframe\">\n",
              "  <thead>\n",
              "    <tr style=\"text-align: right;\">\n",
              "      <th></th>\n",
              "      <th>Tg</th>\n",
              "    </tr>\n",
              "  </thead>\n",
              "  <tbody>\n",
              "    <tr>\n",
              "      <th>count</th>\n",
              "      <td>222.000000</td>\n",
              "    </tr>\n",
              "    <tr>\n",
              "      <th>mean</th>\n",
              "      <td>53.351351</td>\n",
              "    </tr>\n",
              "    <tr>\n",
              "      <th>std</th>\n",
              "      <td>82.653138</td>\n",
              "    </tr>\n",
              "    <tr>\n",
              "      <th>min</th>\n",
              "      <td>-105.000000</td>\n",
              "    </tr>\n",
              "    <tr>\n",
              "      <th>25%</th>\n",
              "      <td>-7.750000</td>\n",
              "    </tr>\n",
              "    <tr>\n",
              "      <th>50%</th>\n",
              "      <td>46.500000</td>\n",
              "    </tr>\n",
              "    <tr>\n",
              "      <th>75%</th>\n",
              "      <td>110.000000</td>\n",
              "    </tr>\n",
              "    <tr>\n",
              "      <th>max</th>\n",
              "      <td>327.000000</td>\n",
              "    </tr>\n",
              "  </tbody>\n",
              "</table>\n",
              "</div>\n",
              "      <button class=\"colab-df-convert\" onclick=\"convertToInteractive('df-5a434e0a-65c9-4770-a59a-b93291afe421')\"\n",
              "              title=\"Convert this dataframe to an interactive table.\"\n",
              "              style=\"display:none;\">\n",
              "        \n",
              "  <svg xmlns=\"http://www.w3.org/2000/svg\" height=\"24px\"viewBox=\"0 0 24 24\"\n",
              "       width=\"24px\">\n",
              "    <path d=\"M0 0h24v24H0V0z\" fill=\"none\"/>\n",
              "    <path d=\"M18.56 5.44l.94 2.06.94-2.06 2.06-.94-2.06-.94-.94-2.06-.94 2.06-2.06.94zm-11 1L8.5 8.5l.94-2.06 2.06-.94-2.06-.94L8.5 2.5l-.94 2.06-2.06.94zm10 10l.94 2.06.94-2.06 2.06-.94-2.06-.94-.94-2.06-.94 2.06-2.06.94z\"/><path d=\"M17.41 7.96l-1.37-1.37c-.4-.4-.92-.59-1.43-.59-.52 0-1.04.2-1.43.59L10.3 9.45l-7.72 7.72c-.78.78-.78 2.05 0 2.83L4 21.41c.39.39.9.59 1.41.59.51 0 1.02-.2 1.41-.59l7.78-7.78 2.81-2.81c.8-.78.8-2.07 0-2.86zM5.41 20L4 18.59l7.72-7.72 1.47 1.35L5.41 20z\"/>\n",
              "  </svg>\n",
              "      </button>\n",
              "      \n",
              "  <style>\n",
              "    .colab-df-container {\n",
              "      display:flex;\n",
              "      flex-wrap:wrap;\n",
              "      gap: 12px;\n",
              "    }\n",
              "\n",
              "    .colab-df-convert {\n",
              "      background-color: #E8F0FE;\n",
              "      border: none;\n",
              "      border-radius: 50%;\n",
              "      cursor: pointer;\n",
              "      display: none;\n",
              "      fill: #1967D2;\n",
              "      height: 32px;\n",
              "      padding: 0 0 0 0;\n",
              "      width: 32px;\n",
              "    }\n",
              "\n",
              "    .colab-df-convert:hover {\n",
              "      background-color: #E2EBFA;\n",
              "      box-shadow: 0px 1px 2px rgba(60, 64, 67, 0.3), 0px 1px 3px 1px rgba(60, 64, 67, 0.15);\n",
              "      fill: #174EA6;\n",
              "    }\n",
              "\n",
              "    [theme=dark] .colab-df-convert {\n",
              "      background-color: #3B4455;\n",
              "      fill: #D2E3FC;\n",
              "    }\n",
              "\n",
              "    [theme=dark] .colab-df-convert:hover {\n",
              "      background-color: #434B5C;\n",
              "      box-shadow: 0px 1px 3px 1px rgba(0, 0, 0, 0.15);\n",
              "      filter: drop-shadow(0px 1px 2px rgba(0, 0, 0, 0.3));\n",
              "      fill: #FFFFFF;\n",
              "    }\n",
              "  </style>\n",
              "\n",
              "      <script>\n",
              "        const buttonEl =\n",
              "          document.querySelector('#df-5a434e0a-65c9-4770-a59a-b93291afe421 button.colab-df-convert');\n",
              "        buttonEl.style.display =\n",
              "          google.colab.kernel.accessAllowed ? 'block' : 'none';\n",
              "\n",
              "        async function convertToInteractive(key) {\n",
              "          const element = document.querySelector('#df-5a434e0a-65c9-4770-a59a-b93291afe421');\n",
              "          const dataTable =\n",
              "            await google.colab.kernel.invokeFunction('convertToInteractive',\n",
              "                                                     [key], {});\n",
              "          if (!dataTable) return;\n",
              "\n",
              "          const docLinkHtml = 'Like what you see? Visit the ' +\n",
              "            '<a target=\"_blank\" href=https://colab.research.google.com/notebooks/data_table.ipynb>data table notebook</a>'\n",
              "            + ' to learn more about interactive tables.';\n",
              "          element.innerHTML = '';\n",
              "          dataTable['output_type'] = 'display_data';\n",
              "          await google.colab.output.renderOutput(dataTable, element);\n",
              "          const docLink = document.createElement('div');\n",
              "          docLink.innerHTML = docLinkHtml;\n",
              "          element.appendChild(docLink);\n",
              "        }\n",
              "      </script>\n",
              "    </div>\n",
              "  </div>\n",
              "  "
            ],
            "text/plain": [
              "               Tg\n",
              "count  222.000000\n",
              "mean    53.351351\n",
              "std     82.653138\n",
              "min   -105.000000\n",
              "25%     -7.750000\n",
              "50%     46.500000\n",
              "75%    110.000000\n",
              "max    327.000000"
            ]
          },
          "execution_count": 3,
          "metadata": {},
          "output_type": "execute_result"
        }
      ],
      "source": [
        "df.describe()"
      ]
    },
    {
      "cell_type": "markdown",
      "metadata": {
        "id": "C9rgJVnGNT97"
      },
      "source": [
        "## PubChemPy"
      ]
    },
    {
      "cell_type": "markdown",
      "metadata": {
        "id": "DcrDbJFGNXOz"
      },
      "source": [
        "### Basic Usage\n",
        "See https://pubchempy.readthedocs.io/en/latest/guide/gettingstarted.html#getting-started"
      ]
    },
    {
      "cell_type": "code",
      "execution_count": null,
      "metadata": {
        "colab": {
          "base_uri": "https://localhost:8080/"
        },
        "id": "d8KBE5l9meV6",
        "outputId": "08903b49-f37c-4d3e-e7d5-f6cd87c6739a"
      },
      "outputs": [
        {
          "data": {
            "text/plain": [
              "[{'CID': 6324, 'IsomericSMILES': 'CC'}]"
            ]
          },
          "execution_count": 4,
          "metadata": {},
          "output_type": "execute_result"
        }
      ],
      "source": [
        "pcp.get_properties('IsomericSMILES', 'CC', 'smiles')"
      ]
    },
    {
      "cell_type": "code",
      "execution_count": null,
      "metadata": {
        "colab": {
          "base_uri": "https://localhost:8080/"
        },
        "id": "422-p_mWELEL",
        "outputId": "8d756f62-7a07-412a-e8fe-6337e945fdc4"
      },
      "outputs": [
        {
          "data": {
            "text/plain": [
              "[{'CID': 13690, 'IsomericSMILES': 'C1CCCCCC(=O)NCCCCC1'}]"
            ]
          },
          "execution_count": 5,
          "metadata": {},
          "output_type": "execute_result"
        }
      ],
      "source": [
        "pcp.get_properties('IsomericSMILES', \"Nylon-12\", \"name\")"
      ]
    },
    {
      "cell_type": "markdown",
      "metadata": {
        "id": "V0zCn7qbNaNL"
      },
      "source": [
        "### Retrieve SMILES Strings\n",
        "Note that the `sleep` command helps prevent \"Server Busy\" errors. Consider increasing this value if the error appears again."
      ]
    },
    {
      "cell_type": "code",
      "execution_count": null,
      "metadata": {
        "colab": {
          "base_uri": "https://localhost:8080/"
        },
        "id": "foyRIYJBl6f5",
        "outputId": "db9da313-5bbe-498b-f8bb-3c4881b6792c"
      },
      "outputs": [
        {
          "name": "stderr",
          "output_type": "stream",
          "text": [
            "100%|██████████| 222/222 [00:55<00:00,  3.98it/s]\n"
          ]
        }
      ],
      "source": [
        "ps = []\n",
        "for name in tqdm(df.name):\n",
        "  # enter your code to retrieve the SMILES strings\n",
        "  # consider how you want to deal with cases of multiple or no entries\n",
        "  sleep(0.1) # to prevent \"Server Busy\" error\n",
        "\n",
        "# assign your new output to df2"
      ]
    },
    {
      "cell_type": "markdown",
      "metadata": {
        "id": "9mtMghAxOFuf"
      },
      "source": [
        "## DeepChem SMILES Featurization"
      ]
    },
    {
      "cell_type": "code",
      "execution_count": null,
      "metadata": {
        "colab": {
          "base_uri": "https://localhost:8080/"
        },
        "id": "cxjRQtBpHolr",
        "outputId": "e9693704-fcf3-4fd3-86fd-77267222798a"
      },
      "outputs": [
        {
          "name": "stdout",
          "output_type": "stream",
          "text": [
            "type:  <class 'numpy.ndarray'>\n",
            "shape:  (100, 35)\n",
            "untransformed:  C(=C(F)Cl)(F)F\n"
          ]
        }
      ],
      "source": [
        "# https://deepchem.readthedocs.io/en/latest/api_reference/featurizers.html#onehotfeaturizer\n",
        "featurizer = dc.feat.OneHotFeaturizer()\n",
        "smiles = df2[\"smiles\"]\n",
        "encodings = featurizer.featurize(smiles)\n",
        "\n",
        "print(\"type: \", type(encodings[0]))\n",
        "print(\"shape: \", encodings[0].shape)\n",
        "print(\"untransformed: \", featurizer.untransform(encodings[0]))"
      ]
    },
    {
      "cell_type": "code",
      "execution_count": null,
      "metadata": {
        "colab": {
          "base_uri": "https://localhost:8080/"
        },
        "id": "toI5oLHeJZzZ",
        "outputId": "eabbc014-fe26-419b-86a7-2086a4377df2"
      },
      "outputs": [
        {
          "name": "stdout",
          "output_type": "stream",
          "text": [
            "[[0. 0. 0. ... 0. 0. 0.]\n",
            " [0. 0. 1. ... 0. 0. 0.]\n",
            " [0. 0. 0. ... 0. 0. 0.]\n",
            " ...\n",
            " [0. 0. 0. ... 0. 0. 1.]\n",
            " [0. 0. 0. ... 0. 0. 1.]\n",
            " [0. 0. 0. ... 0. 0. 1.]]\n",
            "100.0\n"
          ]
        }
      ],
      "source": [
        "print(encodings[0])\n",
        "print(encodings[0].sum())"
      ]
    },
    {
      "cell_type": "markdown",
      "metadata": {
        "id": "QTxZ4MS3OIV_"
      },
      "source": [
        "## SELFIES Featurization"
      ]
    },
    {
      "cell_type": "markdown",
      "metadata": {
        "id": "9LQdX5PeObIY"
      },
      "source": [
        "### Basic Usage\n",
        "\n"
      ]
    },
    {
      "cell_type": "code",
      "execution_count": null,
      "metadata": {
        "id": "2T7Us73jJ5kd"
      },
      "outputs": [],
      "source": [
        "# https://github.com/aspuru-guzik-group/selfies#translation-between-selfies-and-smiles-representations\n",
        "# SMILES -> SELFIES -> SMILES translation\n",
        "benzene = \"c1ccccc1\"\n",
        "try:\n",
        "    benzene_sf = sf.encoder(benzene)  # [C][=C][C][=C][C][=C][Ring1][=Branch1]\n",
        "    benzene_smi = sf.decoder(benzene_sf)  # C1=CC=CC=C1\n",
        "except sf.EncoderError:\n",
        "    pass  # sf.encoder error!\n",
        "except sf.DecoderError:\n",
        "    pass  # sf.decoder error!\n",
        "\n",
        "len_benzene = sf.len_selfies(benzene_sf)  # 8"
      ]
    },
    {
      "cell_type": "markdown",
      "metadata": {
        "id": "BRnzVkx7Ohcx"
      },
      "source": [
        "### One-hot Encoding Example"
      ]
    },
    {
      "cell_type": "code",
      "execution_count": null,
      "metadata": {
        "colab": {
          "base_uri": "https://localhost:8080/"
        },
        "id": "Vv_vRLkdK_aA",
        "outputId": "6a885ba4-0e5f-4eae-e8f4-05c9daa61c88"
      },
      "outputs": [
        {
          "name": "stdout",
          "output_type": "stream",
          "text": [
            "[1, 3, 1, 4, 4] [[0, 1, 0, 0, 0], [0, 0, 0, 1, 0], [0, 1, 0, 0, 0], [0, 0, 0, 0, 1], [0, 0, 0, 0, 1]]\n"
          ]
        }
      ],
      "source": [
        "# https://github.com/aspuru-guzik-group/selfies#integer-and-one-hot-encoding-selfies\n",
        "dataset = [\"[C][O][C]\", \"[F][C][F]\", \"[O][=O]\", \"[C][C][O][C][C]\"]\n",
        "alphabet = sf.get_alphabet_from_selfies(dataset)\n",
        "alphabet.add(\"[nop]\")  # [nop] is a special padding symbol\n",
        "alphabet = list(sorted(alphabet))  # ['[=O]', '[C]', '[F]', '[O]', '[nop]']\n",
        "\n",
        "pad_to_len = max(sf.len_selfies(s) for s in dataset)  # 5\n",
        "symbol_to_idx = {s: i for i, s in enumerate(alphabet)}\n",
        "\n",
        "dimethyl_ether = dataset[0]  # [C][O][C]\n",
        "\n",
        "label, one_hot = sf.selfies_to_encoding(\n",
        "   selfies=dimethyl_ether,\n",
        "   vocab_stoi=symbol_to_idx,\n",
        "   pad_to_len=pad_to_len,\n",
        "   enc_type=\"both\"\n",
        ")\n",
        "print(label, one_hot)"
      ]
    }
  ],
  "metadata": {
    "colab": {
      "authorship_tag": "ABX9TyPIp6yfABE4ja92ztYcaywK",
      "collapsed_sections": [],
      "include_colab_link": true,
      "mount_file_id": "14ujlSIrhUx_5kVarWXDVigKTmvtvi1kc",
      "name": "polymer-ml-tutorial.ipynb",
      "provenance": []
    },
    "kernelspec": {
      "display_name": "Python 3.8.0 ('test')",
      "language": "python",
      "name": "python3"
    },
    "language_info": {
      "name": "python",
      "version": "3.8.0"
    },
    "vscode": {
      "interpreter": {
        "hash": "78688968942db497a045abc38e05c6d604f09d947275f573a056c4f4a2909c1a"
      }
    }
  },
  "nbformat": 4,
  "nbformat_minor": 0
}
