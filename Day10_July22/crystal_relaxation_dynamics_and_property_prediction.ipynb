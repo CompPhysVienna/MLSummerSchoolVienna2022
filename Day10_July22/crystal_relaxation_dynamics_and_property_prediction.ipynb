{
 "cells": [
  {
   "cell_type": "markdown",
   "metadata": {},
   "source": [
    "Modified from [m3gnet README](https://github.com/materialsvirtuallab/m3gnet)"
   ]
  },
  {
   "cell_type": "code",
   "execution_count": 2,
   "metadata": {},
   "outputs": [
    {
     "name": "stdout",
     "output_type": "stream",
     "text": [
      "Requirement already satisfied: m3gnet in c:\\users\\sterg\\miniconda3\\envs\\vienna\\lib\\site-packages (0.0.7)\n",
      "Requirement already satisfied: ase in c:\\users\\sterg\\miniconda3\\envs\\vienna\\lib\\site-packages (from m3gnet) (3.22.1)\n",
      "Requirement already satisfied: pymatgen>=2022.1.1 in c:\\users\\sterg\\miniconda3\\envs\\vienna\\lib\\site-packages (from m3gnet) (2022.7.19)\n",
      "Requirement already satisfied: numpy in c:\\users\\sterg\\miniconda3\\envs\\vienna\\lib\\site-packages (from m3gnet) (1.23.1)\n",
      "Requirement already satisfied: monty in c:\\users\\sterg\\miniconda3\\envs\\vienna\\lib\\site-packages (from m3gnet) (2022.4.26)\n",
      "Requirement already satisfied: tensorflow in c:\\users\\sterg\\miniconda3\\envs\\vienna\\lib\\site-packages (from m3gnet) (2.9.1)\n",
      "Requirement already satisfied: cython in c:\\users\\sterg\\miniconda3\\envs\\vienna\\lib\\site-packages (from m3gnet) (0.29.30)\n",
      "Requirement already satisfied: sympy in c:\\users\\sterg\\miniconda3\\envs\\vienna\\lib\\site-packages (from m3gnet) (1.10.1)\n",
      "Requirement already satisfied: spglib>=1.9.9.44 in c:\\users\\sterg\\miniconda3\\envs\\vienna\\lib\\site-packages (from pymatgen>=2022.1.1->m3gnet) (1.16.5)\n",
      "Requirement already satisfied: pandas in c:\\users\\sterg\\miniconda3\\envs\\vienna\\lib\\site-packages (from pymatgen>=2022.1.1->m3gnet) (1.4.3)\n",
      "Requirement already satisfied: scipy>=1.5.0 in c:\\users\\sterg\\miniconda3\\envs\\vienna\\lib\\site-packages (from pymatgen>=2022.1.1->m3gnet) (1.8.1)\n",
      "Requirement already satisfied: requests in c:\\users\\sterg\\miniconda3\\envs\\vienna\\lib\\site-packages (from pymatgen>=2022.1.1->m3gnet) (2.28.1)\n",
      "Requirement already satisfied: tabulate in c:\\users\\sterg\\miniconda3\\envs\\vienna\\lib\\site-packages (from pymatgen>=2022.1.1->m3gnet) (0.8.10)\n",
      "Requirement already satisfied: matplotlib>=1.5 in c:\\users\\sterg\\miniconda3\\envs\\vienna\\lib\\site-packages (from pymatgen>=2022.1.1->m3gnet) (3.5.2)\n",
      "Requirement already satisfied: palettable>=3.1.1 in c:\\users\\sterg\\miniconda3\\envs\\vienna\\lib\\site-packages (from pymatgen>=2022.1.1->m3gnet) (3.3.0)\n",
      "Requirement already satisfied: tqdm in c:\\users\\sterg\\miniconda3\\envs\\vienna\\lib\\site-packages (from pymatgen>=2022.1.1->m3gnet) (4.64.0)\n",
      "Requirement already satisfied: ruamel.yaml>=0.17.0 in c:\\users\\sterg\\miniconda3\\envs\\vienna\\lib\\site-packages (from pymatgen>=2022.1.1->m3gnet) (0.17.21)\n",
      "Requirement already satisfied: plotly>=4.5.0 in c:\\users\\sterg\\miniconda3\\envs\\vienna\\lib\\site-packages (from pymatgen>=2022.1.1->m3gnet) (5.9.0)\n",
      "Requirement already satisfied: pybtex in c:\\users\\sterg\\miniconda3\\envs\\vienna\\lib\\site-packages (from pymatgen>=2022.1.1->m3gnet) (0.24.0)\n",
      "Requirement already satisfied: networkx>=2.2 in c:\\users\\sterg\\miniconda3\\envs\\vienna\\lib\\site-packages (from pymatgen>=2022.1.1->m3gnet) (2.8.5)\n",
      "Requirement already satisfied: uncertainties>=3.1.4 in c:\\users\\sterg\\miniconda3\\envs\\vienna\\lib\\site-packages (from pymatgen>=2022.1.1->m3gnet) (3.1.7)\n",
      "Requirement already satisfied: mpmath>=0.19 in c:\\users\\sterg\\miniconda3\\envs\\vienna\\lib\\site-packages (from sympy->m3gnet) (1.2.1)\n",
      "Requirement already satisfied: termcolor>=1.1.0 in c:\\users\\sterg\\miniconda3\\envs\\vienna\\lib\\site-packages (from tensorflow->m3gnet) (1.1.0)\n",
      "Requirement already satisfied: libclang>=13.0.0 in c:\\users\\sterg\\miniconda3\\envs\\vienna\\lib\\site-packages (from tensorflow->m3gnet) (14.0.1)\n",
      "Requirement already satisfied: packaging in c:\\users\\sterg\\miniconda3\\envs\\vienna\\lib\\site-packages (from tensorflow->m3gnet) (21.3)\n",
      "Requirement already satisfied: h5py>=2.9.0 in c:\\users\\sterg\\miniconda3\\envs\\vienna\\lib\\site-packages (from tensorflow->m3gnet) (3.7.0)\n",
      "Requirement already satisfied: opt-einsum>=2.3.2 in c:\\users\\sterg\\miniconda3\\envs\\vienna\\lib\\site-packages (from tensorflow->m3gnet) (3.3.0)\n",
      "Requirement already satisfied: keras-preprocessing>=1.1.1 in c:\\users\\sterg\\miniconda3\\envs\\vienna\\lib\\site-packages (from tensorflow->m3gnet) (1.1.2)\n",
      "Requirement already satisfied: grpcio<2.0,>=1.24.3 in c:\\users\\sterg\\miniconda3\\envs\\vienna\\lib\\site-packages (from tensorflow->m3gnet) (1.47.0)\n",
      "Requirement already satisfied: keras<2.10.0,>=2.9.0rc0 in c:\\users\\sterg\\miniconda3\\envs\\vienna\\lib\\site-packages (from tensorflow->m3gnet) (2.9.0)\n",
      "Requirement already satisfied: flatbuffers<2,>=1.12 in c:\\users\\sterg\\miniconda3\\envs\\vienna\\lib\\site-packages (from tensorflow->m3gnet) (1.12)\n",
      "Requirement already satisfied: tensorflow-io-gcs-filesystem>=0.23.1 in c:\\users\\sterg\\miniconda3\\envs\\vienna\\lib\\site-packages (from tensorflow->m3gnet) (0.26.0)\n",
      "Requirement already satisfied: setuptools in c:\\users\\sterg\\miniconda3\\envs\\vienna\\lib\\site-packages (from tensorflow->m3gnet) (61.2.0)\n",
      "Requirement already satisfied: gast<=0.4.0,>=0.2.1 in c:\\users\\sterg\\miniconda3\\envs\\vienna\\lib\\site-packages (from tensorflow->m3gnet) (0.4.0)\n",
      "Requirement already satisfied: protobuf<3.20,>=3.9.2 in c:\\users\\sterg\\miniconda3\\envs\\vienna\\lib\\site-packages (from tensorflow->m3gnet) (3.19.4)\n",
      "Requirement already satisfied: tensorboard<2.10,>=2.9 in c:\\users\\sterg\\miniconda3\\envs\\vienna\\lib\\site-packages (from tensorflow->m3gnet) (2.9.1)\n",
      "Requirement already satisfied: wrapt>=1.11.0 in c:\\users\\sterg\\miniconda3\\envs\\vienna\\lib\\site-packages (from tensorflow->m3gnet) (1.14.1)\n",
      "Requirement already satisfied: absl-py>=1.0.0 in c:\\users\\sterg\\miniconda3\\envs\\vienna\\lib\\site-packages (from tensorflow->m3gnet) (1.2.0)\n",
      "Requirement already satisfied: tensorflow-estimator<2.10.0,>=2.9.0rc0 in c:\\users\\sterg\\miniconda3\\envs\\vienna\\lib\\site-packages (from tensorflow->m3gnet) (2.9.0)\n",
      "Requirement already satisfied: six>=1.12.0 in c:\\users\\sterg\\miniconda3\\envs\\vienna\\lib\\site-packages (from tensorflow->m3gnet) (1.16.0)\n",
      "Requirement already satisfied: astunparse>=1.6.0 in c:\\users\\sterg\\miniconda3\\envs\\vienna\\lib\\site-packages (from tensorflow->m3gnet) (1.6.3)\n",
      "Requirement already satisfied: typing-extensions>=3.6.6 in c:\\users\\sterg\\miniconda3\\envs\\vienna\\lib\\site-packages (from tensorflow->m3gnet) (4.3.0)\n",
      "Requirement already satisfied: google-pasta>=0.1.1 in c:\\users\\sterg\\miniconda3\\envs\\vienna\\lib\\site-packages (from tensorflow->m3gnet) (0.2.0)\n",
      "Requirement already satisfied: wheel<1.0,>=0.23.0 in c:\\users\\sterg\\miniconda3\\envs\\vienna\\lib\\site-packages (from astunparse>=1.6.0->tensorflow->m3gnet) (0.37.1)\n",
      "Requirement already satisfied: python-dateutil>=2.7 in c:\\users\\sterg\\miniconda3\\envs\\vienna\\lib\\site-packages (from matplotlib>=1.5->pymatgen>=2022.1.1->m3gnet) (2.8.2)\n",
      "Requirement already satisfied: fonttools>=4.22.0 in c:\\users\\sterg\\miniconda3\\envs\\vienna\\lib\\site-packages (from matplotlib>=1.5->pymatgen>=2022.1.1->m3gnet) (4.34.4)\n",
      "Requirement already satisfied: pyparsing>=2.2.1 in c:\\users\\sterg\\miniconda3\\envs\\vienna\\lib\\site-packages (from matplotlib>=1.5->pymatgen>=2022.1.1->m3gnet) (3.0.9)\n",
      "Requirement already satisfied: pillow>=6.2.0 in c:\\users\\sterg\\miniconda3\\envs\\vienna\\lib\\site-packages (from matplotlib>=1.5->pymatgen>=2022.1.1->m3gnet) (9.2.0)\n",
      "Requirement already satisfied: cycler>=0.10 in c:\\users\\sterg\\miniconda3\\envs\\vienna\\lib\\site-packages (from matplotlib>=1.5->pymatgen>=2022.1.1->m3gnet) (0.11.0)\n",
      "Requirement already satisfied: kiwisolver>=1.0.1 in c:\\users\\sterg\\miniconda3\\envs\\vienna\\lib\\site-packages (from matplotlib>=1.5->pymatgen>=2022.1.1->m3gnet) (1.4.4)\n",
      "Requirement already satisfied: tenacity>=6.2.0 in c:\\users\\sterg\\miniconda3\\envs\\vienna\\lib\\site-packages (from plotly>=4.5.0->pymatgen>=2022.1.1->m3gnet) (8.0.1)\n",
      "Requirement already satisfied: ruamel.yaml.clib>=0.2.6 in c:\\users\\sterg\\miniconda3\\envs\\vienna\\lib\\site-packages (from ruamel.yaml>=0.17.0->pymatgen>=2022.1.1->m3gnet) (0.2.6)\n",
      "Requirement already satisfied: tensorboard-plugin-wit>=1.6.0 in c:\\users\\sterg\\miniconda3\\envs\\vienna\\lib\\site-packages (from tensorboard<2.10,>=2.9->tensorflow->m3gnet) (1.8.1)\n",
      "Requirement already satisfied: tensorboard-data-server<0.7.0,>=0.6.0 in c:\\users\\sterg\\miniconda3\\envs\\vienna\\lib\\site-packages (from tensorboard<2.10,>=2.9->tensorflow->m3gnet) (0.6.1)\n",
      "Requirement already satisfied: markdown>=2.6.8 in c:\\users\\sterg\\miniconda3\\envs\\vienna\\lib\\site-packages (from tensorboard<2.10,>=2.9->tensorflow->m3gnet) (3.4.1)\n",
      "Requirement already satisfied: google-auth<3,>=1.6.3 in c:\\users\\sterg\\miniconda3\\envs\\vienna\\lib\\site-packages (from tensorboard<2.10,>=2.9->tensorflow->m3gnet) (2.9.1)\n",
      "Requirement already satisfied: werkzeug>=1.0.1 in c:\\users\\sterg\\miniconda3\\envs\\vienna\\lib\\site-packages (from tensorboard<2.10,>=2.9->tensorflow->m3gnet) (2.1.2)\n",
      "Requirement already satisfied: google-auth-oauthlib<0.5,>=0.4.1 in c:\\users\\sterg\\miniconda3\\envs\\vienna\\lib\\site-packages (from tensorboard<2.10,>=2.9->tensorflow->m3gnet) (0.4.6)\n",
      "Requirement already satisfied: urllib3<1.27,>=1.21.1 in c:\\users\\sterg\\miniconda3\\envs\\vienna\\lib\\site-packages (from requests->pymatgen>=2022.1.1->m3gnet) (1.26.10)\n",
      "Requirement already satisfied: idna<4,>=2.5 in c:\\users\\sterg\\miniconda3\\envs\\vienna\\lib\\site-packages (from requests->pymatgen>=2022.1.1->m3gnet) (3.3)\n",
      "Requirement already satisfied: certifi>=2017.4.17 in c:\\users\\sterg\\miniconda3\\envs\\vienna\\lib\\site-packages (from requests->pymatgen>=2022.1.1->m3gnet) (2022.6.15)\n",
      "Requirement already satisfied: charset-normalizer<3,>=2 in c:\\users\\sterg\\miniconda3\\envs\\vienna\\lib\\site-packages (from requests->pymatgen>=2022.1.1->m3gnet) (2.1.0)\n",
      "Requirement already satisfied: future in c:\\users\\sterg\\miniconda3\\envs\\vienna\\lib\\site-packages (from uncertainties>=3.1.4->pymatgen>=2022.1.1->m3gnet) (0.18.2)\n",
      "Requirement already satisfied: pytz>=2020.1 in c:\\users\\sterg\\miniconda3\\envs\\vienna\\lib\\site-packages (from pandas->pymatgen>=2022.1.1->m3gnet) (2022.1)\n",
      "Requirement already satisfied: latexcodec>=1.0.4 in c:\\users\\sterg\\miniconda3\\envs\\vienna\\lib\\site-packages (from pybtex->pymatgen>=2022.1.1->m3gnet) (2.0.1)\n",
      "Requirement already satisfied: PyYAML>=3.01 in c:\\users\\sterg\\miniconda3\\envs\\vienna\\lib\\site-packages (from pybtex->pymatgen>=2022.1.1->m3gnet) (6.0)\n",
      "Requirement already satisfied: colorama in c:\\users\\sterg\\miniconda3\\envs\\vienna\\lib\\site-packages (from tqdm->pymatgen>=2022.1.1->m3gnet) (0.4.5)\n",
      "Requirement already satisfied: rsa<5,>=3.1.4 in c:\\users\\sterg\\miniconda3\\envs\\vienna\\lib\\site-packages (from google-auth<3,>=1.6.3->tensorboard<2.10,>=2.9->tensorflow->m3gnet) (4.9)\n",
      "Requirement already satisfied: pyasn1-modules>=0.2.1 in c:\\users\\sterg\\miniconda3\\envs\\vienna\\lib\\site-packages (from google-auth<3,>=1.6.3->tensorboard<2.10,>=2.9->tensorflow->m3gnet) (0.2.8)\n",
      "Requirement already satisfied: cachetools<6.0,>=2.0.0 in c:\\users\\sterg\\miniconda3\\envs\\vienna\\lib\\site-packages (from google-auth<3,>=1.6.3->tensorboard<2.10,>=2.9->tensorflow->m3gnet) (5.2.0)\n",
      "Requirement already satisfied: requests-oauthlib>=0.7.0 in c:\\users\\sterg\\miniconda3\\envs\\vienna\\lib\\site-packages (from google-auth-oauthlib<0.5,>=0.4.1->tensorboard<2.10,>=2.9->tensorflow->m3gnet) (1.3.1)\n",
      "Requirement already satisfied: importlib-metadata>=4.4 in c:\\users\\sterg\\miniconda3\\envs\\vienna\\lib\\site-packages (from markdown>=2.6.8->tensorboard<2.10,>=2.9->tensorflow->m3gnet) (4.12.0)\n",
      "Requirement already satisfied: zipp>=0.5 in c:\\users\\sterg\\miniconda3\\envs\\vienna\\lib\\site-packages (from importlib-metadata>=4.4->markdown>=2.6.8->tensorboard<2.10,>=2.9->tensorflow->m3gnet) (3.8.1)\n",
      "Requirement already satisfied: pyasn1<0.5.0,>=0.4.6 in c:\\users\\sterg\\miniconda3\\envs\\vienna\\lib\\site-packages (from pyasn1-modules>=0.2.1->google-auth<3,>=1.6.3->tensorboard<2.10,>=2.9->tensorflow->m3gnet) (0.4.8)\n",
      "Requirement already satisfied: oauthlib>=3.0.0 in c:\\users\\sterg\\miniconda3\\envs\\vienna\\lib\\site-packages (from requests-oauthlib>=0.7.0->google-auth-oauthlib<0.5,>=0.4.1->tensorboard<2.10,>=2.9->tensorflow->m3gnet) (3.2.0)\n",
      "Note: you may need to restart the kernel to use updated packages.\n"
     ]
    }
   ],
   "source": [
    "%pip install m3gnet"
   ]
  },
  {
   "cell_type": "code",
   "execution_count": 3,
   "metadata": {},
   "outputs": [
    {
     "name": "stderr",
     "output_type": "stream",
     "text": [
      "c:\\Users\\sterg\\Miniconda3\\envs\\vienna\\lib\\site-packages\\tensorflow\\python\\framework\\indexed_slices.py:444: UserWarning: Converting sparse IndexedSlices(IndexedSlices(indices=Tensor(\"PartitionedCall:4\", shape=(None,), dtype=int32), values=Tensor(\"PartitionedCall:3\", shape=(None, 3, 3), dtype=float32), dense_shape=Tensor(\"PartitionedCall:5\", shape=(3,), dtype=int32))) to a dense Tensor of unknown shape. This may consume a large amount of memory.\n",
      "  warnings.warn(\n",
      "c:\\Users\\sterg\\Miniconda3\\envs\\vienna\\lib\\site-packages\\tensorflow\\python\\framework\\indexed_slices.py:444: UserWarning: Converting sparse IndexedSlices(IndexedSlices(indices=Tensor(\"PartitionedCall:1\", shape=(104,), dtype=int32), values=Tensor(\"Neg:0\", shape=(104, 3), dtype=float32), dense_shape=Tensor(\"PartitionedCall:2\", shape=(2,), dtype=int32))) to a dense Tensor of unknown shape. This may consume a large amount of memory.\n",
      "  warnings.warn(\n",
      "c:\\Users\\sterg\\Miniconda3\\envs\\vienna\\lib\\site-packages\\tensorflow\\python\\framework\\indexed_slices.py:444: UserWarning: Converting sparse IndexedSlices(IndexedSlices(indices=Tensor(\"gradients/m3g_net/three_d_interaction_2/GatherV2_1_grad/Reshape_1:0\", shape=(364,), dtype=int32), values=Tensor(\"gradients/m3g_net/three_d_interaction_2/GatherV2_1_grad/Reshape:0\", dtype=float32), dense_shape=Tensor(\"gradients/m3g_net/three_d_interaction_2/GatherV2_1_grad/Cast:0\", shape=(None,), dtype=int32))) to a dense Tensor of unknown shape. This may consume a large amount of memory.\n",
      "  warnings.warn(\n",
      "c:\\Users\\sterg\\Miniconda3\\envs\\vienna\\lib\\site-packages\\tensorflow\\python\\framework\\indexed_slices.py:444: UserWarning: Converting sparse IndexedSlices(IndexedSlices(indices=Tensor(\"gradients/m3g_net/graph_network_layer_2/gated_atom_update_2/GatherV2_grad/Reshape_1:0\", shape=(None,), dtype=int32), values=Tensor(\"gradients/m3g_net/graph_network_layer_2/gated_atom_update_2/GatherV2_grad/Reshape:0\", dtype=float32), dense_shape=Tensor(\"gradients/m3g_net/graph_network_layer_2/gated_atom_update_2/GatherV2_grad/Cast:0\", shape=(None,), dtype=int32))) to a dense Tensor of unknown shape. This may consume a large amount of memory.\n",
      "  warnings.warn(\n",
      "c:\\Users\\sterg\\Miniconda3\\envs\\vienna\\lib\\site-packages\\tensorflow\\python\\framework\\indexed_slices.py:444: UserWarning: Converting sparse IndexedSlices(IndexedSlices(indices=Tensor(\"gradients/m3g_net/graph_network_layer_2/gated_atom_update_2/GatherV2_1_grad/Reshape_1:0\", shape=(None,), dtype=int32), values=Tensor(\"gradients/m3g_net/graph_network_layer_2/gated_atom_update_2/GatherV2_1_grad/Reshape:0\", dtype=float32), dense_shape=Tensor(\"gradients/m3g_net/graph_network_layer_2/gated_atom_update_2/GatherV2_1_grad/Cast:0\", shape=(None,), dtype=int32))) to a dense Tensor of unknown shape. This may consume a large amount of memory.\n",
      "  warnings.warn(\n",
      "c:\\Users\\sterg\\Miniconda3\\envs\\vienna\\lib\\site-packages\\tensorflow\\python\\framework\\indexed_slices.py:444: UserWarning: Converting sparse IndexedSlices(IndexedSlices(indices=Tensor(\"gradients/m3g_net/graph_network_layer_2/concat_atoms_2/GatherV2_grad/Reshape_1:0\", shape=(None,), dtype=int32), values=Tensor(\"gradients/m3g_net/graph_network_layer_2/concat_atoms_2/GatherV2_grad/Reshape:0\", dtype=float32), dense_shape=Tensor(\"gradients/m3g_net/graph_network_layer_2/concat_atoms_2/GatherV2_grad/Cast:0\", shape=(None,), dtype=int32))) to a dense Tensor of unknown shape. This may consume a large amount of memory.\n",
      "  warnings.warn(\n",
      "c:\\Users\\sterg\\Miniconda3\\envs\\vienna\\lib\\site-packages\\tensorflow\\python\\framework\\indexed_slices.py:444: UserWarning: Converting sparse IndexedSlices(IndexedSlices(indices=Tensor(\"gradients/m3g_net/three_d_interaction_1/GatherV2_1_grad/Reshape_1:0\", shape=(364,), dtype=int32), values=Tensor(\"gradients/m3g_net/three_d_interaction_1/GatherV2_1_grad/Reshape:0\", dtype=float32), dense_shape=Tensor(\"gradients/m3g_net/three_d_interaction_1/GatherV2_1_grad/Cast:0\", shape=(None,), dtype=int32))) to a dense Tensor of unknown shape. This may consume a large amount of memory.\n",
      "  warnings.warn(\n",
      "c:\\Users\\sterg\\Miniconda3\\envs\\vienna\\lib\\site-packages\\tensorflow\\python\\framework\\indexed_slices.py:444: UserWarning: Converting sparse IndexedSlices(IndexedSlices(indices=Tensor(\"gradients/m3g_net/graph_network_layer_1/gated_atom_update_1/GatherV2_grad/Reshape_1:0\", shape=(None,), dtype=int32), values=Tensor(\"gradients/m3g_net/graph_network_layer_1/gated_atom_update_1/GatherV2_grad/Reshape:0\", dtype=float32), dense_shape=Tensor(\"gradients/m3g_net/graph_network_layer_1/gated_atom_update_1/GatherV2_grad/Cast:0\", shape=(None,), dtype=int32))) to a dense Tensor of unknown shape. This may consume a large amount of memory.\n",
      "  warnings.warn(\n",
      "c:\\Users\\sterg\\Miniconda3\\envs\\vienna\\lib\\site-packages\\tensorflow\\python\\framework\\indexed_slices.py:444: UserWarning: Converting sparse IndexedSlices(IndexedSlices(indices=Tensor(\"gradients/m3g_net/graph_network_layer_1/gated_atom_update_1/GatherV2_1_grad/Reshape_1:0\", shape=(None,), dtype=int32), values=Tensor(\"gradients/m3g_net/graph_network_layer_1/gated_atom_update_1/GatherV2_1_grad/Reshape:0\", dtype=float32), dense_shape=Tensor(\"gradients/m3g_net/graph_network_layer_1/gated_atom_update_1/GatherV2_1_grad/Cast:0\", shape=(None,), dtype=int32))) to a dense Tensor of unknown shape. This may consume a large amount of memory.\n",
      "  warnings.warn(\n",
      "c:\\Users\\sterg\\Miniconda3\\envs\\vienna\\lib\\site-packages\\tensorflow\\python\\framework\\indexed_slices.py:444: UserWarning: Converting sparse IndexedSlices(IndexedSlices(indices=Tensor(\"gradients/m3g_net/graph_network_layer_1/concat_atoms_1/GatherV2_grad/Reshape_1:0\", shape=(None,), dtype=int32), values=Tensor(\"gradients/m3g_net/graph_network_layer_1/concat_atoms_1/GatherV2_grad/Reshape:0\", dtype=float32), dense_shape=Tensor(\"gradients/m3g_net/graph_network_layer_1/concat_atoms_1/GatherV2_grad/Cast:0\", shape=(None,), dtype=int32))) to a dense Tensor of unknown shape. This may consume a large amount of memory.\n",
      "  warnings.warn(\n",
      "c:\\Users\\sterg\\Miniconda3\\envs\\vienna\\lib\\site-packages\\tensorflow\\python\\framework\\indexed_slices.py:444: UserWarning: Converting sparse IndexedSlices(IndexedSlices(indices=Tensor(\"gradients/concat_1:0\", shape=(2184,), dtype=int32), values=Tensor(\"gradients/concat:0\", shape=(2184,), dtype=float32), dense_shape=Tensor(\"gradients/m3g_net/three_d_interaction_2/GatherV2_2_grad/Cast:0\", shape=(1,), dtype=int32))) to a dense Tensor of unknown shape. This may consume a large amount of memory.\n",
      "  warnings.warn(\n",
      "c:\\Users\\sterg\\Miniconda3\\envs\\vienna\\lib\\site-packages\\tensorflow\\python\\framework\\indexed_slices.py:444: UserWarning: Converting sparse IndexedSlices(IndexedSlices(indices=Tensor(\"gradients/m3g_net/GatherV2_5_grad/Reshape_1:0\", shape=(364,), dtype=int32), values=Tensor(\"gradients/m3g_net/GatherV2_5_grad/Reshape:0\", shape=(364,), dtype=float32), dense_shape=Tensor(\"gradients/m3g_net/GatherV2_5_grad/Cast:0\", shape=(1,), dtype=int32))) to a dense Tensor of unknown shape. This may consume a large amount of memory.\n",
      "  warnings.warn(\n",
      "c:\\Users\\sterg\\Miniconda3\\envs\\vienna\\lib\\site-packages\\tensorflow\\python\\framework\\indexed_slices.py:444: UserWarning: Converting sparse IndexedSlices(IndexedSlices(indices=Tensor(\"gradients/m3g_net/GatherV2_6_grad/Reshape_1:0\", shape=(364,), dtype=int32), values=Tensor(\"gradients/m3g_net/GatherV2_6_grad/Reshape:0\", shape=(364,), dtype=float32), dense_shape=Tensor(\"gradients/m3g_net/GatherV2_6_grad/Cast:0\", shape=(1,), dtype=int32))) to a dense Tensor of unknown shape. This may consume a large amount of memory.\n",
      "  warnings.warn(\n",
      "c:\\Users\\sterg\\Miniconda3\\envs\\vienna\\lib\\site-packages\\tensorflow\\python\\framework\\indexed_slices.py:444: UserWarning: Converting sparse IndexedSlices(IndexedSlices(indices=Tensor(\"gradients/m3g_net/GatherV2_3_grad/Reshape_1:0\", shape=(364,), dtype=int32), values=Tensor(\"gradients/m3g_net/GatherV2_3_grad/Reshape:0\", shape=(364, 3), dtype=float32), dense_shape=Tensor(\"gradients/m3g_net/GatherV2_3_grad/Cast:0\", shape=(2,), dtype=int32))) to a dense Tensor of unknown shape. This may consume a large amount of memory.\n",
      "  warnings.warn(\n",
      "c:\\Users\\sterg\\Miniconda3\\envs\\vienna\\lib\\site-packages\\tensorflow\\python\\framework\\indexed_slices.py:444: UserWarning: Converting sparse IndexedSlices(IndexedSlices(indices=Tensor(\"gradients/m3g_net/GatherV2_4_grad/Reshape_1:0\", shape=(364,), dtype=int32), values=Tensor(\"gradients/m3g_net/GatherV2_4_grad/Reshape:0\", shape=(364, 3), dtype=float32), dense_shape=Tensor(\"gradients/m3g_net/GatherV2_4_grad/Cast:0\", shape=(2,), dtype=int32))) to a dense Tensor of unknown shape. This may consume a large amount of memory.\n",
      "  warnings.warn(\n",
      "c:\\Users\\sterg\\Miniconda3\\envs\\vienna\\lib\\site-packages\\tensorflow\\python\\framework\\indexed_slices.py:444: UserWarning: Converting sparse IndexedSlices(IndexedSlices(indices=Tensor(\"PartitionedCall:1\", shape=(None,), dtype=int32), values=Tensor(\"Neg:0\", shape=(None, 3), dtype=float32), dense_shape=Tensor(\"PartitionedCall:2\", shape=(2,), dtype=int32))) to a dense Tensor of unknown shape. This may consume a large amount of memory.\n",
      "  warnings.warn(\n"
     ]
    },
    {
     "name": "stdout",
     "output_type": "stream",
     "text": [
      "Relaxed lattice parameter is  3.169 Å\n",
      "Final energy is -10.859 eV/atom\n"
     ]
    }
   ],
   "source": [
    "from pymatgen.core import Structure, Lattice\n",
    "from m3gnet.models import Relaxer\n",
    "\n",
    "# Init a Mo structure with stretched lattice (DFT lattice constant ~ 3.168)\n",
    "mo = Structure(Lattice.cubic(3.3), [\"Mo\", \"Mo\"], [[0., 0., 0.], [0.5, 0.5, 0.5]])\n",
    "\n",
    "relaxer = Relaxer()  # This loads the default pre-trained model\n",
    "\n",
    "relax_results = relaxer.relax(mo)\n",
    "\n",
    "final_structure = relax_results['final_structure']\n",
    "final_energy = relax_results['trajectory'].energies[-1] / 2\n",
    "\n",
    "print(f\"Relaxed lattice parameter is {final_structure.lattice.abc[0]: .3f} Å\")\n",
    "print(f\"Final energy is {final_energy.item(): .3f} eV/atom\")"
   ]
  },
  {
   "cell_type": "code",
   "execution_count": 1,
   "metadata": {},
   "outputs": [
    {
     "name": "stderr",
     "output_type": "stream",
     "text": [
      "c:\\Users\\sterg\\Miniconda3\\envs\\vienna\\lib\\site-packages\\tensorflow\\python\\framework\\indexed_slices.py:444: UserWarning: Converting sparse IndexedSlices(IndexedSlices(indices=Tensor(\"PartitionedCall:4\", shape=(None,), dtype=int32), values=Tensor(\"PartitionedCall:3\", shape=(None, 3, 3), dtype=float32), dense_shape=Tensor(\"PartitionedCall:5\", shape=(3,), dtype=int32))) to a dense Tensor of unknown shape. This may consume a large amount of memory.\n",
      "  warnings.warn(\n",
      "c:\\Users\\sterg\\Miniconda3\\envs\\vienna\\lib\\site-packages\\tensorflow\\python\\framework\\indexed_slices.py:444: UserWarning: Converting sparse IndexedSlices(IndexedSlices(indices=Tensor(\"PartitionedCall:1\", shape=(104,), dtype=int32), values=Tensor(\"Neg:0\", shape=(104, 3), dtype=float32), dense_shape=Tensor(\"PartitionedCall:2\", shape=(2,), dtype=int32))) to a dense Tensor of unknown shape. This may consume a large amount of memory.\n",
      "  warnings.warn(\n",
      "c:\\Users\\sterg\\Miniconda3\\envs\\vienna\\lib\\site-packages\\ase\\md\\nvtberendsen.py:95: RuntimeWarning: divide by zero encountered in double_scalars\n",
      "  (self.temperature / old_temperature - 1.0) *\n"
     ]
    }
   ],
   "source": [
    "from pymatgen.core import Structure, Lattice\n",
    "from m3gnet.models import MolecularDynamics\n",
    "\n",
    "# Init a Mo structure with stretched lattice (DFT lattice constant ~ 3.168)\n",
    "mo = Structure(Lattice.cubic(3.3),\n",
    "               [\"Mo\", \"Mo\"], [[0., 0., 0.], [0.5, 0.5, 0.5]])\n",
    "\n",
    "md = MolecularDynamics(\n",
    "    atoms=mo,\n",
    "    temperature=1000,  # 1000 K\n",
    "    ensemble='nvt',  # NVT ensemble\n",
    "    timestep=1, # 1fs,\n",
    "    trajectory=\"mo.traj\",  # save trajectory to mo.traj\n",
    "    logfile=\"mo.log\",  # log file for MD\n",
    "    loginterval=100,  # interval for record the log\n",
    ")\n",
    "\n",
    "md.run(steps=1000)"
   ]
  },
  {
   "cell_type": "code",
   "execution_count": null,
   "metadata": {},
   "outputs": [],
   "source": [
    "from m3gnet.models import M3GNet\n",
    "from m3gnet.trainers import Trainer\n",
    "\n",
    "import tensorflow as tf\n",
    "\n",
    "m3gnet = M3GNet(is_intensive=False)\n",
    "\n",
    "trainer = Trainer(\n",
    "    optimizer=tf.keras.optimizers.Adam(1e-3)\n",
    ")\n",
    "\n",
    "trainer.train(\n",
    "    graphs_or_structures=structures,\n",
    "    targets=targets,\n",
    "    validation_graphs_or_structures=val_structures,\n",
    "    validation_targets=validation_targets,\n",
    "    epochs=100,\n",
    "    fit_per_element_offset=True,\n",
    "    save_checkpoint=False,\n",
    ")"
   ]
  }
 ],
 "metadata": {
  "kernelspec": {
   "display_name": "Python 3.9.12 ('vienna')",
   "language": "python",
   "name": "python3"
  },
  "language_info": {
   "codemirror_mode": {
    "name": "ipython",
    "version": 3
   },
   "file_extension": ".py",
   "mimetype": "text/x-python",
   "name": "python",
   "nbconvert_exporter": "python",
   "pygments_lexer": "ipython3",
   "version": "3.9.12"
  },
  "orig_nbformat": 4,
  "vscode": {
   "interpreter": {
    "hash": "d0dd9406c4a59ec714632eda50117c8ea0f00bad684a19b56934665845eaeed6"
   }
  }
 },
 "nbformat": 4,
 "nbformat_minor": 2
}
