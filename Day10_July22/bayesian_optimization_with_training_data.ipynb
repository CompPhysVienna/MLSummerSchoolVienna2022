{
  "nbformat": 4,
  "nbformat_minor": 0,
  "metadata": {
    "colab": {
      "name": "ax-service-existing-data.ipynb",
      "provenance": [],
      "collapsed_sections": []
    },
    "kernelspec": {
      "name": "python3",
      "display_name": "Python 3"
    },
    "language_info": {
      "name": "python"
    }
  },
  "cells": [
    {
      "cell_type": "markdown",
      "source": [
        "See https://github.com/facebook/Ax/issues/743"
      ],
      "metadata": {
        "id": "NKTiUJ3Vt-eU"
      }
    },
    {
      "cell_type": "code",
      "execution_count": null,
      "metadata": {
        "colab": {
          "base_uri": "https://localhost:8080/"
        },
        "id": "JXBQUr9qpYGZ",
        "outputId": "d571470f-eea2-4bde-8196-56ec8f09f364"
      },
      "outputs": [
        {
          "output_type": "stream",
          "name": "stdout",
          "text": [
            "Collecting ax-platform\n",
            "  Downloading ax_platform-0.2.4-py3-none-any.whl (950 kB)\n",
            "\u001b[K     |████████████████████████████████| 950 kB 4.1 MB/s \n",
            "\u001b[?25hRequirement already satisfied: plotly in /usr/local/lib/python3.7/dist-packages (from ax-platform) (5.5.0)\n",
            "Requirement already satisfied: typeguard in /usr/local/lib/python3.7/dist-packages (from ax-platform) (2.7.1)\n",
            "Requirement already satisfied: jinja2 in /usr/local/lib/python3.7/dist-packages (from ax-platform) (2.11.3)\n",
            "Requirement already satisfied: pandas in /usr/local/lib/python3.7/dist-packages (from ax-platform) (1.3.5)\n",
            "Requirement already satisfied: scikit-learn in /usr/local/lib/python3.7/dist-packages (from ax-platform) (1.0.2)\n",
            "Collecting botorch==0.6.2\n",
            "  Downloading botorch-0.6.2-py3-none-any.whl (347 kB)\n",
            "\u001b[K     |████████████████████████████████| 347 kB 40.2 MB/s \n",
            "\u001b[?25hRequirement already satisfied: scipy in /usr/local/lib/python3.7/dist-packages (from ax-platform) (1.4.1)\n",
            "Requirement already satisfied: torch>=1.9 in /usr/local/lib/python3.7/dist-packages (from botorch==0.6.2->ax-platform) (1.10.0+cu111)\n",
            "Collecting multipledispatch\n",
            "  Downloading multipledispatch-0.6.0-py3-none-any.whl (11 kB)\n",
            "Collecting gpytorch>=1.6\n",
            "  Downloading gpytorch-1.6.0.tar.gz (310 kB)\n",
            "\u001b[K     |████████████████████████████████| 310 kB 35.7 MB/s \n",
            "\u001b[?25hRequirement already satisfied: typing-extensions in /usr/local/lib/python3.7/dist-packages (from torch>=1.9->botorch==0.6.2->ax-platform) (3.10.0.2)\n",
            "Requirement already satisfied: MarkupSafe>=0.23 in /usr/local/lib/python3.7/dist-packages (from jinja2->ax-platform) (2.0.1)\n",
            "Requirement already satisfied: six in /usr/local/lib/python3.7/dist-packages (from multipledispatch->botorch==0.6.2->ax-platform) (1.15.0)\n",
            "Requirement already satisfied: numpy>=1.17.3 in /usr/local/lib/python3.7/dist-packages (from pandas->ax-platform) (1.21.5)\n",
            "Requirement already satisfied: pytz>=2017.3 in /usr/local/lib/python3.7/dist-packages (from pandas->ax-platform) (2018.9)\n",
            "Requirement already satisfied: python-dateutil>=2.7.3 in /usr/local/lib/python3.7/dist-packages (from pandas->ax-platform) (2.8.2)\n",
            "Requirement already satisfied: tenacity>=6.2.0 in /usr/local/lib/python3.7/dist-packages (from plotly->ax-platform) (8.0.1)\n",
            "Requirement already satisfied: threadpoolctl>=2.0.0 in /usr/local/lib/python3.7/dist-packages (from scikit-learn->ax-platform) (3.1.0)\n",
            "Requirement already satisfied: joblib>=0.11 in /usr/local/lib/python3.7/dist-packages (from scikit-learn->ax-platform) (1.1.0)\n",
            "Building wheels for collected packages: gpytorch\n",
            "  Building wheel for gpytorch (setup.py) ... \u001b[?25l\u001b[?25hdone\n",
            "  Created wheel for gpytorch: filename=gpytorch-1.6.0-py2.py3-none-any.whl size=509889 sha256=4e6dd423b437d3bf045291417889c2c17b1dd76e96d54e6b8ee98de4f8cb763a\n",
            "  Stored in directory: /root/.cache/pip/wheels/66/b5/89/34c06ad393a6feb72b4cdde46d0f1c667f3e2632960f9df109\n",
            "Successfully built gpytorch\n",
            "Installing collected packages: multipledispatch, gpytorch, botorch, ax-platform\n",
            "Successfully installed ax-platform-0.2.4 botorch-0.6.2 gpytorch-1.6.0 multipledispatch-0.6.0\n"
          ]
        }
      ],
      "source": [
        "!pip install ax-platform"
      ]
    },
    {
      "cell_type": "code",
      "source": [
        "# %% imports\n",
        "import numpy as np\n",
        "import pandas as pd\n",
        "\n",
        "from ax.modelbridge.generation_strategy import GenerationStrategy, GenerationStep\n",
        "from ax.modelbridge.registry import Models\n",
        "\n",
        "from ax.service.ax_client import AxClient\n",
        "from ax.service.utils.instantiation import ObjectiveProperties\n",
        "\n",
        "unique_components = [\"filler_A\", \"filler_B\", \"resin_A\", \"resin_B\", \"resin_C\"]\n",
        "\n",
        "X_train = np.array([\n",
        "       [0.4, 0.4, 0. , 0. , 0.2],\n",
        "       [0.5, 0. , 0. , 0.5, 0. ],\n",
        "       [0.5, 0.3, 0. , 0.2, 0. ],\n",
        "       [0.5, 0. , 0. , 0.5, 0. ],\n",
        "       [0. , 0.6, 0.4, 0. , 0. ],\n",
        "       [0.6, 0. , 0.4, 0. , 0. ],\n",
        "       [0. , 0.6, 0.2, 0.2, 0. ]])\n",
        "\n",
        "X_train = pd.DataFrame(X_train, columns=unique_components)\n",
        "X_train"
      ],
      "metadata": {
        "colab": {
          "base_uri": "https://localhost:8080/",
          "height": 269
        },
        "id": "frb6kTSIpZug",
        "outputId": "c80669f5-08d4-4e65-89ad-6aa5f8bf5f0c"
      },
      "execution_count": null,
      "outputs": [
        {
          "output_type": "execute_result",
          "data": {
            "text/plain": [
              "   filler_A  filler_B  resin_A  resin_B  resin_C\n",
              "0       0.4       0.4      0.0      0.0      0.2\n",
              "1       0.5       0.0      0.0      0.5      0.0\n",
              "2       0.5       0.3      0.0      0.2      0.0\n",
              "3       0.5       0.0      0.0      0.5      0.0\n",
              "4       0.0       0.6      0.4      0.0      0.0\n",
              "5       0.6       0.0      0.4      0.0      0.0\n",
              "6       0.0       0.6      0.2      0.2      0.0"
            ],
            "text/html": [
              "\n",
              "  <div id=\"df-303c6aa1-81ce-4761-935c-f6d44e440b6d\">\n",
              "    <div class=\"colab-df-container\">\n",
              "      <div>\n",
              "<style scoped>\n",
              "    .dataframe tbody tr th:only-of-type {\n",
              "        vertical-align: middle;\n",
              "    }\n",
              "\n",
              "    .dataframe tbody tr th {\n",
              "        vertical-align: top;\n",
              "    }\n",
              "\n",
              "    .dataframe thead th {\n",
              "        text-align: right;\n",
              "    }\n",
              "</style>\n",
              "<table border=\"1\" class=\"dataframe\">\n",
              "  <thead>\n",
              "    <tr style=\"text-align: right;\">\n",
              "      <th></th>\n",
              "      <th>filler_A</th>\n",
              "      <th>filler_B</th>\n",
              "      <th>resin_A</th>\n",
              "      <th>resin_B</th>\n",
              "      <th>resin_C</th>\n",
              "    </tr>\n",
              "  </thead>\n",
              "  <tbody>\n",
              "    <tr>\n",
              "      <th>0</th>\n",
              "      <td>0.4</td>\n",
              "      <td>0.4</td>\n",
              "      <td>0.0</td>\n",
              "      <td>0.0</td>\n",
              "      <td>0.2</td>\n",
              "    </tr>\n",
              "    <tr>\n",
              "      <th>1</th>\n",
              "      <td>0.5</td>\n",
              "      <td>0.0</td>\n",
              "      <td>0.0</td>\n",
              "      <td>0.5</td>\n",
              "      <td>0.0</td>\n",
              "    </tr>\n",
              "    <tr>\n",
              "      <th>2</th>\n",
              "      <td>0.5</td>\n",
              "      <td>0.3</td>\n",
              "      <td>0.0</td>\n",
              "      <td>0.2</td>\n",
              "      <td>0.0</td>\n",
              "    </tr>\n",
              "    <tr>\n",
              "      <th>3</th>\n",
              "      <td>0.5</td>\n",
              "      <td>0.0</td>\n",
              "      <td>0.0</td>\n",
              "      <td>0.5</td>\n",
              "      <td>0.0</td>\n",
              "    </tr>\n",
              "    <tr>\n",
              "      <th>4</th>\n",
              "      <td>0.0</td>\n",
              "      <td>0.6</td>\n",
              "      <td>0.4</td>\n",
              "      <td>0.0</td>\n",
              "      <td>0.0</td>\n",
              "    </tr>\n",
              "    <tr>\n",
              "      <th>5</th>\n",
              "      <td>0.6</td>\n",
              "      <td>0.0</td>\n",
              "      <td>0.4</td>\n",
              "      <td>0.0</td>\n",
              "      <td>0.0</td>\n",
              "    </tr>\n",
              "    <tr>\n",
              "      <th>6</th>\n",
              "      <td>0.0</td>\n",
              "      <td>0.6</td>\n",
              "      <td>0.2</td>\n",
              "      <td>0.2</td>\n",
              "      <td>0.0</td>\n",
              "    </tr>\n",
              "  </tbody>\n",
              "</table>\n",
              "</div>\n",
              "      <button class=\"colab-df-convert\" onclick=\"convertToInteractive('df-303c6aa1-81ce-4761-935c-f6d44e440b6d')\"\n",
              "              title=\"Convert this dataframe to an interactive table.\"\n",
              "              style=\"display:none;\">\n",
              "        \n",
              "  <svg xmlns=\"http://www.w3.org/2000/svg\" height=\"24px\"viewBox=\"0 0 24 24\"\n",
              "       width=\"24px\">\n",
              "    <path d=\"M0 0h24v24H0V0z\" fill=\"none\"/>\n",
              "    <path d=\"M18.56 5.44l.94 2.06.94-2.06 2.06-.94-2.06-.94-.94-2.06-.94 2.06-2.06.94zm-11 1L8.5 8.5l.94-2.06 2.06-.94-2.06-.94L8.5 2.5l-.94 2.06-2.06.94zm10 10l.94 2.06.94-2.06 2.06-.94-2.06-.94-.94-2.06-.94 2.06-2.06.94z\"/><path d=\"M17.41 7.96l-1.37-1.37c-.4-.4-.92-.59-1.43-.59-.52 0-1.04.2-1.43.59L10.3 9.45l-7.72 7.72c-.78.78-.78 2.05 0 2.83L4 21.41c.39.39.9.59 1.41.59.51 0 1.02-.2 1.41-.59l7.78-7.78 2.81-2.81c.8-.78.8-2.07 0-2.86zM5.41 20L4 18.59l7.72-7.72 1.47 1.35L5.41 20z\"/>\n",
              "  </svg>\n",
              "      </button>\n",
              "      \n",
              "  <style>\n",
              "    .colab-df-container {\n",
              "      display:flex;\n",
              "      flex-wrap:wrap;\n",
              "      gap: 12px;\n",
              "    }\n",
              "\n",
              "    .colab-df-convert {\n",
              "      background-color: #E8F0FE;\n",
              "      border: none;\n",
              "      border-radius: 50%;\n",
              "      cursor: pointer;\n",
              "      display: none;\n",
              "      fill: #1967D2;\n",
              "      height: 32px;\n",
              "      padding: 0 0 0 0;\n",
              "      width: 32px;\n",
              "    }\n",
              "\n",
              "    .colab-df-convert:hover {\n",
              "      background-color: #E2EBFA;\n",
              "      box-shadow: 0px 1px 2px rgba(60, 64, 67, 0.3), 0px 1px 3px 1px rgba(60, 64, 67, 0.15);\n",
              "      fill: #174EA6;\n",
              "    }\n",
              "\n",
              "    [theme=dark] .colab-df-convert {\n",
              "      background-color: #3B4455;\n",
              "      fill: #D2E3FC;\n",
              "    }\n",
              "\n",
              "    [theme=dark] .colab-df-convert:hover {\n",
              "      background-color: #434B5C;\n",
              "      box-shadow: 0px 1px 3px 1px rgba(0, 0, 0, 0.15);\n",
              "      filter: drop-shadow(0px 1px 2px rgba(0, 0, 0, 0.3));\n",
              "      fill: #FFFFFF;\n",
              "    }\n",
              "  </style>\n",
              "\n",
              "      <script>\n",
              "        const buttonEl =\n",
              "          document.querySelector('#df-303c6aa1-81ce-4761-935c-f6d44e440b6d button.colab-df-convert');\n",
              "        buttonEl.style.display =\n",
              "          google.colab.kernel.accessAllowed ? 'block' : 'none';\n",
              "\n",
              "        async function convertToInteractive(key) {\n",
              "          const element = document.querySelector('#df-303c6aa1-81ce-4761-935c-f6d44e440b6d');\n",
              "          const dataTable =\n",
              "            await google.colab.kernel.invokeFunction('convertToInteractive',\n",
              "                                                     [key], {});\n",
              "          if (!dataTable) return;\n",
              "\n",
              "          const docLinkHtml = 'Like what you see? Visit the ' +\n",
              "            '<a target=\"_blank\" href=https://colab.research.google.com/notebooks/data_table.ipynb>data table notebook</a>'\n",
              "            + ' to learn more about interactive tables.';\n",
              "          element.innerHTML = '';\n",
              "          dataTable['output_type'] = 'display_data';\n",
              "          await google.colab.output.renderOutput(dataTable, element);\n",
              "          const docLink = document.createElement('div');\n",
              "          docLink.innerHTML = docLinkHtml;\n",
              "          element.appendChild(docLink);\n",
              "        }\n",
              "      </script>\n",
              "    </div>\n",
              "  </div>\n",
              "  "
            ]
          },
          "metadata": {},
          "execution_count": 2
        }
      ]
    },
    {
      "cell_type": "code",
      "source": [
        "np.random.seed(10)\n",
        "n_train = X_train.shape[0]\n",
        "y_train = 100 * np.random.rand(n_train)\n",
        "y_train"
      ],
      "metadata": {
        "colab": {
          "base_uri": "https://localhost:8080/"
        },
        "id": "9T4ugJ-Jqr3m",
        "outputId": "60993244-cb60-4c43-facd-b096918e9e71"
      },
      "execution_count": null,
      "outputs": [
        {
          "output_type": "execute_result",
          "data": {
            "text/plain": [
              "array([77.13206433,  2.07519494, 63.36482349, 74.88038825, 49.85070123,\n",
              "       22.47966455, 19.80628648])"
            ]
          },
          "metadata": {},
          "execution_count": 3
        }
      ]
    },
    {
      "cell_type": "code",
      "source": [
        "# Ax-specific\n",
        "parameters = [\n",
        "    {\"name\": component, \"type\": \"range\", \"bounds\": [0.0, 1.0]}\n",
        "    for component in unique_components[:-1]\n",
        "]\n",
        "parameters"
      ],
      "metadata": {
        "colab": {
          "base_uri": "https://localhost:8080/"
        },
        "id": "IM7Dt9tuqoZk",
        "outputId": "0f863785-8cf6-4da4-9c8e-6cf673e309a0"
      },
      "execution_count": null,
      "outputs": [
        {
          "output_type": "execute_result",
          "data": {
            "text/plain": [
              "[{'bounds': [0.0, 1.0], 'name': 'filler_A', 'type': 'range'},\n",
              " {'bounds': [0.0, 1.0], 'name': 'filler_B', 'type': 'range'},\n",
              " {'bounds': [0.0, 1.0], 'name': 'resin_A', 'type': 'range'},\n",
              " {'bounds': [0.0, 1.0], 'name': 'resin_B', 'type': 'range'}]"
            ]
          },
          "metadata": {},
          "execution_count": 4
        }
      ]
    },
    {
      "cell_type": "code",
      "source": [
        "separator = \" + \"\n",
        "composition_constraint = separator.join(unique_components[:-1]) + \" <= 1.0\"\n",
        "composition_constraint"
      ],
      "metadata": {
        "colab": {
          "base_uri": "https://localhost:8080/",
          "height": 35
        },
        "id": "xK644Esppia_",
        "outputId": "3c7d9f98-5311-401e-f16f-c4d91fec7bd3"
      },
      "execution_count": null,
      "outputs": [
        {
          "output_type": "execute_result",
          "data": {
            "text/plain": [
              "'filler_A + filler_B + resin_A + resin_B <= 1.0'"
            ],
            "application/vnd.google.colaboratory.intrinsic+json": {
              "type": "string"
            }
          },
          "metadata": {},
          "execution_count": 5
        }
      ]
    },
    {
      "cell_type": "code",
      "source": [
        "# skip the pseudo-random suggested points by specifying a custom generation strategy\n",
        "gs = GenerationStrategy(\n",
        "    steps=[\n",
        "        # 2. Bayesian optimization step (requires data obtained from previous phase and learns\n",
        "        # from all data available at the time of each new candidate generation call)\n",
        "        GenerationStep(\n",
        "            model=Models.GPEI,\n",
        "            num_trials=-1,  # No limitation on how many trials should be produced from this step\n",
        "            max_parallelism=3,  # Parallelism limit for this step, often lower than for Sobol\n",
        "            # More on parallelism vs. required samples in BayesOpt:\n",
        "            # https://ax.dev/docs/bayesopt.html#tradeoff-between-parallelism-and-total-number-of-trials\n",
        "        ),\n",
        "    ]\n",
        ")\n",
        "# setup the experiment\n",
        "ax_client = AxClient(generation_strategy=gs)\n",
        "ax_client.create_experiment(\n",
        "    name=\"dummy\",\n",
        "    parameters=parameters,\n",
        "    parameter_constraints=[\n",
        "        composition_constraint,\n",
        "    ],\n",
        "    minimize=True,\n",
        ")"
      ],
      "metadata": {
        "colab": {
          "base_uri": "https://localhost:8080/"
        },
        "id": "npCeW3_9pjyG",
        "outputId": "541a9786-46ec-4bc8-d125-6709f14e237c"
      },
      "execution_count": null,
      "outputs": [
        {
          "output_type": "stream",
          "name": "stderr",
          "text": [
            "[INFO 03-30 02:37:22] ax.service.ax_client: Starting optimization with verbose logging. To disable logging, set the `verbose_logging` argument to `False`. Note that float values in the logs are rounded to 6 decimal points.\n",
            "[INFO 03-30 02:37:22] ax.service.utils.instantiation: Inferred value type of ParameterType.FLOAT for parameter filler_A. If that is not the expected value type, you can explicity specify 'value_type' ('int', 'float', 'bool' or 'str') in parameter dict.\n",
            "[INFO 03-30 02:37:22] ax.service.utils.instantiation: Inferred value type of ParameterType.FLOAT for parameter filler_B. If that is not the expected value type, you can explicity specify 'value_type' ('int', 'float', 'bool' or 'str') in parameter dict.\n",
            "[INFO 03-30 02:37:22] ax.service.utils.instantiation: Inferred value type of ParameterType.FLOAT for parameter resin_A. If that is not the expected value type, you can explicity specify 'value_type' ('int', 'float', 'bool' or 'str') in parameter dict.\n",
            "[INFO 03-30 02:37:22] ax.service.utils.instantiation: Inferred value type of ParameterType.FLOAT for parameter resin_B. If that is not the expected value type, you can explicity specify 'value_type' ('int', 'float', 'bool' or 'str') in parameter dict.\n",
            "[INFO 03-30 02:37:22] ax.service.utils.instantiation: Created search space: SearchSpace(parameters=[RangeParameter(name='filler_A', parameter_type=FLOAT, range=[0.0, 1.0]), RangeParameter(name='filler_B', parameter_type=FLOAT, range=[0.0, 1.0]), RangeParameter(name='resin_A', parameter_type=FLOAT, range=[0.0, 1.0]), RangeParameter(name='resin_B', parameter_type=FLOAT, range=[0.0, 1.0])], parameter_constraints=[ParameterConstraint(1.0*filler_A + 1.0*filler_B + 1.0*resin_A + 1.0*resin_B <= 1.0)]).\n"
          ]
        }
      ]
    },
    {
      "cell_type": "code",
      "source": [
        "# attach the training data\n",
        "for i in range(n_train):\n",
        "    ax_client.attach_trial(X_train.iloc[i, :-1].to_dict())\n",
        "    ax_client.complete_trial(trial_index=i, raw_data=y_train[i])"
      ],
      "metadata": {
        "colab": {
          "base_uri": "https://localhost:8080/"
        },
        "id": "EEv0dHgqpyGA",
        "outputId": "ae68374f-5558-4001-ce84-4520cb16e2ac"
      },
      "execution_count": null,
      "outputs": [
        {
          "output_type": "stream",
          "name": "stderr",
          "text": [
            "[INFO 03-30 02:37:22] ax.service.ax_client: Attached custom parameterization {'filler_A': 0.4, 'filler_B': 0.4, 'resin_A': 0.0, 'resin_B': 0.0} as trial 0.\n",
            "[INFO 03-30 02:37:22] ax.service.ax_client: Completed trial 0 with data: {'objective': (77.132064, None)}.\n",
            "[INFO 03-30 02:37:22] ax.service.ax_client: Attached custom parameterization {'filler_A': 0.5, 'filler_B': 0.0, 'resin_A': 0.0, 'resin_B': 0.5} as trial 1.\n",
            "[INFO 03-30 02:37:22] ax.service.ax_client: Completed trial 1 with data: {'objective': (2.075195, None)}.\n",
            "[INFO 03-30 02:37:22] ax.service.ax_client: Attached custom parameterization {'filler_A': 0.5, 'filler_B': 0.3, 'resin_A': 0.0, 'resin_B': 0.2} as trial 2.\n",
            "[INFO 03-30 02:37:22] ax.service.ax_client: Completed trial 2 with data: {'objective': (63.364823, None)}.\n",
            "[INFO 03-30 02:37:22] ax.service.ax_client: Attached custom parameterization {'filler_A': 0.5, 'filler_B': 0.0, 'resin_A': 0.0, 'resin_B': 0.5} as trial 3.\n",
            "[INFO 03-30 02:37:22] ax.service.ax_client: Completed trial 3 with data: {'objective': (74.880388, None)}.\n",
            "[INFO 03-30 02:37:22] ax.service.ax_client: Attached custom parameterization {'filler_A': 0.0, 'filler_B': 0.6, 'resin_A': 0.4, 'resin_B': 0.0} as trial 4.\n",
            "[INFO 03-30 02:37:22] ax.service.ax_client: Completed trial 4 with data: {'objective': (49.850701, None)}.\n",
            "[INFO 03-30 02:37:22] ax.service.ax_client: Attached custom parameterization {'filler_A': 0.6, 'filler_B': 0.0, 'resin_A': 0.4, 'resin_B': 0.0} as trial 5.\n",
            "[INFO 03-30 02:37:22] ax.service.ax_client: Completed trial 5 with data: {'objective': (22.479665, None)}.\n",
            "[INFO 03-30 02:37:22] ax.service.ax_client: Attached custom parameterization {'filler_A': 0.0, 'filler_B': 0.6, 'resin_A': 0.2, 'resin_B': 0.2} as trial 6.\n",
            "[INFO 03-30 02:37:22] ax.service.ax_client: Completed trial 6 with data: {'objective': (19.806286, None)}.\n"
          ]
        }
      ]
    },
    {
      "cell_type": "code",
      "source": [
        "# produce a *single* next suggested experiment, be sure to only run this once\n",
        "next_experiment, trial_index = ax_client.get_next_trial()\n",
        "print(\"next suggested experiment: \", next_experiment)"
      ],
      "metadata": {
        "colab": {
          "base_uri": "https://localhost:8080/"
        },
        "id": "7dSAOLfmp40m",
        "outputId": "52f55de6-ad08-4570-b142-d91a3b27eab0"
      },
      "execution_count": null,
      "outputs": [
        {
          "output_type": "stream",
          "name": "stderr",
          "text": [
            "[INFO 03-30 02:37:29] ax.service.ax_client: Generated new trial 7 with parameters {'filler_A': 0.0, 'filler_B': 0.0, 'resin_A': 0.0, 'resin_B': 1.0}.\n"
          ]
        },
        {
          "output_type": "stream",
          "name": "stdout",
          "text": [
            "next suggested experiment:  {'filler_A': 8.314351981323165e-18, 'filler_B': 0.0, 'resin_A': 2.455264143863484e-17, 'resin_B': 1.0}\n"
          ]
        }
      ]
    },
    {
      "cell_type": "code",
      "source": [
        "# note that the model fit is poor because of the toy data and randomly generated objective values\n",
        "# (i.e. this is what we would expect: a bad fit, because the \"true\" values are nonsense)\n",
        "best_parameters, metrics = ax_client.get_best_parameters()\n",
        "print(best_parameters, metrics)"
      ],
      "metadata": {
        "colab": {
          "base_uri": "https://localhost:8080/"
        },
        "id": "6Uh9FZFuq-mR",
        "outputId": "736d8511-54f5-469a-d112-57be5a6cc60a"
      },
      "execution_count": null,
      "outputs": [
        {
          "output_type": "stream",
          "name": "stderr",
          "text": [
            "[WARNING 03-30 02:37:29] ax.modelbridge.cross_validation: Metric objective was unable to be reliably fit.\n",
            "[WARNING 03-30 02:37:29] ax.service.utils.best_point: Model fit is poor; falling back on raw data for best point.\n",
            "[WARNING 03-30 02:37:29] ax.service.utils.best_point: Model fit is poor and data on objective metric objective is noisy; interpret best points results carefully.\n"
          ]
        },
        {
          "output_type": "stream",
          "name": "stdout",
          "text": [
            "{'filler_A': 0.5, 'filler_B': 0.0, 'resin_A': 0.0, 'resin_B': 0.5} ({'objective': 2.07519493594015}, {'objective': {'objective': nan}})\n"
          ]
        }
      ]
    }
  ]
}