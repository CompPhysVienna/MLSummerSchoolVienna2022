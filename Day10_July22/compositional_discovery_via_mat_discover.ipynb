{
  "cells": [
    {
      "cell_type": "markdown",
      "metadata": {
        "id": "sWYn0-ZZeWX7"
      },
      "source": [
        "# Testing PyPI `mat_discover` with GPU"
      ]
    },
    {
      "cell_type": "markdown",
      "metadata": {
        "id": "x7Hm8zM8e1Y-"
      },
      "source": [
        "If you don't have access to a GPU, but would still like to use the faster capabilities associated with the GPU-functionality of `mat_discover`, you can use the GPU hardware provided by Google Colab (see \"Setup\"). This notebook is an example of installing `mat_discover` via `pip` on Google Colab and basic usage. There is a [corresponding notebook](https://colab.research.google.com/drive/1jso3z23doKMv73wL9Z8Y3Xv_eKPmOcSo?usp=sharing) for installing `mat_discover` via `conda`. Installation via `conda` is easy on a local machine; however, it's more involved on Google Colab.\n",
        "\n",
        "The shared link for this notebook allows for adding comments. Feel free to add comments to this notebook! You can get rid of the comments sidebar via \"View\" --> \"Comments sidebar\"\n",
        "\n",
        "> ⚠ **WARNING** Training on large datasets is slow on a CPU. To run faster on a larger dataset, please enable GPU on Google Colab by navigating to `Edit --> Notebook Settings --> Hardware Accelerator`. Then select `GPU` from the dropdown menu."
      ]
    },
    {
      "cell_type": "markdown",
      "metadata": {
        "id": "kmXyL0_dbW-M"
      },
      "source": [
        "## Setup"
      ]
    },
    {
      "cell_type": "markdown",
      "metadata": {
        "id": "Dpw2seLgWxor"
      },
      "source": [
        "`torch` is available by default in Google Colab, so we will not need to install PyTorch. Now we will make sure `pip` is upgraded to the latest version and install `mat_discover`.\n",
        "\n",
        "> ⚠ **WARNING** You must restart the runtime via `Runtime -> Restart runtime` after this command or by clicking the button that appears below, otherwise `mat_discover` will likely fail (specific to Google Colab)"
      ]
    },
    {
      "cell_type": "code",
      "execution_count": null,
      "metadata": {
        "colab": {
          "base_uri": "https://localhost:8080/"
        },
        "id": "XxReLEVAD3f8",
        "outputId": "98aa4dac-166b-4ca4-83af-cfe8121ecdaa"
      },
      "outputs": [
        {
          "output_type": "stream",
          "name": "stdout",
          "text": [
            "torch version: 1.10.0+cu111\n",
            "Requirement already satisfied: pip in /usr/local/lib/python3.7/dist-packages (21.1.3)\n",
            "Collecting pip\n",
            "  Downloading pip-22.0.4-py3-none-any.whl (2.1 MB)\n",
            "\u001b[K     |████████████████████████████████| 2.1 MB 5.3 MB/s \n",
            "\u001b[?25hInstalling collected packages: pip\n",
            "  Attempting uninstall: pip\n",
            "    Found existing installation: pip 21.1.3\n",
            "    Uninstalling pip-21.1.3:\n",
            "      Successfully uninstalled pip-21.1.3\n",
            "Successfully installed pip-22.0.4\n",
            "Collecting mat_discover\n",
            "  Downloading mat_discover-2.2.1-py2.py3-none-any.whl (38 kB)\n",
            "Collecting crabnet<3.0.0,>=2.0.4\n",
            "  Downloading crabnet-2.0.4-py3-none-any.whl (34.6 MB)\n",
            "\u001b[2K     \u001b[90m━━━━━━━━━━━━━━━━━━━━━━━━━━━━━━━━━━━━━━━━\u001b[0m \u001b[32m34.6/34.6 MB\u001b[0m \u001b[31m26.4 MB/s\u001b[0m eta \u001b[36m0:00:00\u001b[0m\n",
            "\u001b[?25hCollecting tqdm\n",
            "  Downloading tqdm-4.63.0-py2.py3-none-any.whl (76 kB)\n",
            "\u001b[2K     \u001b[90m━━━━━━━━━━━━━━━━━━━━━━━━━━━━━━━━━━━━━━━━\u001b[0m \u001b[32m76.6/76.6 KB\u001b[0m \u001b[31m9.1 MB/s\u001b[0m eta \u001b[36m0:00:00\u001b[0m\n",
            "\u001b[?25hCollecting umap-learn\n",
            "  Downloading umap-learn-0.5.2.tar.gz (86 kB)\n",
            "\u001b[2K     \u001b[90m━━━━━━━━━━━━━━━━━━━━━━━━━━━━━━━━━━━━━━━━\u001b[0m \u001b[32m86.8/86.8 KB\u001b[0m \u001b[31m9.9 MB/s\u001b[0m eta \u001b[36m0:00:00\u001b[0m\n",
            "\u001b[?25h  Preparing metadata (setup.py) ... \u001b[?25l\u001b[?25hdone\n",
            "Collecting dill\n",
            "  Downloading dill-0.3.4-py2.py3-none-any.whl (86 kB)\n",
            "\u001b[2K     \u001b[90m━━━━━━━━━━━━━━━━━━━━━━━━━━━━━━━━━━━━━━━━\u001b[0m \u001b[32m86.9/86.9 KB\u001b[0m \u001b[31m10.8 MB/s\u001b[0m eta \u001b[36m0:00:00\u001b[0m\n",
            "\u001b[?25hCollecting pandas\n",
            "  Downloading pandas-1.3.5-cp37-cp37m-manylinux_2_17_x86_64.manylinux2014_x86_64.whl (11.3 MB)\n",
            "\u001b[2K     \u001b[90m━━━━━━━━━━━━━━━━━━━━━━━━━━━━━━━━━━━━━━━━\u001b[0m \u001b[32m11.3/11.3 MB\u001b[0m \u001b[31m62.6 MB/s\u001b[0m eta \u001b[36m0:00:00\u001b[0m\n",
            "\u001b[?25hCollecting kaleido\n",
            "  Downloading kaleido-0.2.1-py2.py3-none-manylinux1_x86_64.whl (79.9 MB)\n",
            "\u001b[2K     \u001b[90m━━━━━━━━━━━━━━━━━━━━━━━━━━━━━━━━━━━━━━━━\u001b[0m \u001b[32m79.9/79.9 MB\u001b[0m \u001b[31m10.8 MB/s\u001b[0m eta \u001b[36m0:00:00\u001b[0m\n",
            "\u001b[?25hCollecting scipy\n",
            "  Downloading scipy-1.7.3-cp37-cp37m-manylinux_2_12_x86_64.manylinux2010_x86_64.whl (38.1 MB)\n",
            "\u001b[2K     \u001b[90m━━━━━━━━━━━━━━━━━━━━━━━━━━━━━━━━━━━━━━━━\u001b[0m \u001b[32m38.1/38.1 MB\u001b[0m \u001b[31m33.3 MB/s\u001b[0m eta \u001b[36m0:00:00\u001b[0m\n",
            "\u001b[?25hCollecting matplotlib>=3.4.3\n",
            "  Downloading matplotlib-3.5.1-cp37-cp37m-manylinux_2_5_x86_64.manylinux1_x86_64.whl (11.2 MB)\n",
            "\u001b[2K     \u001b[90m━━━━━━━━━━━━━━━━━━━━━━━━━━━━━━━━━━━━━━━━\u001b[0m \u001b[32m11.2/11.2 MB\u001b[0m \u001b[31m55.8 MB/s\u001b[0m eta \u001b[36m0:00:00\u001b[0m\n",
            "\u001b[?25hCollecting scikit_learn\n",
            "  Downloading scikit_learn-1.0.2-cp37-cp37m-manylinux_2_17_x86_64.manylinux2014_x86_64.whl (24.8 MB)\n",
            "\u001b[2K     \u001b[90m━━━━━━━━━━━━━━━━━━━━━━━━━━━━━━━━━━━━━━━━\u001b[0m \u001b[32m24.8/24.8 MB\u001b[0m \u001b[31m24.8 MB/s\u001b[0m eta \u001b[36m0:00:00\u001b[0m\n",
            "\u001b[?25hCollecting chem_wasserstein<2.0.0,>=1.0.8\n",
            "  Downloading chem_wasserstein-1.0.11-py3-none-any.whl (1.0 MB)\n",
            "\u001b[2K     \u001b[90m━━━━━━━━━━━━━━━━━━━━━━━━━━━━━━━━━━━━━━━━\u001b[0m \u001b[32m1.0/1.0 MB\u001b[0m \u001b[31m43.8 MB/s\u001b[0m eta \u001b[36m0:00:00\u001b[0m\n",
            "\u001b[?25hCollecting seaborn\n",
            "  Downloading seaborn-0.11.2-py3-none-any.whl (292 kB)\n",
            "\u001b[2K     \u001b[90m━━━━━━━━━━━━━━━━━━━━━━━━━━━━━━━━━━━━━━\u001b[0m \u001b[32m292.8/292.8 KB\u001b[0m \u001b[31m22.6 MB/s\u001b[0m eta \u001b[36m0:00:00\u001b[0m\n",
            "\u001b[?25hCollecting cython\n",
            "  Downloading Cython-0.29.28-cp37-cp37m-manylinux_2_17_x86_64.manylinux2014_x86_64.manylinux_2_24_x86_64.whl (1.9 MB)\n",
            "\u001b[2K     \u001b[90m━━━━━━━━━━━━━━━━━━━━━━━━━━━━━━━━━━━━━━━━\u001b[0m \u001b[32m1.9/1.9 MB\u001b[0m \u001b[31m52.8 MB/s\u001b[0m eta \u001b[36m0:00:00\u001b[0m\n",
            "\u001b[?25hCollecting hdbscan\n",
            "  Downloading hdbscan-0.8.28.tar.gz (5.2 MB)\n",
            "\u001b[2K     \u001b[90m━━━━━━━━━━━━━━━━━━━━━━━━━━━━━━━━━━━━━━━━\u001b[0m \u001b[32m5.2/5.2 MB\u001b[0m \u001b[31m61.0 MB/s\u001b[0m eta \u001b[36m0:00:00\u001b[0m\n",
            "\u001b[?25h  Installing build dependencies ... \u001b[?25l\u001b[?25hdone\n",
            "  Getting requirements to build wheel ... \u001b[?25l\u001b[?25hdone\n",
            "  Preparing metadata (pyproject.toml) ... \u001b[?25l\u001b[?25hdone\n",
            "Collecting pqdm\n",
            "  Downloading pqdm-0.2.0-py2.py3-none-any.whl (6.8 kB)\n",
            "Collecting plotly>=5.6.0\n",
            "  Downloading plotly-5.6.0-py2.py3-none-any.whl (27.7 MB)\n",
            "\u001b[2K     \u001b[90m━━━━━━━━━━━━━━━━━━━━━━━━━━━━━━━━━━━━━━━━\u001b[0m \u001b[32m27.7/27.7 MB\u001b[0m \u001b[31m39.4 MB/s\u001b[0m eta \u001b[36m0:00:00\u001b[0m\n",
            "\u001b[?25hCollecting composition_based_feature_vector\n",
            "  Downloading composition_based_feature_vector-1.0.4-py3-none-any.whl (543 kB)\n",
            "\u001b[2K     \u001b[90m━━━━━━━━━━━━━━━━━━━━━━━━━━━━━━━━━━━━━━\u001b[0m \u001b[32m543.7/543.7 KB\u001b[0m \u001b[31m25.1 MB/s\u001b[0m eta \u001b[36m0:00:00\u001b[0m\n",
            "\u001b[?25hCollecting numba>=0.53.1\n",
            "  Downloading numba-0.55.1-1-cp37-cp37m-manylinux2014_x86_64.manylinux_2_17_x86_64.whl (3.3 MB)\n",
            "\u001b[2K     \u001b[90m━━━━━━━━━━━━━━━━━━━━━━━━━━━━━━━━━━━━━━━━\u001b[0m \u001b[32m3.3/3.3 MB\u001b[0m \u001b[31m26.3 MB/s\u001b[0m eta \u001b[36m0:00:00\u001b[0m\n",
            "\u001b[?25hCollecting ElMD==0.4.8\n",
            "  Downloading ElMD-0.4.8.tar.gz (1.1 MB)\n",
            "\u001b[2K     \u001b[90m━━━━━━━━━━━━━━━━━━━━━━━━━━━━━━━━━━━━━━━━\u001b[0m \u001b[32m1.1/1.1 MB\u001b[0m \u001b[31m27.1 MB/s\u001b[0m eta \u001b[36m0:00:00\u001b[0m\n",
            "\u001b[?25h  Preparing metadata (setup.py) ... \u001b[?25l\u001b[?25hdone\n",
            "Collecting dist_matrix>=1.0.2\n",
            "  Downloading dist_matrix-1.0.2-py3-none-any.whl (43 kB)\n",
            "\u001b[2K     \u001b[90m━━━━━━━━━━━━━━━━━━━━━━━━━━━━━━━━━━━━━━━━\u001b[0m \u001b[32m43.8/43.8 KB\u001b[0m \u001b[31m4.7 MB/s\u001b[0m eta \u001b[36m0:00:00\u001b[0m\n",
            "\u001b[?25hCollecting colorama\n",
            "  Downloading colorama-0.4.4-py2.py3-none-any.whl (16 kB)\n",
            "Collecting setuptools\n",
            "  Using cached setuptools-60.9.3-py3-none-any.whl (1.1 MB)\n",
            "Collecting numpy\n",
            "  Downloading numpy-1.21.5-cp37-cp37m-manylinux_2_12_x86_64.manylinux2010_x86_64.whl (15.7 MB)\n",
            "\u001b[2K     \u001b[90m━━━━━━━━━━━━━━━━━━━━━━━━━━━━━━━━━━━━━━━━\u001b[0m \u001b[32m15.7/15.7 MB\u001b[0m \u001b[31m50.9 MB/s\u001b[0m eta \u001b[36m0:00:00\u001b[0m\n",
            "\u001b[?25hCollecting joblib\n",
            "  Downloading joblib-1.1.0-py2.py3-none-any.whl (306 kB)\n",
            "\u001b[2K     \u001b[90m━━━━━━━━━━━━━━━━━━━━━━━━━━━━━━━━━━━━━━\u001b[0m \u001b[32m307.0/307.0 KB\u001b[0m \u001b[31m26.2 MB/s\u001b[0m eta \u001b[36m0:00:00\u001b[0m\n",
            "\u001b[?25hCollecting psutil\n",
            "  Downloading psutil-5.9.0-cp37-cp37m-manylinux_2_12_x86_64.manylinux2010_x86_64.manylinux_2_17_x86_64.manylinux2014_x86_64.whl (280 kB)\n",
            "\u001b[2K     \u001b[90m━━━━━━━━━━━━━━━━━━━━━━━━━━━━━━━━━━━━━━\u001b[0m \u001b[32m280.7/280.7 KB\u001b[0m \u001b[31m21.2 MB/s\u001b[0m eta \u001b[36m0:00:00\u001b[0m\n",
            "\u001b[?25hCollecting kiwisolver>=1.0.1\n",
            "  Downloading kiwisolver-1.3.2-cp37-cp37m-manylinux_2_5_x86_64.manylinux1_x86_64.whl (1.1 MB)\n",
            "\u001b[2K     \u001b[90m━━━━━━━━━━━━━━━━━━━━━━━━━━━━━━━━━━━━━━━━\u001b[0m \u001b[32m1.1/1.1 MB\u001b[0m \u001b[31m38.8 MB/s\u001b[0m eta \u001b[36m0:00:00\u001b[0m\n",
            "\u001b[?25hCollecting pillow>=6.2.0\n",
            "  Downloading Pillow-9.0.1-cp37-cp37m-manylinux_2_17_x86_64.manylinux2014_x86_64.whl (4.3 MB)\n",
            "\u001b[2K     \u001b[90m━━━━━━━━━━━━━━━━━━━━━━━━━━━━━━━━━━━━━━━━\u001b[0m \u001b[32m4.3/4.3 MB\u001b[0m \u001b[31m55.4 MB/s\u001b[0m eta \u001b[36m0:00:00\u001b[0m\n",
            "\u001b[?25hCollecting python-dateutil>=2.7\n",
            "  Downloading python_dateutil-2.8.2-py2.py3-none-any.whl (247 kB)\n",
            "\u001b[2K     \u001b[90m━━━━━━━━━━━━━━━━━━━━━━━━━━━━━━━━━━━━━━\u001b[0m \u001b[32m247.7/247.7 KB\u001b[0m \u001b[31m21.0 MB/s\u001b[0m eta \u001b[36m0:00:00\u001b[0m\n",
            "\u001b[?25hCollecting fonttools>=4.22.0\n",
            "  Downloading fonttools-4.29.1-py3-none-any.whl (895 kB)\n",
            "\u001b[2K     \u001b[90m━━━━━━━━━━━━━━━━━━━━━━━━━━━━━━━━━━━━━━\u001b[0m \u001b[32m895.5/895.5 KB\u001b[0m \u001b[31m41.3 MB/s\u001b[0m eta \u001b[36m0:00:00\u001b[0m\n",
            "\u001b[?25hCollecting packaging>=20.0\n",
            "  Downloading packaging-21.3-py3-none-any.whl (40 kB)\n",
            "\u001b[2K     \u001b[90m━━━━━━━━━━━━━━━━━━━━━━━━━━━━━━━━━━━━━━━━\u001b[0m \u001b[32m40.8/40.8 KB\u001b[0m \u001b[31m4.3 MB/s\u001b[0m eta \u001b[36m0:00:00\u001b[0m\n",
            "\u001b[?25hCollecting pyparsing>=2.2.1\n",
            "  Downloading pyparsing-3.0.7-py3-none-any.whl (98 kB)\n",
            "\u001b[2K     \u001b[90m━━━━━━━━━━━━━━━━━━━━━━━━━━━━━━━━━━━━━━━━\u001b[0m \u001b[32m98.0/98.0 KB\u001b[0m \u001b[31m9.4 MB/s\u001b[0m eta \u001b[36m0:00:00\u001b[0m\n",
            "\u001b[?25hCollecting cycler>=0.10\n",
            "  Downloading cycler-0.11.0-py3-none-any.whl (6.4 kB)\n",
            "Collecting llvmlite<0.39,>=0.38.0rc1\n",
            "  Downloading llvmlite-0.38.0-cp37-cp37m-manylinux_2_17_x86_64.manylinux2014_x86_64.whl (34.5 MB)\n",
            "\u001b[2K     \u001b[90m━━━━━━━━━━━━━━━━━━━━━━━━━━━━━━━━━━━━━━━━\u001b[0m \u001b[32m34.5/34.5 MB\u001b[0m \u001b[31m32.1 MB/s\u001b[0m eta \u001b[36m0:00:00\u001b[0m\n",
            "\u001b[?25hCollecting tenacity>=6.2.0\n",
            "  Downloading tenacity-8.0.1-py3-none-any.whl (24 kB)\n",
            "Collecting six\n",
            "  Downloading six-1.16.0-py2.py3-none-any.whl (11 kB)\n",
            "Collecting bounded-pool-executor\n",
            "  Downloading bounded_pool_executor-0.0.3-py3-none-any.whl (3.4 kB)\n",
            "Collecting typing-extensions\n",
            "  Downloading typing_extensions-4.1.1-py3-none-any.whl (26 kB)\n",
            "Collecting pytest\n",
            "  Downloading pytest-7.0.1-py3-none-any.whl (296 kB)\n",
            "\u001b[2K     \u001b[90m━━━━━━━━━━━━━━━━━━━━━━━━━━━━━━━━━━━━━━\u001b[0m \u001b[32m297.0/297.0 KB\u001b[0m \u001b[31m23.4 MB/s\u001b[0m eta \u001b[36m0:00:00\u001b[0m\n",
            "\u001b[?25hCollecting threadpoolctl>=2.0.0\n",
            "  Downloading threadpoolctl-3.1.0-py3-none-any.whl (14 kB)\n",
            "Collecting pytz>=2017.3\n",
            "  Downloading pytz-2021.3-py2.py3-none-any.whl (503 kB)\n",
            "\u001b[2K     \u001b[90m━━━━━━━━━━━━━━━━━━━━━━━━━━━━━━━━━━━━━━\u001b[0m \u001b[32m503.5/503.5 KB\u001b[0m \u001b[31m30.9 MB/s\u001b[0m eta \u001b[36m0:00:00\u001b[0m\n",
            "\u001b[?25hCollecting pynndescent>=0.5\n",
            "  Downloading pynndescent-0.5.6.tar.gz (1.1 MB)\n",
            "\u001b[2K     \u001b[90m━━━━━━━━━━━━━━━━━━━━━━━━━━━━━━━━━━━━━━━━\u001b[0m \u001b[32m1.1/1.1 MB\u001b[0m \u001b[31m45.0 MB/s\u001b[0m eta \u001b[36m0:00:00\u001b[0m\n",
            "\u001b[?25h  Preparing metadata (setup.py) ... \u001b[?25l\u001b[?25hdone\n",
            "Collecting importlib-metadata>=0.12\n",
            "  Downloading importlib_metadata-4.11.2-py3-none-any.whl (17 kB)\n",
            "Collecting iniconfig\n",
            "  Downloading iniconfig-1.1.1-py2.py3-none-any.whl (5.0 kB)\n",
            "Collecting pluggy<2.0,>=0.12\n",
            "  Downloading pluggy-1.0.0-py2.py3-none-any.whl (13 kB)\n",
            "Collecting tomli>=1.0.0\n",
            "  Downloading tomli-2.0.1-py3-none-any.whl (12 kB)\n",
            "Collecting py>=1.8.2\n",
            "  Downloading py-1.11.0-py2.py3-none-any.whl (98 kB)\n",
            "\u001b[2K     \u001b[90m━━━━━━━━━━━━━━━━━━━━━━━━━━━━━━━━━━━━━━━━\u001b[0m \u001b[32m98.7/98.7 KB\u001b[0m \u001b[31m8.5 MB/s\u001b[0m eta \u001b[36m0:00:00\u001b[0m\n",
            "\u001b[?25hCollecting attrs>=19.2.0\n",
            "  Downloading attrs-21.4.0-py2.py3-none-any.whl (60 kB)\n",
            "\u001b[2K     \u001b[90m━━━━━━━━━━━━━━━━━━━━━━━━━━━━━━━━━━━━━━━━\u001b[0m \u001b[32m60.6/60.6 KB\u001b[0m \u001b[31m7.0 MB/s\u001b[0m eta \u001b[36m0:00:00\u001b[0m\n",
            "\u001b[?25hCollecting zipp>=0.5\n",
            "  Downloading zipp-3.7.0-py3-none-any.whl (5.3 kB)\n",
            "Building wheels for collected packages: ElMD, hdbscan, umap-learn, pynndescent\n",
            "  Building wheel for ElMD (setup.py) ... \u001b[?25l\u001b[?25hdone\n",
            "  Created wheel for ElMD: filename=ElMD-0.4.8-py3-none-any.whl size=1153056 sha256=35d2be1649a756b82095b400193877cbc12b44f77b3a695e584b139cf9d12d50\n",
            "  Stored in directory: /root/.cache/pip/wheels/3b/7c/98/31025ba575f0a4379a6d190a2235a950b7568ba0f672dcf5ab\n",
            "  Building wheel for hdbscan (pyproject.toml) ... \u001b[?25l\u001b[?25hdone\n",
            "  Created wheel for hdbscan: filename=hdbscan-0.8.28-cp37-cp37m-linux_x86_64.whl size=2330822 sha256=6dd188af86893ddd82f834e7045bc1fe2280799c3e7b492a79b1d3d2cb09d5b8\n",
            "  Stored in directory: /root/.cache/pip/wheels/6e/7a/5e/259ccc841c085fc41b99ef4a71e896b62f5161f2bc8a14c97a\n",
            "  Building wheel for umap-learn (setup.py) ... \u001b[?25l\u001b[?25hdone\n",
            "  Created wheel for umap-learn: filename=umap_learn-0.5.2-py3-none-any.whl size=82708 sha256=ac421f3185ae285379a8508927efedb944c72a7a81d334b2057e7e6340e074f0\n",
            "  Stored in directory: /root/.cache/pip/wheels/84/1b/c6/aaf68a748122632967cef4dffef68224eb16798b6793257d82\n",
            "  Building wheel for pynndescent (setup.py) ... \u001b[?25l\u001b[?25hdone\n",
            "  Created wheel for pynndescent: filename=pynndescent-0.5.6-py3-none-any.whl size=53943 sha256=008b9104c726b099cd71ddb6a97dc2d9a509a9dd9b0f271e5d953e5015dd6b7b\n",
            "  Stored in directory: /root/.cache/pip/wheels/03/f1/56/f80d72741e400345b5a5b50ec3d929aca581bf45e0225d5c50\n",
            "Successfully built ElMD hdbscan umap-learn pynndescent\n",
            "Installing collected packages: pytz, kaleido, iniconfig, bounded-pool-executor, zipp, typing-extensions, tqdm, tomli, threadpoolctl, tenacity, six, setuptools, pyparsing, py, psutil, pillow, numpy, llvmlite, kiwisolver, joblib, fonttools, dill, cython, cycler, colorama, attrs, scipy, python-dateutil, pqdm, plotly, packaging, numba, importlib-metadata, scikit_learn, pluggy, pandas, matplotlib, ElMD, dist_matrix, seaborn, pytest, pynndescent, hdbscan, umap-learn, crabnet, composition_based_feature_vector, chem_wasserstein, mat_discover\n",
            "\u001b[31mERROR: pip's dependency resolver does not currently take into account all the packages that are installed. This behaviour is the source of the following dependency conflicts.\n",
            "tensorflow 2.8.0 requires tf-estimator-nightly==2.8.0.dev2021122109, which is not installed.\n",
            "google-colab 1.0.0 requires six~=1.15.0, but you have six 1.16.0 which is incompatible.\n",
            "datascience 0.10.6 requires folium==0.2.1, but you have folium 0.8.3 which is incompatible.\n",
            "arviz 0.11.4 requires typing-extensions<4,>=3.7.4.3, but you have typing-extensions 4.1.1 which is incompatible.\n",
            "albumentations 0.1.12 requires imgaug<0.2.7,>=0.2.5, but you have imgaug 0.2.9 which is incompatible.\u001b[0m\u001b[31m\n",
            "\u001b[0mSuccessfully installed ElMD-0.4.8 attrs-21.4.0 bounded-pool-executor-0.0.3 chem_wasserstein-1.0.11 colorama-0.4.4 composition_based_feature_vector-1.0.4 crabnet-2.0.4 cycler-0.11.0 cython-0.29.28 dill-0.3.4 dist_matrix-1.0.2 fonttools-4.29.1 hdbscan-0.8.28 importlib-metadata-4.11.2 iniconfig-1.1.1 joblib-1.1.0 kaleido-0.2.1 kiwisolver-1.3.2 llvmlite-0.38.0 mat_discover-2.2.1 matplotlib-3.5.1 numba-0.55.1 numpy-1.21.5 packaging-21.3 pandas-1.3.5 pillow-9.0.1 plotly-5.6.0 pluggy-1.0.0 pqdm-0.2.0 psutil-5.9.0 py-1.11.0 pynndescent-0.5.6 pyparsing-3.0.7 pytest-7.0.1 python-dateutil-2.8.2 pytz-2021.3 scikit_learn-1.0.2 scipy-1.7.3 seaborn-0.11.2 setuptools-60.9.3 six-1.16.0 tenacity-8.0.1 threadpoolctl-3.1.0 tomli-2.0.1 tqdm-4.63.0 typing-extensions-4.1.1 umap-learn-0.5.2 zipp-3.7.0\n",
            "\u001b[33mWARNING: Running pip as the 'root' user can result in broken permissions and conflicting behaviour with the system package manager. It is recommended to use a virtual environment instead: https://pip.pypa.io/warnings/venv\u001b[0m\u001b[33m\n",
            "\u001b[0mCPU times: user 2.64 s, sys: 892 ms, total: 3.53 s\n",
            "Wall time: 2min 24s\n"
          ]
        }
      ],
      "source": [
        "%%time\n",
        "import torch\n",
        "print(f\"torch version: {torch.__version__}\")\n",
        "!pip install -U pip\n",
        "try:\n",
        "  import mat_discover\n",
        "except:\n",
        "  !pip install -UI mat_discover\n",
        "# **You must restart the runtime after this step**"
      ]
    },
    {
      "cell_type": "code",
      "execution_count": null,
      "metadata": {
        "id": "qxgAwF2u0Qvw",
        "colab": {
          "base_uri": "https://localhost:8080/"
        },
        "outputId": "67c17d21-c59f-44fe-f943-d54ca6ad1b93"
      },
      "outputs": [
        {
          "output_type": "stream",
          "name": "stdout",
          "text": [
            "2.2.1\n"
          ]
        }
      ],
      "source": [
        "import pandas as pd\n",
        "import mat_discover\n",
        "print(mat_discover.__version__)\n",
        "from mat_discover.mat_discover_ import Discover"
      ]
    },
    {
      "cell_type": "code",
      "execution_count": null,
      "metadata": {
        "id": "SKDcQhAD0S7I"
      },
      "outputs": [],
      "source": [
        "disc = Discover(hdbscan_kwargs=dict(min_samples=1, min_cluster_size=5), use_plotly_offline=False)"
      ]
    },
    {
      "cell_type": "markdown",
      "metadata": {
        "id": "747g0JuObLQN"
      },
      "source": [
        "## Train Discover"
      ]
    },
    {
      "cell_type": "code",
      "execution_count": null,
      "metadata": {
        "id": "t0xsnRFO6bst"
      },
      "outputs": [],
      "source": [
        "from crabnet.data.materials_data import elasticity\n",
        "dummy = True # runs on a subset of data, set to False (and recommended to use a GPU) for the full elasticity dataset\n",
        "train_df, val_df = disc.data(elasticity, dummy=dummy)"
      ]
    },
    {
      "cell_type": "code",
      "execution_count": null,
      "metadata": {
        "colab": {
          "base_uri": "https://localhost:8080/"
        },
        "id": "r1ByavT_6gNk",
        "outputId": "205f4d55-f524-4dcc-aa89-ca439c84afec"
      },
      "outputs": [
        {
          "output_type": "stream",
          "name": "stdout",
          "text": [
            "\n",
            "Model architecture: out_dims, d_model, N, heads\n",
            "3, 512, 3, 4\n",
            "Running on compute device: cuda:0\n",
            "Model size: 0 parameters\n",
            "\n"
          ]
        },
        {
          "output_type": "stream",
          "name": "stderr",
          "text": [
            "Generating EDM: 100%|██████████| 64/64 [00:00<00:00, 108414.97formulae/s]\n"
          ]
        },
        {
          "output_type": "stream",
          "name": "stdout",
          "text": [
            "loading data with up to 4 elements in the formula\n",
            "training with batchsize 128 (2**7.000)\n"
          ]
        },
        {
          "output_type": "stream",
          "name": "stderr",
          "text": [
            "Generating EDM: 100%|██████████| 16/16 [00:00<00:00, 43156.83formulae/s]\n"
          ]
        },
        {
          "output_type": "stream",
          "name": "stdout",
          "text": [
            "loading data with up to 4 elements in the formula\n",
            "stepping every 10 training passes, cycling lr every 10 epochs\n",
            "running for 300 epochs, unless early stopping occurs\n",
            "checkin at 20 epochs to match lr scheduler\n",
            "Epoch: 0/300 --- train mae: 20.1 val mae: 23.8\n",
            "Epoch: 19/300 --- train mae: 16.4 val mae: 21.2\n",
            "Epoch: 39/300 --- train mae: 13.3 val mae: 19.2\n",
            "Epoch: 59/300 --- train mae: 11.7 val mae: 18.9\n",
            "Epoch 79 failed to improve.\n",
            "Discarded: 1/3 weight updates\n",
            "Epoch: 79/300 --- train mae: 10.4 val mae: 19.5\n",
            "Epoch 99 failed to improve.\n",
            "Discarded: 2/3 weight updates\n",
            "Epoch: 99/300 --- train mae: 11.3 val mae: 20.9\n",
            "Epoch 119 failed to improve.\n",
            "Discarded: 3/3 weight updates\n",
            "Epoch: 119/300 --- train mae: 9.88 val mae: 19.8\n",
            "Discarded: 3/3weight updates, early-stopping now\n",
            "Saving network (UnnamedModel) to models/trained_models/UnnamedModel.pth\n",
            "[train-CrabNet]\n",
            "Elapsed: 13.00307\n",
            "\n"
          ]
        }
      ],
      "source": [
        "disc.fit(train_df)"
      ]
    },
    {
      "cell_type": "code",
      "execution_count": null,
      "metadata": {
        "id": "jgL-0GGHAXCY",
        "colab": {
          "base_uri": "https://localhost:8080/"
        },
        "outputId": "5ddac679-e9c4-42fc-a92c-7f388d5fd229"
      },
      "outputs": [
        {
          "output_type": "stream",
          "name": "stderr",
          "text": [
            "Generating EDM: 100%|██████████| 80/80 [00:00<00:00, 37549.72formulae/s]"
          ]
        },
        {
          "output_type": "stream",
          "name": "stdout",
          "text": [
            "loading data with up to 4 elements in the formula\n"
          ]
        },
        {
          "output_type": "stream",
          "name": "stderr",
          "text": [
            "\n",
            "Generating EDM: 100%|██████████| 20/20 [00:00<00:00, 23471.20formulae/s]\n"
          ]
        },
        {
          "output_type": "stream",
          "name": "stdout",
          "text": [
            "loading data with up to 4 elements in the formula\n",
            "val RMSE:  24.02583198834105\n",
            "Fitting mod_petti kernel matrix\n",
            "Constructing distances\n",
            "[fit-wasserstein]\n",
            "Elapsed: 7.66355\n",
            "\n"
          ]
        },
        {
          "output_type": "stream",
          "name": "stderr",
          "text": [
            "/usr/local/lib/python3.7/dist-packages/umap/umap_.py:1780: UserWarning:\n",
            "\n",
            "using precomputed metric; inverse_transform will be unavailable\n",
            "\n"
          ]
        },
        {
          "output_type": "stream",
          "name": "stdout",
          "text": [
            "[fit-UMAP]\n",
            "Elapsed: 45.23818\n",
            "\n"
          ]
        },
        {
          "output_type": "stream",
          "name": "stderr",
          "text": [
            "/usr/local/lib/python3.7/dist-packages/umap/umap_.py:1780: UserWarning:\n",
            "\n",
            "using precomputed metric; inverse_transform will be unavailable\n",
            "\n"
          ]
        },
        {
          "output_type": "stream",
          "name": "stdout",
          "text": [
            "[fit-vis-UMAP]\n",
            "Elapsed: 7.80609\n",
            "\n",
            "[DensMAP]\n",
            "Elapsed: 53.04462\n",
            "\n",
            "[HDBSCAN*]\n",
            "Elapsed: 0.00467\n",
            "\n",
            "[pdf-summation]\n",
            "Elapsed: 0.13404\n",
            "\n",
            "[gridded-pdf-summation]\n",
            "Elapsed: 0.13826\n",
            "\n",
            "[train-val-pdf-summation]\n",
            "Elapsed: 0.0382\n",
            "\n",
            "[nearest-neighbor-properties]\n",
            "Elapsed: 0.00527\n",
            "\n"
          ]
        }
      ],
      "source": [
        "scores = disc.predict(val_df)"
      ]
    },
    {
      "cell_type": "code",
      "source": [
        "# this cell is optional\n",
        "cat_df = pd.concat((train_df, val_df), axis=0)\n",
        "disc.group_cross_val(cat_df, umap_random_state=42)\n",
        "print(\"scaled test error = \", disc.scaled_error)"
      ],
      "metadata": {
        "colab": {
          "base_uri": "https://localhost:8080/"
        },
        "id": "kGa3ODKk7GSI",
        "outputId": "59fcdf94-af00-4e6c-ef18-faae63a37f46"
      },
      "execution_count": null,
      "outputs": [
        {
          "output_type": "stream",
          "name": "stdout",
          "text": [
            "Fitting mod_petti kernel matrix\n",
            "Constructing distances\n",
            "[fit-wasserstein]\n",
            "Elapsed: 6.44094\n",
            "\n"
          ]
        },
        {
          "output_type": "stream",
          "name": "stderr",
          "text": [
            "/usr/local/lib/python3.7/dist-packages/umap/umap_.py:1780: UserWarning:\n",
            "\n",
            "using precomputed metric; inverse_transform will be unavailable\n",
            "\n"
          ]
        },
        {
          "output_type": "stream",
          "name": "stdout",
          "text": [
            "[fit-UMAP]\n",
            "Elapsed: 3.42016\n",
            "\n",
            "[HDBSCAN*]\n",
            "Elapsed: 0.00604\n",
            "\n",
            "Number of iterations (i.e. clusters):  8\n",
            "[Iteration:  0 ]\n",
            "\n",
            "Model architecture: out_dims, d_model, N, heads\n",
            "3, 512, 3, 4\n",
            "Running on compute device: cuda:0\n",
            "Model size: 0 parameters\n",
            "\n"
          ]
        },
        {
          "output_type": "stream",
          "name": "stderr",
          "text": [
            "Generating EDM: 100%|██████████| 73/73 [00:00<00:00, 65606.21formulae/s]\n"
          ]
        },
        {
          "output_type": "stream",
          "name": "stdout",
          "text": [
            "loading data with up to 4 elements in the formula\n",
            "training with batchsize 128 (2**7.000)\n"
          ]
        },
        {
          "output_type": "stream",
          "name": "stderr",
          "text": [
            "Generating EDM: 100%|██████████| 19/19 [00:00<00:00, 38093.58formulae/s]\n"
          ]
        },
        {
          "output_type": "stream",
          "name": "stdout",
          "text": [
            "loading data with up to 4 elements in the formula\n",
            "stepping every 10 training passes, cycling lr every 10 epochs\n",
            "running for 300 epochs, unless early stopping occurs\n",
            "checkin at 20 epochs to match lr scheduler\n",
            "Epoch: 0/300 --- train mae: 22.6 val mae: 19.2\n",
            "Epoch: 19/300 --- train mae: 20.4 val mae: 14.3\n",
            "Epoch: 39/300 --- train mae: 16.7 val mae: 11.3\n",
            "Epoch: 59/300 --- train mae: 14.1 val mae: 11\n",
            "Epoch: 79/300 --- train mae: 12.6 val mae: 10.7\n",
            "Epoch 99 failed to improve.\n",
            "Discarded: 1/3 weight updates\n",
            "Epoch: 99/300 --- train mae: 11.2 val mae: 11.2\n",
            "Epoch: 119/300 --- train mae: 11.3 val mae: 10.5\n",
            "Epoch 139 failed to improve.\n",
            "Discarded: 2/3 weight updates\n",
            "Epoch: 139/300 --- train mae: 10.2 val mae: 12.8\n",
            "Epoch: 159/300 --- train mae: 11.2 val mae: 9.82\n",
            "Epoch 179 failed to improve.\n",
            "Discarded: 3/3 weight updates\n",
            "Epoch: 179/300 --- train mae: 9.53 val mae: 12\n",
            "Discarded: 3/3weight updates, early-stopping now\n",
            "Saving network (UnnamedModel) to models/trained_models/UnnamedModel.pth\n"
          ]
        },
        {
          "output_type": "stream",
          "name": "stderr",
          "text": [
            "Generating EDM: 100%|██████████| 92/92 [00:00<00:00, 50257.35formulae/s]\n"
          ]
        },
        {
          "output_type": "stream",
          "name": "stdout",
          "text": [
            "loading data with up to 4 elements in the formula\n"
          ]
        },
        {
          "output_type": "stream",
          "name": "stderr",
          "text": [
            "Generating EDM: 100%|██████████| 8/8 [00:00<00:00, 26358.55formulae/s]\n"
          ]
        },
        {
          "output_type": "stream",
          "name": "stdout",
          "text": [
            "loading data with up to 4 elements in the formula\n",
            "[Iteration:  1 ]\n",
            "\n",
            "Model architecture: out_dims, d_model, N, heads\n",
            "3, 512, 3, 4\n",
            "Running on compute device: cuda:0\n",
            "Model size: 0 parameters\n",
            "\n"
          ]
        },
        {
          "output_type": "stream",
          "name": "stderr",
          "text": [
            "Generating EDM: 100%|██████████| 74/74 [00:00<00:00, 51472.39formulae/s]\n"
          ]
        },
        {
          "output_type": "stream",
          "name": "stdout",
          "text": [
            "loading data with up to 4 elements in the formula\n",
            "training with batchsize 128 (2**7.000)\n"
          ]
        },
        {
          "output_type": "stream",
          "name": "stderr",
          "text": [
            "Generating EDM: 100%|██████████| 19/19 [00:00<00:00, 68937.52formulae/s]\n"
          ]
        },
        {
          "output_type": "stream",
          "name": "stdout",
          "text": [
            "loading data with up to 4 elements in the formula\n",
            "stepping every 10 training passes, cycling lr every 10 epochs\n",
            "running for 300 epochs, unless early stopping occurs\n",
            "checkin at 20 epochs to match lr scheduler\n",
            "Epoch: 0/300 --- train mae: 21.9 val mae: 18.9\n",
            "Epoch: 19/300 --- train mae: 19.4 val mae: 16.3\n",
            "Epoch: 39/300 --- train mae: 15.9 val mae: 15.9\n",
            "Epoch: 59/300 --- train mae: 14.2 val mae: 15.3\n",
            "Epoch: 79/300 --- train mae: 13.1 val mae: 14.6\n",
            "Epoch: 99/300 --- train mae: 12.5 val mae: 14.1\n",
            "Epoch: 119/300 --- train mae: 11.9 val mae: 13.9\n",
            "Epoch: 139/300 --- train mae: 11.9 val mae: 13.6\n",
            "Epoch 159 failed to improve.\n",
            "Discarded: 1/3 weight updates\n",
            "Epoch: 159/300 --- train mae: 11.5 val mae: 13.9\n",
            "Epoch: 179/300 --- train mae: 11.2 val mae: 13.3\n",
            "Epoch: 199/300 --- train mae: 11 val mae: 12.6\n",
            "Epoch 219 failed to improve.\n",
            "Discarded: 2/3 weight updates\n",
            "Epoch: 219/300 --- train mae: 11 val mae: 12.8\n",
            "Epoch: 239/300 --- train mae: 10.4 val mae: 11.9\n",
            "Epoch: 259/300 --- train mae: 10 val mae: 11.9\n",
            "Epoch: 279/300 --- train mae: 10.1 val mae: 11.6\n",
            "Epoch 299 failed to improve.\n",
            "Discarded: 3/3 weight updates\n",
            "Epoch: 299/300 --- train mae: 9.89 val mae: 11.8\n",
            "Discarded: 3/3weight updates, early-stopping now\n",
            "Saving network (UnnamedModel) to models/trained_models/UnnamedModel.pth\n"
          ]
        },
        {
          "output_type": "stream",
          "name": "stderr",
          "text": [
            "Generating EDM: 100%|██████████| 93/93 [00:00<00:00, 24778.95formulae/s]\n"
          ]
        },
        {
          "output_type": "stream",
          "name": "stdout",
          "text": [
            "loading data with up to 4 elements in the formula\n"
          ]
        },
        {
          "output_type": "stream",
          "name": "stderr",
          "text": [
            "Generating EDM: 100%|██████████| 7/7 [00:00<00:00, 24244.53formulae/s]\n"
          ]
        },
        {
          "output_type": "stream",
          "name": "stdout",
          "text": [
            "loading data with up to 4 elements in the formula\n",
            "[Iteration:  2 ]\n",
            "\n",
            "Model architecture: out_dims, d_model, N, heads\n",
            "3, 512, 3, 4\n",
            "Running on compute device: cuda:0\n",
            "Model size: 0 parameters\n",
            "\n"
          ]
        },
        {
          "output_type": "stream",
          "name": "stderr",
          "text": [
            "Generating EDM: 100%|██████████| 75/75 [00:00<00:00, 47705.91formulae/s]\n"
          ]
        },
        {
          "output_type": "stream",
          "name": "stdout",
          "text": [
            "loading data with up to 4 elements in the formula\n",
            "training with batchsize 128 (2**7.000)\n"
          ]
        },
        {
          "output_type": "stream",
          "name": "stderr",
          "text": [
            "Generating EDM: 100%|██████████| 19/19 [00:00<00:00, 60740.68formulae/s]\n"
          ]
        },
        {
          "output_type": "stream",
          "name": "stdout",
          "text": [
            "loading data with up to 4 elements in the formula\n",
            "stepping every 10 training passes, cycling lr every 10 epochs\n",
            "running for 300 epochs, unless early stopping occurs\n",
            "checkin at 20 epochs to match lr scheduler\n",
            "Epoch: 0/300 --- train mae: 16.9 val mae: 24.2\n",
            "Epoch: 19/300 --- train mae: 14.6 val mae: 22.6\n",
            "Epoch: 39/300 --- train mae: 10.7 val mae: 18.7\n",
            "Epoch: 59/300 --- train mae: 9.34 val mae: 16.5\n",
            "Epoch: 79/300 --- train mae: 8.65 val mae: 16.4\n",
            "Epoch: 99/300 --- train mae: 7.77 val mae: 14.8\n",
            "Epoch: 119/300 --- train mae: 7.47 val mae: 14.4\n",
            "Epoch: 139/300 --- train mae: 7.35 val mae: 14.5\n",
            "Epoch: 159/300 --- train mae: 7.11 val mae: 13.6\n",
            "Epoch 179 failed to improve.\n",
            "Discarded: 1/3 weight updates\n",
            "Epoch: 179/300 --- train mae: 7.09 val mae: 14.3\n",
            "Epoch: 199/300 --- train mae: 6.61 val mae: 13.4\n",
            "Epoch 219 failed to improve.\n",
            "Discarded: 2/3 weight updates\n",
            "Epoch: 219/300 --- train mae: 6.46 val mae: 13.8\n",
            "Epoch: 239/300 --- train mae: 6.3 val mae: 13.4\n",
            "Epoch: 259/300 --- train mae: 5.71 val mae: 12.7\n",
            "Epoch 279 failed to improve.\n",
            "Discarded: 3/3 weight updates\n",
            "Epoch: 279/300 --- train mae: 7.08 val mae: 13.3\n",
            "Discarded: 3/3weight updates, early-stopping now\n",
            "Saving network (UnnamedModel) to models/trained_models/UnnamedModel.pth\n"
          ]
        },
        {
          "output_type": "stream",
          "name": "stderr",
          "text": [
            "Generating EDM: 100%|██████████| 94/94 [00:00<00:00, 60646.76formulae/s]"
          ]
        },
        {
          "output_type": "stream",
          "name": "stdout",
          "text": [
            "loading data with up to 4 elements in the formula\n"
          ]
        },
        {
          "output_type": "stream",
          "name": "stderr",
          "text": [
            "\n",
            "Generating EDM: 100%|██████████| 6/6 [00:00<00:00, 38304.15formulae/s]\n"
          ]
        },
        {
          "output_type": "stream",
          "name": "stdout",
          "text": [
            "loading data with up to 4 elements in the formula\n",
            "[Iteration:  3 ]\n",
            "\n",
            "Model architecture: out_dims, d_model, N, heads\n",
            "3, 512, 3, 4\n",
            "Running on compute device: cuda:0\n",
            "Model size: 0 parameters\n",
            "\n"
          ]
        },
        {
          "output_type": "stream",
          "name": "stderr",
          "text": [
            "Generating EDM: 100%|██████████| 72/72 [00:00<00:00, 56436.16formulae/s]\n"
          ]
        },
        {
          "output_type": "stream",
          "name": "stdout",
          "text": [
            "loading data with up to 4 elements in the formula\n",
            "training with batchsize 128 (2**7.000)\n"
          ]
        },
        {
          "output_type": "stream",
          "name": "stderr",
          "text": [
            "Generating EDM: 100%|██████████| 18/18 [00:00<00:00, 38637.40formulae/s]\n"
          ]
        },
        {
          "output_type": "stream",
          "name": "stdout",
          "text": [
            "loading data with up to 4 elements in the formula\n",
            "stepping every 10 training passes, cycling lr every 10 epochs\n",
            "running for 300 epochs, unless early stopping occurs\n",
            "checkin at 20 epochs to match lr scheduler\n",
            "Epoch: 0/300 --- train mae: 20.7 val mae: 20.3\n",
            "Epoch: 19/300 --- train mae: 18 val mae: 18.1\n",
            "Epoch: 39/300 --- train mae: 14.2 val mae: 14.2\n",
            "Epoch: 59/300 --- train mae: 12.4 val mae: 12.9\n",
            "Epoch 79 failed to improve.\n",
            "Discarded: 1/3 weight updates\n",
            "Epoch: 79/300 --- train mae: 11.2 val mae: 14.2\n",
            "Epoch 99 failed to improve.\n",
            "Discarded: 2/3 weight updates\n",
            "Epoch: 99/300 --- train mae: 10.8 val mae: 16.6\n",
            "Epoch 119 failed to improve.\n",
            "Discarded: 3/3 weight updates\n",
            "Epoch: 119/300 --- train mae: 10.2 val mae: 16.2\n",
            "Discarded: 3/3weight updates, early-stopping now\n",
            "Saving network (UnnamedModel) to models/trained_models/UnnamedModel.pth\n"
          ]
        },
        {
          "output_type": "stream",
          "name": "stderr",
          "text": [
            "Generating EDM: 100%|██████████| 90/90 [00:00<00:00, 37286.38formulae/s]\n"
          ]
        },
        {
          "output_type": "stream",
          "name": "stdout",
          "text": [
            "loading data with up to 4 elements in the formula\n"
          ]
        },
        {
          "output_type": "stream",
          "name": "stderr",
          "text": [
            "Generating EDM: 100%|██████████| 10/10 [00:00<00:00, 30283.78formulae/s]\n"
          ]
        },
        {
          "output_type": "stream",
          "name": "stdout",
          "text": [
            "loading data with up to 4 elements in the formula\n",
            "[Iteration:  4 ]\n",
            "\n",
            "Model architecture: out_dims, d_model, N, heads\n",
            "3, 512, 3, 4\n",
            "Running on compute device: cuda:0\n",
            "Model size: 0 parameters\n",
            "\n"
          ]
        },
        {
          "output_type": "stream",
          "name": "stderr",
          "text": [
            "Generating EDM: 100%|██████████| 64/64 [00:00<00:00, 85680.01formulae/s]\n"
          ]
        },
        {
          "output_type": "stream",
          "name": "stdout",
          "text": [
            "loading data with up to 4 elements in the formula\n",
            "training with batchsize 128 (2**7.000)\n"
          ]
        },
        {
          "output_type": "stream",
          "name": "stderr",
          "text": [
            "Generating EDM: 100%|██████████| 16/16 [00:00<00:00, 36751.84formulae/s]\n"
          ]
        },
        {
          "output_type": "stream",
          "name": "stdout",
          "text": [
            "loading data with up to 4 elements in the formula\n",
            "stepping every 10 training passes, cycling lr every 10 epochs\n",
            "running for 300 epochs, unless early stopping occurs\n",
            "checkin at 20 epochs to match lr scheduler\n",
            "Epoch: 0/300 --- train mae: 23.1 val mae: 21.6\n",
            "Epoch: 19/300 --- train mae: 20.3 val mae: 17.8\n",
            "Epoch: 39/300 --- train mae: 16.6 val mae: 13.7\n",
            "Epoch: 59/300 --- train mae: 14.2 val mae: 12.3\n",
            "Epoch 79 failed to improve.\n",
            "Discarded: 1/3 weight updates\n",
            "Epoch: 79/300 --- train mae: 13.6 val mae: 12.7\n",
            "Epoch: 99/300 --- train mae: 12.5 val mae: 11.9\n",
            "Epoch: 119/300 --- train mae: 12.5 val mae: 11.9\n",
            "Epoch: 139/300 --- train mae: 11.4 val mae: 11.6\n",
            "Epoch: 159/300 --- train mae: 11.1 val mae: 11.1\n",
            "Epoch 179 failed to improve.\n",
            "Discarded: 2/3 weight updates\n",
            "Epoch: 179/300 --- train mae: 10.6 val mae: 11.5\n",
            "Epoch: 199/300 --- train mae: 10.2 val mae: 11.1\n",
            "Epoch: 219/300 --- train mae: 10.4 val mae: 10.7\n",
            "Epoch 239 failed to improve.\n",
            "Discarded: 3/3 weight updates\n",
            "Epoch: 239/300 --- train mae: 10.2 val mae: 10.9\n",
            "Discarded: 3/3weight updates, early-stopping now\n",
            "Saving network (UnnamedModel) to models/trained_models/UnnamedModel.pth\n"
          ]
        },
        {
          "output_type": "stream",
          "name": "stderr",
          "text": [
            "Generating EDM: 100%|██████████| 80/80 [00:00<00:00, 58784.92formulae/s]\n"
          ]
        },
        {
          "output_type": "stream",
          "name": "stdout",
          "text": [
            "loading data with up to 4 elements in the formula\n"
          ]
        },
        {
          "output_type": "stream",
          "name": "stderr",
          "text": [
            "Generating EDM: 100%|██████████| 20/20 [00:00<00:00, 34879.87formulae/s]\n"
          ]
        },
        {
          "output_type": "stream",
          "name": "stdout",
          "text": [
            "loading data with up to 4 elements in the formula\n",
            "[Iteration:  5 ]\n",
            "\n",
            "Model architecture: out_dims, d_model, N, heads\n",
            "3, 512, 3, 4\n",
            "Running on compute device: cuda:0\n",
            "Model size: 0 parameters\n",
            "\n"
          ]
        },
        {
          "output_type": "stream",
          "name": "stderr",
          "text": [
            "Generating EDM: 100%|██████████| 75/75 [00:00<00:00, 102500.10formulae/s]\n"
          ]
        },
        {
          "output_type": "stream",
          "name": "stdout",
          "text": [
            "loading data with up to 4 elements in the formula\n",
            "training with batchsize 128 (2**7.000)\n"
          ]
        },
        {
          "output_type": "stream",
          "name": "stderr",
          "text": [
            "Generating EDM: 100%|██████████| 19/19 [00:00<00:00, 29581.21formulae/s]\n"
          ]
        },
        {
          "output_type": "stream",
          "name": "stdout",
          "text": [
            "loading data with up to 4 elements in the formula\n",
            "stepping every 10 training passes, cycling lr every 10 epochs\n",
            "running for 300 epochs, unless early stopping occurs\n",
            "checkin at 20 epochs to match lr scheduler\n",
            "Epoch: 0/300 --- train mae: 21.1 val mae: 23.3\n",
            "Epoch: 19/300 --- train mae: 18 val mae: 21.1\n",
            "Epoch: 39/300 --- train mae: 13.9 val mae: 21.1\n",
            "Epoch: 59/300 --- train mae: 12.4 val mae: 19.9\n",
            "Epoch: 79/300 --- train mae: 11.9 val mae: 19.3\n",
            "Epoch: 99/300 --- train mae: 11.7 val mae: 18.3\n",
            "Epoch: 119/300 --- train mae: 11 val mae: 17.4\n",
            "Epoch: 139/300 --- train mae: 10.3 val mae: 16.5\n",
            "Epoch: 159/300 --- train mae: 10 val mae: 16.4\n",
            "Epoch 179 failed to improve.\n",
            "Discarded: 1/3 weight updates\n",
            "Epoch: 179/300 --- train mae: 9.57 val mae: 16.7\n",
            "Epoch: 199/300 --- train mae: 9.75 val mae: 16.6\n",
            "Epoch 219 failed to improve.\n",
            "Discarded: 2/3 weight updates\n",
            "Epoch: 219/300 --- train mae: 9.36 val mae: 18.3\n",
            "Epoch 239 failed to improve.\n",
            "Discarded: 3/3 weight updates\n",
            "Epoch: 239/300 --- train mae: 8.67 val mae: 18.1\n",
            "Discarded: 3/3weight updates, early-stopping now\n",
            "Saving network (UnnamedModel) to models/trained_models/UnnamedModel.pth\n"
          ]
        },
        {
          "output_type": "stream",
          "name": "stderr",
          "text": [
            "Generating EDM: 100%|██████████| 94/94 [00:00<00:00, 58470.20formulae/s]"
          ]
        },
        {
          "output_type": "stream",
          "name": "stdout",
          "text": [
            "loading data with up to 4 elements in the formula\n"
          ]
        },
        {
          "output_type": "stream",
          "name": "stderr",
          "text": [
            "\n",
            "Generating EDM: 100%|██████████| 6/6 [00:00<00:00, 30954.27formulae/s]\n"
          ]
        },
        {
          "output_type": "stream",
          "name": "stdout",
          "text": [
            "loading data with up to 4 elements in the formula\n",
            "[Iteration:  6 ]\n",
            "\n",
            "Model architecture: out_dims, d_model, N, heads\n",
            "3, 512, 3, 4\n",
            "Running on compute device: cuda:0\n",
            "Model size: 0 parameters\n",
            "\n"
          ]
        },
        {
          "output_type": "stream",
          "name": "stderr",
          "text": [
            "Generating EDM: 100%|██████████| 68/68 [00:00<00:00, 89408.36formulae/s]\n"
          ]
        },
        {
          "output_type": "stream",
          "name": "stdout",
          "text": [
            "loading data with up to 4 elements in the formula\n",
            "training with batchsize 128 (2**7.000)\n"
          ]
        },
        {
          "output_type": "stream",
          "name": "stderr",
          "text": [
            "Generating EDM: 100%|██████████| 17/17 [00:00<00:00, 49516.09formulae/s]\n"
          ]
        },
        {
          "output_type": "stream",
          "name": "stdout",
          "text": [
            "loading data with up to 4 elements in the formula\n",
            "stepping every 10 training passes, cycling lr every 10 epochs\n",
            "running for 300 epochs, unless early stopping occurs\n",
            "checkin at 20 epochs to match lr scheduler\n",
            "Epoch: 0/300 --- train mae: 22.7 val mae: 24.1\n",
            "Epoch: 19/300 --- train mae: 20 val mae: 20.6\n",
            "Epoch: 39/300 --- train mae: 15.3 val mae: 16.9\n",
            "Epoch: 59/300 --- train mae: 12.8 val mae: 14.8\n",
            "Epoch: 79/300 --- train mae: 11.8 val mae: 14\n",
            "Epoch: 99/300 --- train mae: 11 val mae: 13.6\n",
            "Epoch: 119/300 --- train mae: 11 val mae: 13.2\n",
            "Epoch: 139/300 --- train mae: 10.2 val mae: 13\n",
            "Epoch: 159/300 --- train mae: 9.76 val mae: 13\n",
            "Epoch: 179/300 --- train mae: 9.48 val mae: 12.7\n",
            "Epoch 199 failed to improve.\n",
            "Discarded: 1/3 weight updates\n",
            "Epoch: 199/300 --- train mae: 8.89 val mae: 13\n",
            "Epoch 219 failed to improve.\n",
            "Discarded: 2/3 weight updates\n",
            "Epoch: 219/300 --- train mae: 8.49 val mae: 13.2\n",
            "Epoch 239 failed to improve.\n",
            "Discarded: 3/3 weight updates\n",
            "Epoch: 239/300 --- train mae: 8.3 val mae: 13.7\n",
            "Discarded: 3/3weight updates, early-stopping now\n",
            "Saving network (UnnamedModel) to models/trained_models/UnnamedModel.pth\n"
          ]
        },
        {
          "output_type": "stream",
          "name": "stderr",
          "text": [
            "Generating EDM: 100%|██████████| 85/85 [00:00<00:00, 99225.12formulae/s]\n"
          ]
        },
        {
          "output_type": "stream",
          "name": "stdout",
          "text": [
            "loading data with up to 4 elements in the formula\n"
          ]
        },
        {
          "output_type": "stream",
          "name": "stderr",
          "text": [
            "Generating EDM: 100%|██████████| 15/15 [00:00<00:00, 13635.58formulae/s]\n"
          ]
        },
        {
          "output_type": "stream",
          "name": "stdout",
          "text": [
            "loading data with up to 4 elements in the formula\n",
            "[Iteration:  7 ]\n",
            "\n",
            "Model architecture: out_dims, d_model, N, heads\n",
            "3, 512, 3, 4\n",
            "Running on compute device: cuda:0\n",
            "Model size: 0 parameters\n",
            "\n"
          ]
        },
        {
          "output_type": "stream",
          "name": "stderr",
          "text": [
            "Generating EDM: 100%|██████████| 71/71 [00:00<00:00, 71706.14formulae/s]\n"
          ]
        },
        {
          "output_type": "stream",
          "name": "stdout",
          "text": [
            "loading data with up to 4 elements in the formula\n",
            "training with batchsize 128 (2**7.000)\n"
          ]
        },
        {
          "output_type": "stream",
          "name": "stderr",
          "text": [
            "Generating EDM: 100%|██████████| 18/18 [00:00<00:00, 40416.21formulae/s]\n"
          ]
        },
        {
          "output_type": "stream",
          "name": "stdout",
          "text": [
            "loading data with up to 4 elements in the formula\n",
            "stepping every 10 training passes, cycling lr every 10 epochs\n",
            "running for 300 epochs, unless early stopping occurs\n",
            "checkin at 20 epochs to match lr scheduler\n",
            "Epoch: 0/300 --- train mae: 18.9 val mae: 28.4\n",
            "Epoch: 19/300 --- train mae: 16.4 val mae: 30.4\n",
            "Epoch: 39/300 --- train mae: 12.9 val mae: 25.6\n",
            "Epoch: 59/300 --- train mae: 11.3 val mae: 22.8\n",
            "Epoch: 79/300 --- train mae: 10 val mae: 21.9\n",
            "Epoch 99 failed to improve.\n",
            "Discarded: 1/3 weight updates\n",
            "Epoch: 99/300 --- train mae: 9.03 val mae: 22.5\n",
            "Epoch 119 failed to improve.\n",
            "Discarded: 2/3 weight updates\n",
            "Epoch: 119/300 --- train mae: 8.42 val mae: 23.9\n",
            "Epoch 139 failed to improve.\n",
            "Discarded: 3/3 weight updates\n",
            "Epoch: 139/300 --- train mae: 7.93 val mae: 22.4\n",
            "Discarded: 3/3weight updates, early-stopping now\n",
            "Saving network (UnnamedModel) to models/trained_models/UnnamedModel.pth\n"
          ]
        },
        {
          "output_type": "stream",
          "name": "stderr",
          "text": [
            "Generating EDM: 100%|██████████| 89/89 [00:00<00:00, 56201.91formulae/s]\n"
          ]
        },
        {
          "output_type": "stream",
          "name": "stdout",
          "text": [
            "loading data with up to 4 elements in the formula\n"
          ]
        },
        {
          "output_type": "stream",
          "name": "stderr",
          "text": [
            "Generating EDM: 100%|██████████| 11/11 [00:00<00:00, 32837.97formulae/s]\n"
          ]
        },
        {
          "output_type": "stream",
          "name": "stdout",
          "text": [
            "loading data with up to 4 elements in the formula\n",
            "[Iteration:  8 ]\n",
            "\n",
            "Model architecture: out_dims, d_model, N, heads\n",
            "3, 512, 3, 4\n",
            "Running on compute device: cuda:0\n",
            "Model size: 0 parameters\n",
            "\n"
          ]
        },
        {
          "output_type": "stream",
          "name": "stderr",
          "text": [
            "Generating EDM: 100%|██████████| 74/74 [00:00<00:00, 59323.11formulae/s]\n"
          ]
        },
        {
          "output_type": "stream",
          "name": "stdout",
          "text": [
            "loading data with up to 4 elements in the formula\n",
            "training with batchsize 128 (2**7.000)\n"
          ]
        },
        {
          "output_type": "stream",
          "name": "stderr",
          "text": [
            "Generating EDM: 100%|██████████| 19/19 [00:00<00:00, 39490.47formulae/s]\n"
          ]
        },
        {
          "output_type": "stream",
          "name": "stdout",
          "text": [
            "loading data with up to 4 elements in the formula\n",
            "stepping every 10 training passes, cycling lr every 10 epochs\n",
            "running for 300 epochs, unless early stopping occurs\n",
            "checkin at 20 epochs to match lr scheduler\n",
            "Epoch: 0/300 --- train mae: 19.3 val mae: 22.5\n",
            "Epoch: 19/300 --- train mae: 17.2 val mae: 21.6\n",
            "Epoch: 39/300 --- train mae: 14.4 val mae: 19.6\n",
            "Epoch: 59/300 --- train mae: 13 val mae: 18.2\n",
            "Epoch: 79/300 --- train mae: 11.1 val mae: 15.3\n",
            "Epoch: 99/300 --- train mae: 9.96 val mae: 13.7\n",
            "Epoch: 119/300 --- train mae: 9.22 val mae: 12.3\n",
            "Epoch: 139/300 --- train mae: 8.45 val mae: 11.2\n",
            "Epoch: 159/300 --- train mae: 8.15 val mae: 10.9\n",
            "Epoch: 179/300 --- train mae: 8.08 val mae: 10.8\n",
            "Epoch: 199/300 --- train mae: 7.75 val mae: 10.4\n",
            "Epoch: 219/300 --- train mae: 7.78 val mae: 9.92\n",
            "Epoch 239 failed to improve.\n",
            "Discarded: 1/3 weight updates\n",
            "Epoch: 239/300 --- train mae: 7.58 val mae: 10.6\n",
            "Epoch: 259/300 --- train mae: 7.39 val mae: 9.94\n",
            "Epoch: 279/300 --- train mae: 6.67 val mae: 8.93\n",
            "Epoch 299 failed to improve.\n",
            "Discarded: 2/3 weight updates\n",
            "Epoch: 299/300 --- train mae: 6.63 val mae: 9.4\n",
            "Saving network (UnnamedModel) to models/trained_models/UnnamedModel.pth\n"
          ]
        },
        {
          "output_type": "stream",
          "name": "stderr",
          "text": [
            "Generating EDM: 100%|██████████| 93/93 [00:00<00:00, 59471.00formulae/s]"
          ]
        },
        {
          "output_type": "stream",
          "name": "stdout",
          "text": [
            "loading data with up to 4 elements in the formula\n"
          ]
        },
        {
          "output_type": "stream",
          "name": "stderr",
          "text": [
            "\n",
            "Generating EDM: 100%|██████████| 7/7 [00:00<00:00, 35416.32formulae/s]\n"
          ]
        },
        {
          "output_type": "stream",
          "name": "stdout",
          "text": [
            "loading data with up to 4 elements in the formula\n",
            "[Iteration:  9 ]\n",
            "\n",
            "Model architecture: out_dims, d_model, N, heads\n",
            "3, 512, 3, 4\n",
            "Running on compute device: cuda:0\n",
            "Model size: 0 parameters\n",
            "\n"
          ]
        },
        {
          "output_type": "stream",
          "name": "stderr",
          "text": [
            "Generating EDM: 100%|██████████| 72/72 [00:00<00:00, 56100.67formulae/s]\n"
          ]
        },
        {
          "output_type": "stream",
          "name": "stdout",
          "text": [
            "loading data with up to 4 elements in the formula\n",
            "training with batchsize 128 (2**7.000)\n"
          ]
        },
        {
          "output_type": "stream",
          "name": "stderr",
          "text": [
            "Generating EDM: 100%|██████████| 18/18 [00:00<00:00, 37319.56formulae/s]\n"
          ]
        },
        {
          "output_type": "stream",
          "name": "stdout",
          "text": [
            "loading data with up to 4 elements in the formula\n",
            "stepping every 10 training passes, cycling lr every 10 epochs\n",
            "running for 300 epochs, unless early stopping occurs\n",
            "checkin at 20 epochs to match lr scheduler\n",
            "Epoch: 0/300 --- train mae: 19 val mae: 28.7\n",
            "Epoch: 19/300 --- train mae: 16.4 val mae: 26.5\n",
            "Epoch: 39/300 --- train mae: 12.2 val mae: 23.2\n",
            "Epoch: 59/300 --- train mae: 10.5 val mae: 23\n",
            "Epoch 79 failed to improve.\n",
            "Discarded: 1/3 weight updates\n",
            "Epoch: 79/300 --- train mae: 9.6 val mae: 24.5\n",
            "Epoch 99 failed to improve.\n",
            "Discarded: 2/3 weight updates\n",
            "Epoch: 99/300 --- train mae: 9.08 val mae: 25.3\n",
            "Epoch 119 failed to improve.\n",
            "Discarded: 3/3 weight updates\n",
            "Epoch: 119/300 --- train mae: 8.46 val mae: 25.9\n",
            "Discarded: 3/3weight updates, early-stopping now\n",
            "Saving network (UnnamedModel) to models/trained_models/UnnamedModel.pth\n"
          ]
        },
        {
          "output_type": "stream",
          "name": "stderr",
          "text": [
            "Generating EDM: 100%|██████████| 90/90 [00:00<00:00, 41564.34formulae/s]\n"
          ]
        },
        {
          "output_type": "stream",
          "name": "stdout",
          "text": [
            "loading data with up to 4 elements in the formula\n"
          ]
        },
        {
          "output_type": "stream",
          "name": "stderr",
          "text": [
            "Generating EDM: 100%|██████████| 10/10 [00:00<00:00, 34952.53formulae/s]"
          ]
        },
        {
          "output_type": "stream",
          "name": "stdout",
          "text": [
            "loading data with up to 4 elements in the formula\n",
            "Weighted group cross validation error:  0.5007914297486284\n",
            "Weighted group cross validation scaled error:  0.8160623350325352\n",
            "scaled test error =  0.8160623350325352\n"
          ]
        },
        {
          "output_type": "stream",
          "name": "stderr",
          "text": [
            "\n"
          ]
        }
      ]
    },
    {
      "cell_type": "code",
      "execution_count": null,
      "metadata": {
        "id": "ZUBMxVet_St0",
        "colab": {
          "base_uri": "https://localhost:8080/",
          "height": 1000
        },
        "outputId": "0cfd399b-829b-445b-f2d8-d0da3fc864d4"
      },
      "outputs": [
        {
          "output_type": "stream",
          "name": "stderr",
          "text": [
            "/usr/local/lib/python3.7/dist-packages/plotly/graph_objs/_deprecations.py:385: DeprecationWarning:\n",
            "\n",
            "plotly.graph_objs.Line is deprecated.\n",
            "Please replace it with one of the following more specific types\n",
            "  - plotly.graph_objs.scatter.Line\n",
            "  - plotly.graph_objs.layout.shape.Line\n",
            "  - etc.\n",
            "\n",
            "\n"
          ]
        },
        {
          "output_type": "display_data",
          "data": {
            "text/html": [
              "<html>\n",
              "<head><meta charset=\"utf-8\" /></head>\n",
              "<body>\n",
              "    <div>            <script src=\"https://cdnjs.cloudflare.com/ajax/libs/mathjax/2.7.5/MathJax.js?config=TeX-AMS-MML_SVG\"></script><script type=\"text/javascript\">if (window.MathJax) {MathJax.Hub.Config({SVG: {font: \"STIX-Web\"}});}</script>                <script type=\"text/javascript\">window.PlotlyConfig = {MathJaxConfig: 'local'};</script>\n",
              "        <script src=\"https://cdn.plot.ly/plotly-2.9.0.min.js\"></script>                <div id=\"8c7491f5-e99c-4c19-8fe9-478d471be4d7\" class=\"plotly-graph-div\" style=\"height:525px; width:100%;\"></div>            <script type=\"text/javascript\">                                    window.PLOTLYENV=window.PLOTLYENV || {};                                    if (document.getElementById(\"8c7491f5-e99c-4c19-8fe9-478d471be4d7\")) {                    Plotly.newPlot(                        \"8c7491f5-e99c-4c19-8fe9-478d471be4d7\",                        [{\"customdata\":[[\"Ag3P11\"],[\"Ac3Sn\"],[\"Ac\"],[\"AcMgTl2\"],[\"AcCdRh2\"],[\"AcHgAu2\"],[\"AcGa3\"],[\"AcAu3\"],[\"AcBr3\"],[\"AcI3\"],[\"Ag2HgI4\"],[\"Ag2CO3\"],[\"Ag2MoO4\"],[\"Ag2SeO3\"],[\"Ac2NiIr\"],[\"Ac2CuIr\"],[\"Ac2ZnGe\"],[\"Ac2MgSn\"],[\"Ag2S\"],[\"Ag2O\"]],\"hovertemplate\":\"10_neigh_avg_targ=%{x}<br>target=%{y}<br>formula=%{customdata[0]}<br>cluster ID=%{marker.color}<extra></extra>\",\"legendgroup\":\"\",\"marker\":{\"color\":[-1,-1,0,1,1,1,1,1,2,2,3,3,3,3,4,4,5,5,7,7],\"coloraxis\":\"coloraxis\",\"symbol\":\"circle\"},\"mode\":\"markers\",\"name\":\"\",\"orientation\":\"v\",\"showlegend\":false,\"x\":[64.51373672485352,53.86116409301758,46.43861637115479,45.82298393249512,60.00486946105957,59.49923095703125,46.02253341674805,57.34752349853515,45.690134048461914,43.84253578186035,65.27526321411133,64.30125122070312,64.63169479370117,64.8469955444336,62.334524917602536,62.28541526794434,51.12691650390625,51.24642372131348,66.60263061523438,65.05944786071777],\"xaxis\":\"x\",\"y\":[68.24990844726562,47.18505096435547,35.121315002441406,40.41709899902344,54.76063919067383,59.81702423095703,40.886024475097656,64.45983123779297,34.53771209716797,43.46376037597656,60.766151428222656,70.50627136230469,72.7382583618164,65.048828125,65.5601806640625,66.05127716064453,46.532527923583984,45.33745574951172,59.65607833862305,75.08790588378906],\"yaxis\":\"y\",\"type\":\"scatter\"},{\"hoverinfo\":\"skip\",\"line\":{\"color\":\"black\",\"dash\":\"dash\",\"width\":1},\"marker\":{\"size\":10,\"symbol\":\"circle-open\"},\"mode\":\"lines\",\"name\":\"pareto front\",\"x\":[65.05944786071777,64.63169479370117,64.30125122070312,62.28541526794434,57.34752349853515,53.86116409301758,51.12691650390625,43.84253578186035],\"y\":[75.08790588378906,72.7382583618164,70.50627136230469,66.05127716064453,64.45983123779297,47.18505096435547,46.532527923583984,43.46376037597656],\"type\":\"scatter\"},{\"name\":\"parity\",\"x\":[0,75.08790588378906],\"y\":[0,75.08790588378906],\"type\":\"scatter\"}],                        {\"template\":{\"data\":{\"bar\":[{\"error_x\":{\"color\":\"#2a3f5f\"},\"error_y\":{\"color\":\"#2a3f5f\"},\"marker\":{\"line\":{\"color\":\"#E5ECF6\",\"width\":0.5},\"pattern\":{\"fillmode\":\"overlay\",\"size\":10,\"solidity\":0.2}},\"type\":\"bar\"}],\"barpolar\":[{\"marker\":{\"line\":{\"color\":\"#E5ECF6\",\"width\":0.5},\"pattern\":{\"fillmode\":\"overlay\",\"size\":10,\"solidity\":0.2}},\"type\":\"barpolar\"}],\"carpet\":[{\"aaxis\":{\"endlinecolor\":\"#2a3f5f\",\"gridcolor\":\"white\",\"linecolor\":\"white\",\"minorgridcolor\":\"white\",\"startlinecolor\":\"#2a3f5f\"},\"baxis\":{\"endlinecolor\":\"#2a3f5f\",\"gridcolor\":\"white\",\"linecolor\":\"white\",\"minorgridcolor\":\"white\",\"startlinecolor\":\"#2a3f5f\"},\"type\":\"carpet\"}],\"choropleth\":[{\"colorbar\":{\"outlinewidth\":0,\"ticks\":\"\"},\"type\":\"choropleth\"}],\"contour\":[{\"colorbar\":{\"outlinewidth\":0,\"ticks\":\"\"},\"colorscale\":[[0.0,\"#0d0887\"],[0.1111111111111111,\"#46039f\"],[0.2222222222222222,\"#7201a8\"],[0.3333333333333333,\"#9c179e\"],[0.4444444444444444,\"#bd3786\"],[0.5555555555555556,\"#d8576b\"],[0.6666666666666666,\"#ed7953\"],[0.7777777777777778,\"#fb9f3a\"],[0.8888888888888888,\"#fdca26\"],[1.0,\"#f0f921\"]],\"type\":\"contour\"}],\"contourcarpet\":[{\"colorbar\":{\"outlinewidth\":0,\"ticks\":\"\"},\"type\":\"contourcarpet\"}],\"heatmap\":[{\"colorbar\":{\"outlinewidth\":0,\"ticks\":\"\"},\"colorscale\":[[0.0,\"#0d0887\"],[0.1111111111111111,\"#46039f\"],[0.2222222222222222,\"#7201a8\"],[0.3333333333333333,\"#9c179e\"],[0.4444444444444444,\"#bd3786\"],[0.5555555555555556,\"#d8576b\"],[0.6666666666666666,\"#ed7953\"],[0.7777777777777778,\"#fb9f3a\"],[0.8888888888888888,\"#fdca26\"],[1.0,\"#f0f921\"]],\"type\":\"heatmap\"}],\"heatmapgl\":[{\"colorbar\":{\"outlinewidth\":0,\"ticks\":\"\"},\"colorscale\":[[0.0,\"#0d0887\"],[0.1111111111111111,\"#46039f\"],[0.2222222222222222,\"#7201a8\"],[0.3333333333333333,\"#9c179e\"],[0.4444444444444444,\"#bd3786\"],[0.5555555555555556,\"#d8576b\"],[0.6666666666666666,\"#ed7953\"],[0.7777777777777778,\"#fb9f3a\"],[0.8888888888888888,\"#fdca26\"],[1.0,\"#f0f921\"]],\"type\":\"heatmapgl\"}],\"histogram\":[{\"marker\":{\"pattern\":{\"fillmode\":\"overlay\",\"size\":10,\"solidity\":0.2}},\"type\":\"histogram\"}],\"histogram2d\":[{\"colorbar\":{\"outlinewidth\":0,\"ticks\":\"\"},\"colorscale\":[[0.0,\"#0d0887\"],[0.1111111111111111,\"#46039f\"],[0.2222222222222222,\"#7201a8\"],[0.3333333333333333,\"#9c179e\"],[0.4444444444444444,\"#bd3786\"],[0.5555555555555556,\"#d8576b\"],[0.6666666666666666,\"#ed7953\"],[0.7777777777777778,\"#fb9f3a\"],[0.8888888888888888,\"#fdca26\"],[1.0,\"#f0f921\"]],\"type\":\"histogram2d\"}],\"histogram2dcontour\":[{\"colorbar\":{\"outlinewidth\":0,\"ticks\":\"\"},\"colorscale\":[[0.0,\"#0d0887\"],[0.1111111111111111,\"#46039f\"],[0.2222222222222222,\"#7201a8\"],[0.3333333333333333,\"#9c179e\"],[0.4444444444444444,\"#bd3786\"],[0.5555555555555556,\"#d8576b\"],[0.6666666666666666,\"#ed7953\"],[0.7777777777777778,\"#fb9f3a\"],[0.8888888888888888,\"#fdca26\"],[1.0,\"#f0f921\"]],\"type\":\"histogram2dcontour\"}],\"mesh3d\":[{\"colorbar\":{\"outlinewidth\":0,\"ticks\":\"\"},\"type\":\"mesh3d\"}],\"parcoords\":[{\"line\":{\"colorbar\":{\"outlinewidth\":0,\"ticks\":\"\"}},\"type\":\"parcoords\"}],\"pie\":[{\"automargin\":true,\"type\":\"pie\"}],\"scatter\":[{\"marker\":{\"colorbar\":{\"outlinewidth\":0,\"ticks\":\"\"}},\"type\":\"scatter\"}],\"scatter3d\":[{\"line\":{\"colorbar\":{\"outlinewidth\":0,\"ticks\":\"\"}},\"marker\":{\"colorbar\":{\"outlinewidth\":0,\"ticks\":\"\"}},\"type\":\"scatter3d\"}],\"scattercarpet\":[{\"marker\":{\"colorbar\":{\"outlinewidth\":0,\"ticks\":\"\"}},\"type\":\"scattercarpet\"}],\"scattergeo\":[{\"marker\":{\"colorbar\":{\"outlinewidth\":0,\"ticks\":\"\"}},\"type\":\"scattergeo\"}],\"scattergl\":[{\"marker\":{\"colorbar\":{\"outlinewidth\":0,\"ticks\":\"\"}},\"type\":\"scattergl\"}],\"scattermapbox\":[{\"marker\":{\"colorbar\":{\"outlinewidth\":0,\"ticks\":\"\"}},\"type\":\"scattermapbox\"}],\"scatterpolar\":[{\"marker\":{\"colorbar\":{\"outlinewidth\":0,\"ticks\":\"\"}},\"type\":\"scatterpolar\"}],\"scatterpolargl\":[{\"marker\":{\"colorbar\":{\"outlinewidth\":0,\"ticks\":\"\"}},\"type\":\"scatterpolargl\"}],\"scatterternary\":[{\"marker\":{\"colorbar\":{\"outlinewidth\":0,\"ticks\":\"\"}},\"type\":\"scatterternary\"}],\"surface\":[{\"colorbar\":{\"outlinewidth\":0,\"ticks\":\"\"},\"colorscale\":[[0.0,\"#0d0887\"],[0.1111111111111111,\"#46039f\"],[0.2222222222222222,\"#7201a8\"],[0.3333333333333333,\"#9c179e\"],[0.4444444444444444,\"#bd3786\"],[0.5555555555555556,\"#d8576b\"],[0.6666666666666666,\"#ed7953\"],[0.7777777777777778,\"#fb9f3a\"],[0.8888888888888888,\"#fdca26\"],[1.0,\"#f0f921\"]],\"type\":\"surface\"}],\"table\":[{\"cells\":{\"fill\":{\"color\":\"#EBF0F8\"},\"line\":{\"color\":\"white\"}},\"header\":{\"fill\":{\"color\":\"#C8D4E3\"},\"line\":{\"color\":\"white\"}},\"type\":\"table\"}]},\"layout\":{\"annotationdefaults\":{\"arrowcolor\":\"#2a3f5f\",\"arrowhead\":0,\"arrowwidth\":1},\"autotypenumbers\":\"strict\",\"coloraxis\":{\"colorbar\":{\"outlinewidth\":0,\"ticks\":\"\"}},\"colorscale\":{\"diverging\":[[0,\"#8e0152\"],[0.1,\"#c51b7d\"],[0.2,\"#de77ae\"],[0.3,\"#f1b6da\"],[0.4,\"#fde0ef\"],[0.5,\"#f7f7f7\"],[0.6,\"#e6f5d0\"],[0.7,\"#b8e186\"],[0.8,\"#7fbc41\"],[0.9,\"#4d9221\"],[1,\"#276419\"]],\"sequential\":[[0.0,\"#0d0887\"],[0.1111111111111111,\"#46039f\"],[0.2222222222222222,\"#7201a8\"],[0.3333333333333333,\"#9c179e\"],[0.4444444444444444,\"#bd3786\"],[0.5555555555555556,\"#d8576b\"],[0.6666666666666666,\"#ed7953\"],[0.7777777777777778,\"#fb9f3a\"],[0.8888888888888888,\"#fdca26\"],[1.0,\"#f0f921\"]],\"sequentialminus\":[[0.0,\"#0d0887\"],[0.1111111111111111,\"#46039f\"],[0.2222222222222222,\"#7201a8\"],[0.3333333333333333,\"#9c179e\"],[0.4444444444444444,\"#bd3786\"],[0.5555555555555556,\"#d8576b\"],[0.6666666666666666,\"#ed7953\"],[0.7777777777777778,\"#fb9f3a\"],[0.8888888888888888,\"#fdca26\"],[1.0,\"#f0f921\"]]},\"colorway\":[\"#636efa\",\"#EF553B\",\"#00cc96\",\"#ab63fa\",\"#FFA15A\",\"#19d3f3\",\"#FF6692\",\"#B6E880\",\"#FF97FF\",\"#FECB52\"],\"font\":{\"color\":\"#2a3f5f\"},\"geo\":{\"bgcolor\":\"white\",\"lakecolor\":\"white\",\"landcolor\":\"#E5ECF6\",\"showlakes\":true,\"showland\":true,\"subunitcolor\":\"white\"},\"hoverlabel\":{\"align\":\"left\"},\"hovermode\":\"closest\",\"mapbox\":{\"style\":\"light\"},\"paper_bgcolor\":\"white\",\"plot_bgcolor\":\"#E5ECF6\",\"polar\":{\"angularaxis\":{\"gridcolor\":\"white\",\"linecolor\":\"white\",\"ticks\":\"\"},\"bgcolor\":\"#E5ECF6\",\"radialaxis\":{\"gridcolor\":\"white\",\"linecolor\":\"white\",\"ticks\":\"\"}},\"scene\":{\"xaxis\":{\"backgroundcolor\":\"#E5ECF6\",\"gridcolor\":\"white\",\"gridwidth\":2,\"linecolor\":\"white\",\"showbackground\":true,\"ticks\":\"\",\"zerolinecolor\":\"white\"},\"yaxis\":{\"backgroundcolor\":\"#E5ECF6\",\"gridcolor\":\"white\",\"gridwidth\":2,\"linecolor\":\"white\",\"showbackground\":true,\"ticks\":\"\",\"zerolinecolor\":\"white\"},\"zaxis\":{\"backgroundcolor\":\"#E5ECF6\",\"gridcolor\":\"white\",\"gridwidth\":2,\"linecolor\":\"white\",\"showbackground\":true,\"ticks\":\"\",\"zerolinecolor\":\"white\"}},\"shapedefaults\":{\"line\":{\"color\":\"#2a3f5f\"}},\"ternary\":{\"aaxis\":{\"gridcolor\":\"white\",\"linecolor\":\"white\",\"ticks\":\"\"},\"baxis\":{\"gridcolor\":\"white\",\"linecolor\":\"white\",\"ticks\":\"\"},\"bgcolor\":\"#E5ECF6\",\"caxis\":{\"gridcolor\":\"white\",\"linecolor\":\"white\",\"ticks\":\"\"}},\"title\":{\"x\":0.05},\"xaxis\":{\"automargin\":true,\"gridcolor\":\"white\",\"linecolor\":\"white\",\"ticks\":\"\",\"title\":{\"standoff\":15},\"zerolinecolor\":\"white\",\"zerolinewidth\":2},\"yaxis\":{\"automargin\":true,\"gridcolor\":\"white\",\"linecolor\":\"white\",\"ticks\":\"\",\"title\":{\"standoff\":15},\"zerolinecolor\":\"white\",\"zerolinewidth\":2}}},\"xaxis\":{\"anchor\":\"y\",\"domain\":[0.0,1.0],\"title\":{\"text\":\"10_neigh_avg_targ\"},\"autorange\":\"reversed\"},\"yaxis\":{\"anchor\":\"x\",\"domain\":[0.0,1.0],\"title\":{\"text\":\"target\"}},\"coloraxis\":{\"colorbar\":{\"title\":{\"text\":\"cluster ID\"}},\"colorscale\":[[0.0,\"rgb(0, 0, 0)\"],[0.143,\"rgb(23, 0, 167)\"],[0.286,\"rgb(0, 143, 221)\"],[0.429,\"rgb(0, 160, 61)\"],[0.571,\"rgb(0, 236, 0)\"],[0.714,\"rgb(242, 228, 0)\"],[0.857,\"rgb(249, 0, 0)\"],[1.0,\"rgb(204, 204, 204)\"]]},\"legend\":{\"tracegroupgap\":0,\"orientation\":\"h\",\"y\":1.1,\"yanchor\":\"bottom\"},\"margin\":{\"t\":60}},                        {\"responsive\": true}                    ).then(function(){\n",
              "                            \n",
              "var gd = document.getElementById('8c7491f5-e99c-4c19-8fe9-478d471be4d7');\n",
              "var x = new MutationObserver(function (mutations, observer) {{\n",
              "        var display = window.getComputedStyle(gd).display;\n",
              "        if (!display || display === 'none') {{\n",
              "            console.log([gd, 'removed!']);\n",
              "            Plotly.purge(gd);\n",
              "            observer.disconnect();\n",
              "        }}\n",
              "}});\n",
              "\n",
              "// Listen for the removal of the full notebook cells\n",
              "var notebookContainer = gd.closest('#notebook-container');\n",
              "if (notebookContainer) {{\n",
              "    x.observe(notebookContainer, {childList: true});\n",
              "}}\n",
              "\n",
              "// Listen for the clearing of the current output cell\n",
              "var outputEl = gd.closest('.output');\n",
              "if (outputEl) {{\n",
              "    x.observe(outputEl, {childList: true});\n",
              "}}\n",
              "\n",
              "                        })                };                            </script>        </div>\n",
              "</body>\n",
              "</html>"
            ]
          },
          "metadata": {}
        },
        {
          "output_type": "display_data",
          "data": {
            "text/html": [
              "<html>\n",
              "<head><meta charset=\"utf-8\" /></head>\n",
              "<body>\n",
              "    <div>            <script src=\"https://cdnjs.cloudflare.com/ajax/libs/mathjax/2.7.5/MathJax.js?config=TeX-AMS-MML_SVG\"></script><script type=\"text/javascript\">if (window.MathJax) {MathJax.Hub.Config({SVG: {font: \"STIX-Web\"}});}</script>                <script type=\"text/javascript\">window.PlotlyConfig = {MathJaxConfig: 'local'};</script>\n",
              "        <script src=\"https://cdn.plot.ly/plotly-2.9.0.min.js\"></script>                <div id=\"670ee1f7-577d-44c8-944e-9451f2ea8abd\" class=\"plotly-graph-div\" style=\"height:525px; width:100%;\"></div>            <script type=\"text/javascript\">                                    window.PLOTLYENV=window.PLOTLYENV || {};                                    if (document.getElementById(\"670ee1f7-577d-44c8-944e-9451f2ea8abd\")) {                    Plotly.newPlot(                        \"670ee1f7-577d-44c8-944e-9451f2ea8abd\",                        [{\"customdata\":[[\"Ag3P11\"],[\"Ac3Sn\"],[\"Ac\"],[\"AcMgTl2\"],[\"AcCdRh2\"],[\"AcHgAu2\"],[\"AcGa3\"],[\"AcAu3\"],[\"AcBr3\"],[\"AcI3\"],[\"Ag2HgI4\"],[\"Ag2CO3\"],[\"Ag2MoO4\"],[\"Ag2SeO3\"],[\"Ac2NiIr\"],[\"Ac2CuIr\"],[\"Ac2ZnGe\"],[\"Ac2MgSn\"],[\"Ag2S\"],[\"Ag2O\"]],\"hovertemplate\":\"log validation density=%{x}<br>validation predictions=%{y}<br>formula=%{customdata[0]}<br>cluster ID=%{marker.color}<extra></extra>\",\"legendgroup\":\"\",\"marker\":{\"color\":[-1,-1,0,1,1,1,1,1,2,2,3,3,3,3,4,4,5,5,7,7],\"coloraxis\":\"coloraxis\",\"symbol\":\"circle\"},\"mode\":\"markers\",\"name\":\"\",\"orientation\":\"v\",\"showlegend\":false,\"x\":[-1.8828545124821383,-1.7693781797235826,-2.0692153107213773,-1.4901159016465164,-1.5185937514516317,-1.51603436243627,-1.4948302425258555,-1.5334144347594967,-2.017502773984499,-1.9939238872340932,-1.807841976934001,-1.8229177182674325,-1.7915750415233371,-1.8305516078485418,-1.6436040104188083,-1.6575160854448308,-1.6311659836866155,-1.6320042720225652,-1.6916788699801566,-1.689676849054489],\"xaxis\":\"x\",\"y\":[68.24990844726562,47.18505096435547,35.121315002441406,40.41709899902344,54.76063919067383,59.81702423095703,40.886024475097656,64.45983123779297,34.53771209716797,43.46376037597656,60.766151428222656,70.50627136230469,72.7382583618164,65.048828125,65.5601806640625,66.05127716064453,46.532527923583984,45.33745574951172,59.65607833862305,75.08790588378906],\"yaxis\":\"y\",\"type\":\"scatter\"},{\"hoverinfo\":\"skip\",\"line\":{\"color\":\"black\",\"dash\":\"dash\",\"width\":1},\"marker\":{\"size\":10,\"symbol\":\"circle-open\"},\"mode\":\"lines\",\"name\":\"pareto front\",\"x\":[-1.689676849054489,-1.7915750415233371,-1.8229177182674325,-1.8828545124821383,-1.9939238872340932,-2.0692153107213773],\"y\":[75.08790588378906,72.7382583618164,70.50627136230469,68.24990844726562,43.46376037597656,35.121315002441406],\"type\":\"scatter\"}],                        {\"template\":{\"data\":{\"bar\":[{\"error_x\":{\"color\":\"#2a3f5f\"},\"error_y\":{\"color\":\"#2a3f5f\"},\"marker\":{\"line\":{\"color\":\"#E5ECF6\",\"width\":0.5},\"pattern\":{\"fillmode\":\"overlay\",\"size\":10,\"solidity\":0.2}},\"type\":\"bar\"}],\"barpolar\":[{\"marker\":{\"line\":{\"color\":\"#E5ECF6\",\"width\":0.5},\"pattern\":{\"fillmode\":\"overlay\",\"size\":10,\"solidity\":0.2}},\"type\":\"barpolar\"}],\"carpet\":[{\"aaxis\":{\"endlinecolor\":\"#2a3f5f\",\"gridcolor\":\"white\",\"linecolor\":\"white\",\"minorgridcolor\":\"white\",\"startlinecolor\":\"#2a3f5f\"},\"baxis\":{\"endlinecolor\":\"#2a3f5f\",\"gridcolor\":\"white\",\"linecolor\":\"white\",\"minorgridcolor\":\"white\",\"startlinecolor\":\"#2a3f5f\"},\"type\":\"carpet\"}],\"choropleth\":[{\"colorbar\":{\"outlinewidth\":0,\"ticks\":\"\"},\"type\":\"choropleth\"}],\"contour\":[{\"colorbar\":{\"outlinewidth\":0,\"ticks\":\"\"},\"colorscale\":[[0.0,\"#0d0887\"],[0.1111111111111111,\"#46039f\"],[0.2222222222222222,\"#7201a8\"],[0.3333333333333333,\"#9c179e\"],[0.4444444444444444,\"#bd3786\"],[0.5555555555555556,\"#d8576b\"],[0.6666666666666666,\"#ed7953\"],[0.7777777777777778,\"#fb9f3a\"],[0.8888888888888888,\"#fdca26\"],[1.0,\"#f0f921\"]],\"type\":\"contour\"}],\"contourcarpet\":[{\"colorbar\":{\"outlinewidth\":0,\"ticks\":\"\"},\"type\":\"contourcarpet\"}],\"heatmap\":[{\"colorbar\":{\"outlinewidth\":0,\"ticks\":\"\"},\"colorscale\":[[0.0,\"#0d0887\"],[0.1111111111111111,\"#46039f\"],[0.2222222222222222,\"#7201a8\"],[0.3333333333333333,\"#9c179e\"],[0.4444444444444444,\"#bd3786\"],[0.5555555555555556,\"#d8576b\"],[0.6666666666666666,\"#ed7953\"],[0.7777777777777778,\"#fb9f3a\"],[0.8888888888888888,\"#fdca26\"],[1.0,\"#f0f921\"]],\"type\":\"heatmap\"}],\"heatmapgl\":[{\"colorbar\":{\"outlinewidth\":0,\"ticks\":\"\"},\"colorscale\":[[0.0,\"#0d0887\"],[0.1111111111111111,\"#46039f\"],[0.2222222222222222,\"#7201a8\"],[0.3333333333333333,\"#9c179e\"],[0.4444444444444444,\"#bd3786\"],[0.5555555555555556,\"#d8576b\"],[0.6666666666666666,\"#ed7953\"],[0.7777777777777778,\"#fb9f3a\"],[0.8888888888888888,\"#fdca26\"],[1.0,\"#f0f921\"]],\"type\":\"heatmapgl\"}],\"histogram\":[{\"marker\":{\"pattern\":{\"fillmode\":\"overlay\",\"size\":10,\"solidity\":0.2}},\"type\":\"histogram\"}],\"histogram2d\":[{\"colorbar\":{\"outlinewidth\":0,\"ticks\":\"\"},\"colorscale\":[[0.0,\"#0d0887\"],[0.1111111111111111,\"#46039f\"],[0.2222222222222222,\"#7201a8\"],[0.3333333333333333,\"#9c179e\"],[0.4444444444444444,\"#bd3786\"],[0.5555555555555556,\"#d8576b\"],[0.6666666666666666,\"#ed7953\"],[0.7777777777777778,\"#fb9f3a\"],[0.8888888888888888,\"#fdca26\"],[1.0,\"#f0f921\"]],\"type\":\"histogram2d\"}],\"histogram2dcontour\":[{\"colorbar\":{\"outlinewidth\":0,\"ticks\":\"\"},\"colorscale\":[[0.0,\"#0d0887\"],[0.1111111111111111,\"#46039f\"],[0.2222222222222222,\"#7201a8\"],[0.3333333333333333,\"#9c179e\"],[0.4444444444444444,\"#bd3786\"],[0.5555555555555556,\"#d8576b\"],[0.6666666666666666,\"#ed7953\"],[0.7777777777777778,\"#fb9f3a\"],[0.8888888888888888,\"#fdca26\"],[1.0,\"#f0f921\"]],\"type\":\"histogram2dcontour\"}],\"mesh3d\":[{\"colorbar\":{\"outlinewidth\":0,\"ticks\":\"\"},\"type\":\"mesh3d\"}],\"parcoords\":[{\"line\":{\"colorbar\":{\"outlinewidth\":0,\"ticks\":\"\"}},\"type\":\"parcoords\"}],\"pie\":[{\"automargin\":true,\"type\":\"pie\"}],\"scatter\":[{\"marker\":{\"colorbar\":{\"outlinewidth\":0,\"ticks\":\"\"}},\"type\":\"scatter\"}],\"scatter3d\":[{\"line\":{\"colorbar\":{\"outlinewidth\":0,\"ticks\":\"\"}},\"marker\":{\"colorbar\":{\"outlinewidth\":0,\"ticks\":\"\"}},\"type\":\"scatter3d\"}],\"scattercarpet\":[{\"marker\":{\"colorbar\":{\"outlinewidth\":0,\"ticks\":\"\"}},\"type\":\"scattercarpet\"}],\"scattergeo\":[{\"marker\":{\"colorbar\":{\"outlinewidth\":0,\"ticks\":\"\"}},\"type\":\"scattergeo\"}],\"scattergl\":[{\"marker\":{\"colorbar\":{\"outlinewidth\":0,\"ticks\":\"\"}},\"type\":\"scattergl\"}],\"scattermapbox\":[{\"marker\":{\"colorbar\":{\"outlinewidth\":0,\"ticks\":\"\"}},\"type\":\"scattermapbox\"}],\"scatterpolar\":[{\"marker\":{\"colorbar\":{\"outlinewidth\":0,\"ticks\":\"\"}},\"type\":\"scatterpolar\"}],\"scatterpolargl\":[{\"marker\":{\"colorbar\":{\"outlinewidth\":0,\"ticks\":\"\"}},\"type\":\"scatterpolargl\"}],\"scatterternary\":[{\"marker\":{\"colorbar\":{\"outlinewidth\":0,\"ticks\":\"\"}},\"type\":\"scatterternary\"}],\"surface\":[{\"colorbar\":{\"outlinewidth\":0,\"ticks\":\"\"},\"colorscale\":[[0.0,\"#0d0887\"],[0.1111111111111111,\"#46039f\"],[0.2222222222222222,\"#7201a8\"],[0.3333333333333333,\"#9c179e\"],[0.4444444444444444,\"#bd3786\"],[0.5555555555555556,\"#d8576b\"],[0.6666666666666666,\"#ed7953\"],[0.7777777777777778,\"#fb9f3a\"],[0.8888888888888888,\"#fdca26\"],[1.0,\"#f0f921\"]],\"type\":\"surface\"}],\"table\":[{\"cells\":{\"fill\":{\"color\":\"#EBF0F8\"},\"line\":{\"color\":\"white\"}},\"header\":{\"fill\":{\"color\":\"#C8D4E3\"},\"line\":{\"color\":\"white\"}},\"type\":\"table\"}]},\"layout\":{\"annotationdefaults\":{\"arrowcolor\":\"#2a3f5f\",\"arrowhead\":0,\"arrowwidth\":1},\"autotypenumbers\":\"strict\",\"coloraxis\":{\"colorbar\":{\"outlinewidth\":0,\"ticks\":\"\"}},\"colorscale\":{\"diverging\":[[0,\"#8e0152\"],[0.1,\"#c51b7d\"],[0.2,\"#de77ae\"],[0.3,\"#f1b6da\"],[0.4,\"#fde0ef\"],[0.5,\"#f7f7f7\"],[0.6,\"#e6f5d0\"],[0.7,\"#b8e186\"],[0.8,\"#7fbc41\"],[0.9,\"#4d9221\"],[1,\"#276419\"]],\"sequential\":[[0.0,\"#0d0887\"],[0.1111111111111111,\"#46039f\"],[0.2222222222222222,\"#7201a8\"],[0.3333333333333333,\"#9c179e\"],[0.4444444444444444,\"#bd3786\"],[0.5555555555555556,\"#d8576b\"],[0.6666666666666666,\"#ed7953\"],[0.7777777777777778,\"#fb9f3a\"],[0.8888888888888888,\"#fdca26\"],[1.0,\"#f0f921\"]],\"sequentialminus\":[[0.0,\"#0d0887\"],[0.1111111111111111,\"#46039f\"],[0.2222222222222222,\"#7201a8\"],[0.3333333333333333,\"#9c179e\"],[0.4444444444444444,\"#bd3786\"],[0.5555555555555556,\"#d8576b\"],[0.6666666666666666,\"#ed7953\"],[0.7777777777777778,\"#fb9f3a\"],[0.8888888888888888,\"#fdca26\"],[1.0,\"#f0f921\"]]},\"colorway\":[\"#636efa\",\"#EF553B\",\"#00cc96\",\"#ab63fa\",\"#FFA15A\",\"#19d3f3\",\"#FF6692\",\"#B6E880\",\"#FF97FF\",\"#FECB52\"],\"font\":{\"color\":\"#2a3f5f\"},\"geo\":{\"bgcolor\":\"white\",\"lakecolor\":\"white\",\"landcolor\":\"#E5ECF6\",\"showlakes\":true,\"showland\":true,\"subunitcolor\":\"white\"},\"hoverlabel\":{\"align\":\"left\"},\"hovermode\":\"closest\",\"mapbox\":{\"style\":\"light\"},\"paper_bgcolor\":\"white\",\"plot_bgcolor\":\"#E5ECF6\",\"polar\":{\"angularaxis\":{\"gridcolor\":\"white\",\"linecolor\":\"white\",\"ticks\":\"\"},\"bgcolor\":\"#E5ECF6\",\"radialaxis\":{\"gridcolor\":\"white\",\"linecolor\":\"white\",\"ticks\":\"\"}},\"scene\":{\"xaxis\":{\"backgroundcolor\":\"#E5ECF6\",\"gridcolor\":\"white\",\"gridwidth\":2,\"linecolor\":\"white\",\"showbackground\":true,\"ticks\":\"\",\"zerolinecolor\":\"white\"},\"yaxis\":{\"backgroundcolor\":\"#E5ECF6\",\"gridcolor\":\"white\",\"gridwidth\":2,\"linecolor\":\"white\",\"showbackground\":true,\"ticks\":\"\",\"zerolinecolor\":\"white\"},\"zaxis\":{\"backgroundcolor\":\"#E5ECF6\",\"gridcolor\":\"white\",\"gridwidth\":2,\"linecolor\":\"white\",\"showbackground\":true,\"ticks\":\"\",\"zerolinecolor\":\"white\"}},\"shapedefaults\":{\"line\":{\"color\":\"#2a3f5f\"}},\"ternary\":{\"aaxis\":{\"gridcolor\":\"white\",\"linecolor\":\"white\",\"ticks\":\"\"},\"baxis\":{\"gridcolor\":\"white\",\"linecolor\":\"white\",\"ticks\":\"\"},\"bgcolor\":\"#E5ECF6\",\"caxis\":{\"gridcolor\":\"white\",\"linecolor\":\"white\",\"ticks\":\"\"}},\"title\":{\"x\":0.05},\"xaxis\":{\"automargin\":true,\"gridcolor\":\"white\",\"linecolor\":\"white\",\"ticks\":\"\",\"title\":{\"standoff\":15},\"zerolinecolor\":\"white\",\"zerolinewidth\":2},\"yaxis\":{\"automargin\":true,\"gridcolor\":\"white\",\"linecolor\":\"white\",\"ticks\":\"\",\"title\":{\"standoff\":15},\"zerolinecolor\":\"white\",\"zerolinewidth\":2}}},\"xaxis\":{\"anchor\":\"y\",\"domain\":[0.0,1.0],\"title\":{\"text\":\"log validation density\"},\"autorange\":\"reversed\"},\"yaxis\":{\"anchor\":\"x\",\"domain\":[0.0,1.0],\"title\":{\"text\":\"validation predictions\"}},\"coloraxis\":{\"colorbar\":{\"title\":{\"text\":\"cluster ID\"}},\"colorscale\":[[0.0,\"rgb(0, 0, 0)\"],[0.143,\"rgb(23, 0, 167)\"],[0.286,\"rgb(0, 143, 221)\"],[0.429,\"rgb(0, 160, 61)\"],[0.571,\"rgb(0, 236, 0)\"],[0.714,\"rgb(242, 228, 0)\"],[0.857,\"rgb(249, 0, 0)\"],[1.0,\"rgb(204, 204, 204)\"]]},\"legend\":{\"tracegroupgap\":0,\"orientation\":\"h\",\"y\":1.1,\"yanchor\":\"bottom\"},\"margin\":{\"t\":60}},                        {\"responsive\": true}                    ).then(function(){\n",
              "                            \n",
              "var gd = document.getElementById('670ee1f7-577d-44c8-944e-9451f2ea8abd');\n",
              "var x = new MutationObserver(function (mutations, observer) {{\n",
              "        var display = window.getComputedStyle(gd).display;\n",
              "        if (!display || display === 'none') {{\n",
              "            console.log([gd, 'removed!']);\n",
              "            Plotly.purge(gd);\n",
              "            observer.disconnect();\n",
              "        }}\n",
              "}});\n",
              "\n",
              "// Listen for the removal of the full notebook cells\n",
              "var notebookContainer = gd.closest('#notebook-container');\n",
              "if (notebookContainer) {{\n",
              "    x.observe(notebookContainer, {childList: true});\n",
              "}}\n",
              "\n",
              "// Listen for the clearing of the current output cell\n",
              "var outputEl = gd.closest('.output');\n",
              "if (outputEl) {{\n",
              "    x.observe(outputEl, {childList: true});\n",
              "}}\n",
              "\n",
              "                        })                };                            </script>        </div>\n",
              "</body>\n",
              "</html>"
            ]
          },
          "metadata": {}
        },
        {
          "output_type": "display_data",
          "data": {
            "image/png": "[encoded data removed]",
            "text/plain": [
              "<Figure size 432x288 with 1 Axes>"
            ]
          },
          "metadata": {
            "needs_background": "light"
          }
        },
        {
          "output_type": "display_data",
          "data": {
            "text/html": [
              "<html>\n",
              "<head><meta charset=\"utf-8\" /></head>\n",
              "<body>\n",
              "    <div>            <script src=\"https://cdnjs.cloudflare.com/ajax/libs/mathjax/2.7.5/MathJax.js?config=TeX-AMS-MML_SVG\"></script><script type=\"text/javascript\">if (window.MathJax) {MathJax.Hub.Config({SVG: {font: \"STIX-Web\"}});}</script>                <script type=\"text/javascript\">window.PlotlyConfig = {MathJaxConfig: 'local'};</script>\n",
              "        <script src=\"https://cdn.plot.ly/plotly-2.9.0.min.js\"></script>                <div id=\"4ee6b09c-fea2-49ed-9c32-6695b9561ea4\" class=\"plotly-graph-div\" style=\"height:525px; width:100%;\"></div>            <script type=\"text/javascript\">                                    window.PLOTLYENV=window.PLOTLYENV || {};                                    if (document.getElementById(\"4ee6b09c-fea2-49ed-9c32-6695b9561ea4\")) {                    Plotly.newPlot(                        \"4ee6b09c-fea2-49ed-9c32-6695b9561ea4\",                        [{\"customdata\":[[\"AgAsF6\"],[\"AcYbHg2\"],[\"AcYbMg2\"],[\"AcYbCd2\"],[\"Ag3Ge5P6\"],[\"Ag2H3IO6\"],[\"Ac3Sn\"],[\"Ag3P11\"],[\"Ac3Th\"],[\"Ac3Pr\"],[\"AcEr3\"],[\"AcLa3\"],[\"Ac\"],[\"Ac3Yb\"],[\"Ac3Nd\"],[\"AcH2\"],[\"AcTiO3\"],[\"AcCuO3\"],[\"Ac2O3\"],[\"AcOF\"],[\"AcClO\"],[\"AcBr3\"],[\"AcInTe2\"],[\"AcSe3\"],[\"AcTlTe2\"],[\"AcGaTe2\"],[\"AcF3\"],[\"AcI3\"],[\"AcTe3\"],[\"AcH3\"],[\"AcCl3\"],[\"AcGa3\"],[\"AcMgTl2\"],[\"AcMgCd2\"],[\"AcInAu2\"],[\"AcAg2Sn\"],[\"AcMgHg2\"],[\"AcAl3\"],[\"AcAu3\"],[\"AcTlHg2\"],[\"AcCdAg2\"],[\"AcCdRh2\"],[\"AcSi3\"],[\"AcHgAu2\"],[\"AcAgHg2\"],[\"AcSnAu2\"],[\"AcHg3\"],[\"AcMg3\"],[\"AcPbAu2\"],[\"AcAgAu2\"],[\"AcTlAu2\"],[\"Ac2NiIr\"],[\"AcAg\"],[\"Ac2IrAu\"],[\"Ac2CuIr\"],[\"Ac2IrPd\"],[\"Ac2AgIr\"],[\"Ac2MgSn\"],[\"Ac2ZnSi\"],[\"Ac2HgGe\"],[\"Ac2CuSn\"],[\"Ac2CuGe\"],[\"Ac2SiAu\"],[\"Ac2SnHg\"],[\"Ac2SiHg\"],[\"Ac2ZnGe\"],[\"Ac2CdSn\"],[\"AcMg\"],[\"Ac2GePd\"],[\"Ac2NiGe\"],[\"AcN\"],[\"Ac2SiPd\"],[\"Ag2O3\"],[\"Ag5P(S2Cl)2\"],[\"Ag2CO3\"],[\"Ag2SeO3\"],[\"AgAsSe2\"],[\"Ag2SO4\"],[\"Ag2HgI4\"],[\"Ag2BiO3\"],[\"Ag2MoO4\"],[\"Ag3PO4\"],[\"AgAsS\"],[\"Ag3Hg\"],[\"Ag\"],[\"Ag3Sb\"],[\"Ag3Ge\"],[\"Ag3Pd\"],[\"Ag3Pt\"],[\"Ag3P\"],[\"Ag2S\"],[\"Ag3SI\"],[\"Ag2PdO2\"],[\"Ag2F\"],[\"Ag3AuS2\"],[\"Ag2Se\"],[\"Ag2Te\"],[\"Ag2HgO2\"],[\"Ag2O\"],[\"Ag2HgS2\"]],\"hovertemplate\":\"DensMAP Dim. 1=%{x}<br>DensMAP Dim. 2=%{y}<br>formula=%{customdata[0]}<br>cluster ID=%{marker.color}<extra></extra>\",\"legendgroup\":\"\",\"marker\":{\"color\":[-1,-1,-1,-1,-1,-1,-1,-1,0,0,0,0,0,0,0,1,1,1,1,1,1,2,2,2,2,2,2,2,2,2,2,3,3,3,3,3,3,3,3,3,3,3,3,3,3,3,3,3,3,3,3,4,4,4,4,4,4,5,5,5,5,5,5,5,5,5,5,5,5,5,5,5,6,6,6,6,6,6,6,6,6,6,6,7,7,7,7,7,7,7,8,8,8,8,8,8,8,8,8,8],\"coloraxis\":\"coloraxis\",\"symbol\":\"circle\"},\"mode\":\"markers\",\"name\":\"\",\"orientation\":\"v\",\"showlegend\":false,\"x\":[13.100066184997559,-19.494464874267578,-18.885173797607422,-19.236957550048828,9.77433967590332,11.757523536682129,-16.755632400512695,10.089505195617676,-12.616621017456055,-12.676685333251953,-12.703577995300293,-12.768335342407227,-12.630306243896484,-12.687994956970215,-12.676812171936035,2.618703603744507,2.2751972675323486,2.8158912658691406,1.6289626359939575,2.164743185043335,2.4409079551696777,4.0970048904418945,4.1202239990234375,4.241103649139404,4.339382648468018,4.1272687911987305,4.17877197265625,4.293879508972168,4.4322710037231445,4.027243137359619,4.12250280380249,5.460699081420898,5.856820583343506,5.960429668426514,6.675365924835205,6.828524112701416,5.8967790603637695,5.6403727531433105,7.234183311462402,5.788686752319336,6.781216144561768,6.864194869995117,4.9559326171875,6.563409805297852,6.300931930541992,6.62945556640625,5.8196001052856445,5.901601791381836,6.734875679016113,7.146398544311523,6.658801555633545,-17.7933349609375,-17.843687057495117,-17.774580001831055,-17.81839942932129,-17.87037467956543,-17.80649185180664,-18.48016357421875,-18.698768615722656,-18.810503005981445,-18.03949546813965,-17.92905616760254,-17.853309631347656,-18.706470489501953,-18.89548110961914,-18.668209075927734,-18.696794509887695,-18.271203994750977,-17.599258422851562,-18.151155471801758,-19.132633209228516,-17.659921646118164,11.792076110839844,11.574880599975586,11.467371940612793,11.684937477111816,10.668157577514648,11.284431457519531,11.836464881896973,11.362630844116211,12.077746391296387,11.620715141296387,10.978253364562988,14.162827491760254,14.115824699401855,13.938573837280273,14.114395141601562,14.425841331481934,14.123507499694824,14.136600494384766,13.723548889160156,13.595666885375977,13.578705787658691,13.21407699584961,13.475556373596191,13.494864463806152,13.617008209228516,13.60128116607666,13.451912879943848,13.388965606689453],\"xaxis\":\"x\",\"y\":[9.301002502441406,22.927753448486328,22.474184036254883,22.690628051757812,11.175350189208984,8.892511367797852,24.039316177368164,11.53860092163086,9.840873718261719,9.857595443725586,8.375091552734375,9.572261810302734,9.803936958312988,10.28192138671875,9.868602752685547,8.170822143554688,6.03828763961792,5.80148983001709,6.583766937255859,7.748729705810547,7.405351161956787,7.531589031219482,5.537657737731934,6.453453063964844,5.592648983001709,5.2929558753967285,7.797697067260742,7.282554626464844,6.198801517486572,7.934507369995117,7.440587520599365,3.3097054958343506,3.5475008487701416,2.8827993869781494,3.2133076190948486,3.386023998260498,3.032465696334839,3.262661933898926,3.0041515827178955,3.1709437370300293,3.011533260345459,3.594813346862793,3.920163631439209,3.1064939498901367,2.8035736083984375,3.221698045730591,3.002701759338379,2.687743902206421,3.256314992904663,3.1371870040893555,3.299246072769165,22.69280433654785,22.706134796142578,22.651119232177734,22.688013076782227,22.74134635925293,22.695877075195312,23.57665252685547,23.87149429321289,23.91876792907715,23.96982765197754,23.60594367980957,23.67489242553711,23.62375831604004,23.734682083129883,23.684886932373047,23.696731567382812,23.111055374145508,23.669065475463867,23.811906814575195,24.126314163208008,23.86763572692871,10.852724075317383,10.987678527832031,10.769728660583496,10.306900024414062,10.322017669677734,10.088486671447754,11.304170608520508,10.600703239440918,10.992124557495117,10.65357780456543,10.6260347366333,6.401320934295654,6.213225364685059,6.998896598815918,6.5503034591674805,6.183881759643555,5.959901332855225,6.854556083679199,8.032386779785156,8.271140098571777,8.267037391662598,7.943192005157471,8.046424865722656,7.971122741699219,7.8988213539123535,8.54297161102295,7.952516078948975,8.53715705871582],\"yaxis\":\"y\",\"type\":\"scatter\"}],                        {\"template\":{\"data\":{\"bar\":[{\"error_x\":{\"color\":\"#2a3f5f\"},\"error_y\":{\"color\":\"#2a3f5f\"},\"marker\":{\"line\":{\"color\":\"#E5ECF6\",\"width\":0.5},\"pattern\":{\"fillmode\":\"overlay\",\"size\":10,\"solidity\":0.2}},\"type\":\"bar\"}],\"barpolar\":[{\"marker\":{\"line\":{\"color\":\"#E5ECF6\",\"width\":0.5},\"pattern\":{\"fillmode\":\"overlay\",\"size\":10,\"solidity\":0.2}},\"type\":\"barpolar\"}],\"carpet\":[{\"aaxis\":{\"endlinecolor\":\"#2a3f5f\",\"gridcolor\":\"white\",\"linecolor\":\"white\",\"minorgridcolor\":\"white\",\"startlinecolor\":\"#2a3f5f\"},\"baxis\":{\"endlinecolor\":\"#2a3f5f\",\"gridcolor\":\"white\",\"linecolor\":\"white\",\"minorgridcolor\":\"white\",\"startlinecolor\":\"#2a3f5f\"},\"type\":\"carpet\"}],\"choropleth\":[{\"colorbar\":{\"outlinewidth\":0,\"ticks\":\"\"},\"type\":\"choropleth\"}],\"contour\":[{\"colorbar\":{\"outlinewidth\":0,\"ticks\":\"\"},\"colorscale\":[[0.0,\"#0d0887\"],[0.1111111111111111,\"#46039f\"],[0.2222222222222222,\"#7201a8\"],[0.3333333333333333,\"#9c179e\"],[0.4444444444444444,\"#bd3786\"],[0.5555555555555556,\"#d8576b\"],[0.6666666666666666,\"#ed7953\"],[0.7777777777777778,\"#fb9f3a\"],[0.8888888888888888,\"#fdca26\"],[1.0,\"#f0f921\"]],\"type\":\"contour\"}],\"contourcarpet\":[{\"colorbar\":{\"outlinewidth\":0,\"ticks\":\"\"},\"type\":\"contourcarpet\"}],\"heatmap\":[{\"colorbar\":{\"outlinewidth\":0,\"ticks\":\"\"},\"colorscale\":[[0.0,\"#0d0887\"],[0.1111111111111111,\"#46039f\"],[0.2222222222222222,\"#7201a8\"],[0.3333333333333333,\"#9c179e\"],[0.4444444444444444,\"#bd3786\"],[0.5555555555555556,\"#d8576b\"],[0.6666666666666666,\"#ed7953\"],[0.7777777777777778,\"#fb9f3a\"],[0.8888888888888888,\"#fdca26\"],[1.0,\"#f0f921\"]],\"type\":\"heatmap\"}],\"heatmapgl\":[{\"colorbar\":{\"outlinewidth\":0,\"ticks\":\"\"},\"colorscale\":[[0.0,\"#0d0887\"],[0.1111111111111111,\"#46039f\"],[0.2222222222222222,\"#7201a8\"],[0.3333333333333333,\"#9c179e\"],[0.4444444444444444,\"#bd3786\"],[0.5555555555555556,\"#d8576b\"],[0.6666666666666666,\"#ed7953\"],[0.7777777777777778,\"#fb9f3a\"],[0.8888888888888888,\"#fdca26\"],[1.0,\"#f0f921\"]],\"type\":\"heatmapgl\"}],\"histogram\":[{\"marker\":{\"pattern\":{\"fillmode\":\"overlay\",\"size\":10,\"solidity\":0.2}},\"type\":\"histogram\"}],\"histogram2d\":[{\"colorbar\":{\"outlinewidth\":0,\"ticks\":\"\"},\"colorscale\":[[0.0,\"#0d0887\"],[0.1111111111111111,\"#46039f\"],[0.2222222222222222,\"#7201a8\"],[0.3333333333333333,\"#9c179e\"],[0.4444444444444444,\"#bd3786\"],[0.5555555555555556,\"#d8576b\"],[0.6666666666666666,\"#ed7953\"],[0.7777777777777778,\"#fb9f3a\"],[0.8888888888888888,\"#fdca26\"],[1.0,\"#f0f921\"]],\"type\":\"histogram2d\"}],\"histogram2dcontour\":[{\"colorbar\":{\"outlinewidth\":0,\"ticks\":\"\"},\"colorscale\":[[0.0,\"#0d0887\"],[0.1111111111111111,\"#46039f\"],[0.2222222222222222,\"#7201a8\"],[0.3333333333333333,\"#9c179e\"],[0.4444444444444444,\"#bd3786\"],[0.5555555555555556,\"#d8576b\"],[0.6666666666666666,\"#ed7953\"],[0.7777777777777778,\"#fb9f3a\"],[0.8888888888888888,\"#fdca26\"],[1.0,\"#f0f921\"]],\"type\":\"histogram2dcontour\"}],\"mesh3d\":[{\"colorbar\":{\"outlinewidth\":0,\"ticks\":\"\"},\"type\":\"mesh3d\"}],\"parcoords\":[{\"line\":{\"colorbar\":{\"outlinewidth\":0,\"ticks\":\"\"}},\"type\":\"parcoords\"}],\"pie\":[{\"automargin\":true,\"type\":\"pie\"}],\"scatter\":[{\"marker\":{\"colorbar\":{\"outlinewidth\":0,\"ticks\":\"\"}},\"type\":\"scatter\"}],\"scatter3d\":[{\"line\":{\"colorbar\":{\"outlinewidth\":0,\"ticks\":\"\"}},\"marker\":{\"colorbar\":{\"outlinewidth\":0,\"ticks\":\"\"}},\"type\":\"scatter3d\"}],\"scattercarpet\":[{\"marker\":{\"colorbar\":{\"outlinewidth\":0,\"ticks\":\"\"}},\"type\":\"scattercarpet\"}],\"scattergeo\":[{\"marker\":{\"colorbar\":{\"outlinewidth\":0,\"ticks\":\"\"}},\"type\":\"scattergeo\"}],\"scattergl\":[{\"marker\":{\"colorbar\":{\"outlinewidth\":0,\"ticks\":\"\"}},\"type\":\"scattergl\"}],\"scattermapbox\":[{\"marker\":{\"colorbar\":{\"outlinewidth\":0,\"ticks\":\"\"}},\"type\":\"scattermapbox\"}],\"scatterpolar\":[{\"marker\":{\"colorbar\":{\"outlinewidth\":0,\"ticks\":\"\"}},\"type\":\"scatterpolar\"}],\"scatterpolargl\":[{\"marker\":{\"colorbar\":{\"outlinewidth\":0,\"ticks\":\"\"}},\"type\":\"scatterpolargl\"}],\"scatterternary\":[{\"marker\":{\"colorbar\":{\"outlinewidth\":0,\"ticks\":\"\"}},\"type\":\"scatterternary\"}],\"surface\":[{\"colorbar\":{\"outlinewidth\":0,\"ticks\":\"\"},\"colorscale\":[[0.0,\"#0d0887\"],[0.1111111111111111,\"#46039f\"],[0.2222222222222222,\"#7201a8\"],[0.3333333333333333,\"#9c179e\"],[0.4444444444444444,\"#bd3786\"],[0.5555555555555556,\"#d8576b\"],[0.6666666666666666,\"#ed7953\"],[0.7777777777777778,\"#fb9f3a\"],[0.8888888888888888,\"#fdca26\"],[1.0,\"#f0f921\"]],\"type\":\"surface\"}],\"table\":[{\"cells\":{\"fill\":{\"color\":\"#EBF0F8\"},\"line\":{\"color\":\"white\"}},\"header\":{\"fill\":{\"color\":\"#C8D4E3\"},\"line\":{\"color\":\"white\"}},\"type\":\"table\"}]},\"layout\":{\"annotationdefaults\":{\"arrowcolor\":\"#2a3f5f\",\"arrowhead\":0,\"arrowwidth\":1},\"autotypenumbers\":\"strict\",\"coloraxis\":{\"colorbar\":{\"outlinewidth\":0,\"ticks\":\"\"}},\"colorscale\":{\"diverging\":[[0,\"#8e0152\"],[0.1,\"#c51b7d\"],[0.2,\"#de77ae\"],[0.3,\"#f1b6da\"],[0.4,\"#fde0ef\"],[0.5,\"#f7f7f7\"],[0.6,\"#e6f5d0\"],[0.7,\"#b8e186\"],[0.8,\"#7fbc41\"],[0.9,\"#4d9221\"],[1,\"#276419\"]],\"sequential\":[[0.0,\"#0d0887\"],[0.1111111111111111,\"#46039f\"],[0.2222222222222222,\"#7201a8\"],[0.3333333333333333,\"#9c179e\"],[0.4444444444444444,\"#bd3786\"],[0.5555555555555556,\"#d8576b\"],[0.6666666666666666,\"#ed7953\"],[0.7777777777777778,\"#fb9f3a\"],[0.8888888888888888,\"#fdca26\"],[1.0,\"#f0f921\"]],\"sequentialminus\":[[0.0,\"#0d0887\"],[0.1111111111111111,\"#46039f\"],[0.2222222222222222,\"#7201a8\"],[0.3333333333333333,\"#9c179e\"],[0.4444444444444444,\"#bd3786\"],[0.5555555555555556,\"#d8576b\"],[0.6666666666666666,\"#ed7953\"],[0.7777777777777778,\"#fb9f3a\"],[0.8888888888888888,\"#fdca26\"],[1.0,\"#f0f921\"]]},\"colorway\":[\"#636efa\",\"#EF553B\",\"#00cc96\",\"#ab63fa\",\"#FFA15A\",\"#19d3f3\",\"#FF6692\",\"#B6E880\",\"#FF97FF\",\"#FECB52\"],\"font\":{\"color\":\"#2a3f5f\"},\"geo\":{\"bgcolor\":\"white\",\"lakecolor\":\"white\",\"landcolor\":\"#E5ECF6\",\"showlakes\":true,\"showland\":true,\"subunitcolor\":\"white\"},\"hoverlabel\":{\"align\":\"left\"},\"hovermode\":\"closest\",\"mapbox\":{\"style\":\"light\"},\"paper_bgcolor\":\"white\",\"plot_bgcolor\":\"#E5ECF6\",\"polar\":{\"angularaxis\":{\"gridcolor\":\"white\",\"linecolor\":\"white\",\"ticks\":\"\"},\"bgcolor\":\"#E5ECF6\",\"radialaxis\":{\"gridcolor\":\"white\",\"linecolor\":\"white\",\"ticks\":\"\"}},\"scene\":{\"xaxis\":{\"backgroundcolor\":\"#E5ECF6\",\"gridcolor\":\"white\",\"gridwidth\":2,\"linecolor\":\"white\",\"showbackground\":true,\"ticks\":\"\",\"zerolinecolor\":\"white\"},\"yaxis\":{\"backgroundcolor\":\"#E5ECF6\",\"gridcolor\":\"white\",\"gridwidth\":2,\"linecolor\":\"white\",\"showbackground\":true,\"ticks\":\"\",\"zerolinecolor\":\"white\"},\"zaxis\":{\"backgroundcolor\":\"#E5ECF6\",\"gridcolor\":\"white\",\"gridwidth\":2,\"linecolor\":\"white\",\"showbackground\":true,\"ticks\":\"\",\"zerolinecolor\":\"white\"}},\"shapedefaults\":{\"line\":{\"color\":\"#2a3f5f\"}},\"ternary\":{\"aaxis\":{\"gridcolor\":\"white\",\"linecolor\":\"white\",\"ticks\":\"\"},\"baxis\":{\"gridcolor\":\"white\",\"linecolor\":\"white\",\"ticks\":\"\"},\"bgcolor\":\"#E5ECF6\",\"caxis\":{\"gridcolor\":\"white\",\"linecolor\":\"white\",\"ticks\":\"\"}},\"title\":{\"x\":0.05},\"xaxis\":{\"automargin\":true,\"gridcolor\":\"white\",\"linecolor\":\"white\",\"ticks\":\"\",\"title\":{\"standoff\":15},\"zerolinecolor\":\"white\",\"zerolinewidth\":2},\"yaxis\":{\"automargin\":true,\"gridcolor\":\"white\",\"linecolor\":\"white\",\"ticks\":\"\",\"title\":{\"standoff\":15},\"zerolinecolor\":\"white\",\"zerolinewidth\":2}}},\"xaxis\":{\"anchor\":\"y\",\"domain\":[0.0,1.0],\"title\":{\"text\":\"DensMAP Dim. 1\"},\"autorange\":\"reversed\"},\"yaxis\":{\"anchor\":\"x\",\"domain\":[0.0,1.0],\"title\":{\"text\":\"DensMAP Dim. 2\"}},\"coloraxis\":{\"colorbar\":{\"title\":{\"text\":\"cluster ID\"}},\"colorscale\":[[0.0,\"rgb(0, 0, 0)\"],[0.125,\"rgb(66, 0, 161)\"],[0.25,\"rgb(0, 119, 221)\"],[0.375,\"rgb(0, 170, 151)\"],[0.5,\"rgb(0, 188, 0)\"],[0.625,\"rgb(102, 255, 0)\"],[0.75,\"rgb(255, 201, 0)\"],[0.875,\"rgb(235, 0, 0)\"],[1.0,\"rgb(204, 204, 204)\"]]},\"legend\":{\"tracegroupgap\":0,\"orientation\":\"h\",\"y\":1.1,\"yanchor\":\"bottom\"},\"margin\":{\"t\":60}},                        {\"responsive\": true}                    ).then(function(){\n",
              "                            \n",
              "var gd = document.getElementById('4ee6b09c-fea2-49ed-9c32-6695b9561ea4');\n",
              "var x = new MutationObserver(function (mutations, observer) {{\n",
              "        var display = window.getComputedStyle(gd).display;\n",
              "        if (!display || display === 'none') {{\n",
              "            console.log([gd, 'removed!']);\n",
              "            Plotly.purge(gd);\n",
              "            observer.disconnect();\n",
              "        }}\n",
              "}});\n",
              "\n",
              "// Listen for the removal of the full notebook cells\n",
              "var notebookContainer = gd.closest('#notebook-container');\n",
              "if (notebookContainer) {{\n",
              "    x.observe(notebookContainer, {childList: true});\n",
              "}}\n",
              "\n",
              "// Listen for the clearing of the current output cell\n",
              "var outputEl = gd.closest('.output');\n",
              "if (outputEl) {{\n",
              "    x.observe(outputEl, {childList: true});\n",
              "}}\n",
              "\n",
              "                        })                };                            </script>        </div>\n",
              "</body>\n",
              "</html>"
            ]
          },
          "metadata": {}
        },
        {
          "output_type": "display_data",
          "data": {
            "text/html": [
              "<html>\n",
              "<head><meta charset=\"utf-8\" /></head>\n",
              "<body>\n",
              "    <div>            <script src=\"https://cdnjs.cloudflare.com/ajax/libs/mathjax/2.7.5/MathJax.js?config=TeX-AMS-MML_SVG\"></script><script type=\"text/javascript\">if (window.MathJax) {MathJax.Hub.Config({SVG: {font: \"STIX-Web\"}});}</script>                <script type=\"text/javascript\">window.PlotlyConfig = {MathJaxConfig: 'local'};</script>\n",
              "        <script src=\"https://cdn.plot.ly/plotly-2.9.0.min.js\"></script>                <div id=\"4d596c77-a667-4629-ad50-4decb7c7b095\" class=\"plotly-graph-div\" style=\"height:525px; width:100%;\"></div>            <script type=\"text/javascript\">                                    window.PLOTLYENV=window.PLOTLYENV || {};                                    if (document.getElementById(\"4d596c77-a667-4629-ad50-4decb7c7b095\")) {                    Plotly.newPlot(                        \"4d596c77-a667-4629-ad50-4decb7c7b095\",                        [{\"customdata\":[[\"AcI3\"],[\"Ag3SI\"],[\"Ag2HgI4\"],[\"AcBr3\"],[\"AcYbMg2\"],[\"Ag2S\"],[\"AcLa3\"],[\"Ac3Yb\"],[\"Ac3Nd\"],[\"AcCl3\"],[\"Ac\"],[\"Ag2SeO3\"],[\"Ac3Pr\"],[\"Ac3Th\"],[\"AgAsF6\"],[\"AcMg\"],[\"AcMg3\"],[\"AcEr3\"],[\"Ac3Sn\"],[\"AgAsS\"],[\"Ag5P(S2Cl)2\"],[\"AcTlTe2\"],[\"Ag2HgO2\"],[\"AcMgTl2\"],[\"Ag3AuS2\"],[\"AcYbCd2\"],[\"Ac2MgSn\"],[\"AcYbHg2\"],[\"AcInTe2\"],[\"AcMgCd2\"],[\"AcGaTe2\"],[\"Ac2CuSn\"],[\"Ac2CuGe\"],[\"AcHg3\"],[\"AcAg\"],[\"Ag2CO3\"],[\"Ac2SnHg\"],[\"Ag2HgS2\"],[\"Ac2ZnGe\"],[\"Ac2CdSn\"],[\"AcTlHg2\"],[\"AcTe3\"],[\"Ag2SO4\"],[\"Ac2SiHg\"],[\"AcMgHg2\"],[\"Ac2ZnSi\"],[\"Ac2HgGe\"],[\"AcGa3\"],[\"Ag2Te\"],[\"AcCdAg2\"],[\"AcAgHg2\"],[\"Ag3P11\"],[\"AcH2\"],[\"Ac2NiGe\"],[\"AcSe3\"],[\"Ag2Se\"],[\"Ac2GePd\"],[\"Ac2SiPd\"],[\"AcAl3\"],[\"AcTlAu2\"],[\"AcAg2Sn\"],[\"Ac2SiAu\"],[\"AcHgAu2\"],[\"Ag3Sb\"],[\"Ag3Ge5P6\"],[\"AgAsSe2\"],[\"AcClO\"],[\"AcH3\"],[\"Ag2MoO4\"],[\"AcAgAu2\"],[\"Ac2AgIr\"],[\"AcInAu2\"],[\"AcSnAu2\"],[\"Ac2CuIr\"],[\"AcPbAu2\"],[\"Ag2F\"],[\"Ag3Hg\"],[\"Ag3Ge\"],[\"Ag3PO4\"],[\"Ag2O3\"],[\"AcAu3\"],[\"Ac2IrPd\"],[\"AcN\"],[\"AcSi3\"],[\"Ac2IrAu\"],[\"Ag2O\"],[\"Ag2PdO2\"],[\"Ag3P\"],[\"Ac2NiIr\"],[\"Ag2H3IO6\"],[\"Ag\"],[\"Ag3Pd\"],[\"Ag2BiO3\"],[\"Ac2O3\"],[\"AcOF\"],[\"AcCdRh2\"],[\"AcF3\"],[\"Ag3Pt\"],[\"AcCuO3\"],[\"AcTiO3\"]],\"hovertemplate\":\"DensMAP Dim. 1=%{x}<br>DensMAP Dim. 2=%{y}<br>formula=%{customdata[0]}<br>target=%{marker.color}<extra></extra>\",\"legendgroup\":\"\",\"marker\":{\"color\":[2.0,6.0,14.0,24.0,25.0,26.0,27.0,27.0,28.0,28.0,29.0,29.0,29.0,31.0,32.0,33.0,33.0,37.0,38.0,40.0,40.0,40.0,40.0,40.0,40.0,41.0,41.0,42.0,42.0,42.0,43.0,43.0,44.0,44.0,44.0,45.0,45.0,46.0,46.0,47.0,47.0,48.0,48.0,49.0,49.0,50.0,50.0,52.0,52.0,52.0,52.0,53.0,55.0,55.0,56.0,58.0,58.0,58.0,58.0,59.0,61.0,62.0,64.0,65.0,65.0,65.0,67.0,68.0,68.0,70.0,72.0,72.0,73.0,73.0,74.0,74.0,75.0,75.0,75.0,76.0,77.0,77.0,77.0,80.0,80.0,84.0,84.0,85.0,87.0,88.0,88.0,99.0,100.0,103.0,108.0,111.0,120.0,120.0,164.0,165.0],\"coloraxis\":\"coloraxis\",\"symbol\":\"circle\"},\"mode\":\"markers\",\"name\":\"\",\"orientation\":\"v\",\"showlegend\":false,\"x\":[4.293879508972168,13.595666885375977,11.836464881896973,4.0970048904418945,-18.885173797607422,13.723548889160156,-12.768335342407227,-12.687994956970215,-12.676812171936035,4.12250280380249,-12.630306243896484,11.684937477111816,-12.676685333251953,-12.616621017456055,13.100066184997559,-18.271203994750977,5.901601791381836,-12.703577995300293,-16.755632400512695,10.978253364562988,11.574880599975586,4.339382648468018,13.60128116607666,5.856820583343506,13.475556373596191,-19.236957550048828,-18.48016357421875,-19.494464874267578,4.1202239990234375,5.960429668426514,4.1272687911987305,-18.03949546813965,-17.92905616760254,5.8196001052856445,-17.843687057495117,11.467371940612793,-18.706470489501953,13.388965606689453,-18.668209075927734,-18.696794509887695,5.788686752319336,4.4322710037231445,11.284431457519531,-18.89548110961914,5.8967790603637695,-18.698768615722656,-18.810503005981445,5.460699081420898,13.617008209228516,6.781216144561768,6.300931930541992,10.089505195617676,2.618703603744507,-18.151155471801758,4.241103649139404,13.494864463806152,-17.599258422851562,-17.659921646118164,5.6403727531433105,6.658801555633545,6.828524112701416,-17.853309631347656,6.563409805297852,13.938573837280273,9.77433967590332,10.668157577514648,2.4409079551696777,4.027243137359619,12.077746391296387,7.146398544311523,-17.80649185180664,6.675365924835205,6.62945556640625,-17.81839942932129,6.734875679016113,13.21407699584961,14.162827491760254,14.114395141601562,11.620715141296387,11.792076110839844,7.234183311462402,-17.87037467956543,-19.132633209228516,4.9559326171875,-17.774580001831055,13.451912879943848,13.578705787658691,14.136600494384766,-17.7933349609375,11.757523536682129,14.115824699401855,14.425841331481934,11.362630844116211,1.6289626359939575,2.164743185043335,6.864194869995117,4.17877197265625,14.123507499694824,2.8158912658691406,2.2751972675323486],\"xaxis\":\"x\",\"y\":[7.282554626464844,8.271140098571777,11.304170608520508,7.531589031219482,22.474184036254883,8.032386779785156,9.572261810302734,10.28192138671875,9.868602752685547,7.440587520599365,9.803936958312988,10.306900024414062,9.857595443725586,9.840873718261719,9.301002502441406,23.111055374145508,2.687743902206421,8.375091552734375,24.039316177368164,10.6260347366333,10.987678527832031,5.592648983001709,8.54297161102295,3.5475008487701416,8.046424865722656,22.690628051757812,23.57665252685547,22.927753448486328,5.537657737731934,2.8827993869781494,5.2929558753967285,23.96982765197754,23.60594367980957,3.002701759338379,22.706134796142578,10.769728660583496,23.62375831604004,8.53715705871582,23.684886932373047,23.696731567382812,3.1709437370300293,6.198801517486572,10.088486671447754,23.734682083129883,3.032465696334839,23.87149429321289,23.91876792907715,3.3097054958343506,7.8988213539123535,3.011533260345459,2.8035736083984375,11.53860092163086,8.170822143554688,23.811906814575195,6.453453063964844,7.971122741699219,23.669065475463867,23.86763572692871,3.262661933898926,3.299246072769165,3.386023998260498,23.67489242553711,3.1064939498901367,6.998896598815918,11.175350189208984,10.322017669677734,7.405351161956787,7.934507369995117,10.992124557495117,3.1371870040893555,22.695877075195312,3.2133076190948486,3.221698045730591,22.688013076782227,3.256314992904663,7.943192005157471,6.401320934295654,6.5503034591674805,10.65357780456543,10.852724075317383,3.0041515827178955,22.74134635925293,24.126314163208008,3.920163631439209,22.651119232177734,7.952516078948975,8.267037391662598,6.854556083679199,22.69280433654785,8.892511367797852,6.213225364685059,6.183881759643555,10.600703239440918,6.583766937255859,7.748729705810547,3.594813346862793,7.797697067260742,5.959901332855225,5.80148983001709,6.03828763961792],\"yaxis\":\"y\",\"type\":\"scatter\"}],                        {\"template\":{\"data\":{\"bar\":[{\"error_x\":{\"color\":\"#2a3f5f\"},\"error_y\":{\"color\":\"#2a3f5f\"},\"marker\":{\"line\":{\"color\":\"#E5ECF6\",\"width\":0.5},\"pattern\":{\"fillmode\":\"overlay\",\"size\":10,\"solidity\":0.2}},\"type\":\"bar\"}],\"barpolar\":[{\"marker\":{\"line\":{\"color\":\"#E5ECF6\",\"width\":0.5},\"pattern\":{\"fillmode\":\"overlay\",\"size\":10,\"solidity\":0.2}},\"type\":\"barpolar\"}],\"carpet\":[{\"aaxis\":{\"endlinecolor\":\"#2a3f5f\",\"gridcolor\":\"white\",\"linecolor\":\"white\",\"minorgridcolor\":\"white\",\"startlinecolor\":\"#2a3f5f\"},\"baxis\":{\"endlinecolor\":\"#2a3f5f\",\"gridcolor\":\"white\",\"linecolor\":\"white\",\"minorgridcolor\":\"white\",\"startlinecolor\":\"#2a3f5f\"},\"type\":\"carpet\"}],\"choropleth\":[{\"colorbar\":{\"outlinewidth\":0,\"ticks\":\"\"},\"type\":\"choropleth\"}],\"contour\":[{\"colorbar\":{\"outlinewidth\":0,\"ticks\":\"\"},\"colorscale\":[[0.0,\"#0d0887\"],[0.1111111111111111,\"#46039f\"],[0.2222222222222222,\"#7201a8\"],[0.3333333333333333,\"#9c179e\"],[0.4444444444444444,\"#bd3786\"],[0.5555555555555556,\"#d8576b\"],[0.6666666666666666,\"#ed7953\"],[0.7777777777777778,\"#fb9f3a\"],[0.8888888888888888,\"#fdca26\"],[1.0,\"#f0f921\"]],\"type\":\"contour\"}],\"contourcarpet\":[{\"colorbar\":{\"outlinewidth\":0,\"ticks\":\"\"},\"type\":\"contourcarpet\"}],\"heatmap\":[{\"colorbar\":{\"outlinewidth\":0,\"ticks\":\"\"},\"colorscale\":[[0.0,\"#0d0887\"],[0.1111111111111111,\"#46039f\"],[0.2222222222222222,\"#7201a8\"],[0.3333333333333333,\"#9c179e\"],[0.4444444444444444,\"#bd3786\"],[0.5555555555555556,\"#d8576b\"],[0.6666666666666666,\"#ed7953\"],[0.7777777777777778,\"#fb9f3a\"],[0.8888888888888888,\"#fdca26\"],[1.0,\"#f0f921\"]],\"type\":\"heatmap\"}],\"heatmapgl\":[{\"colorbar\":{\"outlinewidth\":0,\"ticks\":\"\"},\"colorscale\":[[0.0,\"#0d0887\"],[0.1111111111111111,\"#46039f\"],[0.2222222222222222,\"#7201a8\"],[0.3333333333333333,\"#9c179e\"],[0.4444444444444444,\"#bd3786\"],[0.5555555555555556,\"#d8576b\"],[0.6666666666666666,\"#ed7953\"],[0.7777777777777778,\"#fb9f3a\"],[0.8888888888888888,\"#fdca26\"],[1.0,\"#f0f921\"]],\"type\":\"heatmapgl\"}],\"histogram\":[{\"marker\":{\"pattern\":{\"fillmode\":\"overlay\",\"size\":10,\"solidity\":0.2}},\"type\":\"histogram\"}],\"histogram2d\":[{\"colorbar\":{\"outlinewidth\":0,\"ticks\":\"\"},\"colorscale\":[[0.0,\"#0d0887\"],[0.1111111111111111,\"#46039f\"],[0.2222222222222222,\"#7201a8\"],[0.3333333333333333,\"#9c179e\"],[0.4444444444444444,\"#bd3786\"],[0.5555555555555556,\"#d8576b\"],[0.6666666666666666,\"#ed7953\"],[0.7777777777777778,\"#fb9f3a\"],[0.8888888888888888,\"#fdca26\"],[1.0,\"#f0f921\"]],\"type\":\"histogram2d\"}],\"histogram2dcontour\":[{\"colorbar\":{\"outlinewidth\":0,\"ticks\":\"\"},\"colorscale\":[[0.0,\"#0d0887\"],[0.1111111111111111,\"#46039f\"],[0.2222222222222222,\"#7201a8\"],[0.3333333333333333,\"#9c179e\"],[0.4444444444444444,\"#bd3786\"],[0.5555555555555556,\"#d8576b\"],[0.6666666666666666,\"#ed7953\"],[0.7777777777777778,\"#fb9f3a\"],[0.8888888888888888,\"#fdca26\"],[1.0,\"#f0f921\"]],\"type\":\"histogram2dcontour\"}],\"mesh3d\":[{\"colorbar\":{\"outlinewidth\":0,\"ticks\":\"\"},\"type\":\"mesh3d\"}],\"parcoords\":[{\"line\":{\"colorbar\":{\"outlinewidth\":0,\"ticks\":\"\"}},\"type\":\"parcoords\"}],\"pie\":[{\"automargin\":true,\"type\":\"pie\"}],\"scatter\":[{\"marker\":{\"colorbar\":{\"outlinewidth\":0,\"ticks\":\"\"}},\"type\":\"scatter\"}],\"scatter3d\":[{\"line\":{\"colorbar\":{\"outlinewidth\":0,\"ticks\":\"\"}},\"marker\":{\"colorbar\":{\"outlinewidth\":0,\"ticks\":\"\"}},\"type\":\"scatter3d\"}],\"scattercarpet\":[{\"marker\":{\"colorbar\":{\"outlinewidth\":0,\"ticks\":\"\"}},\"type\":\"scattercarpet\"}],\"scattergeo\":[{\"marker\":{\"colorbar\":{\"outlinewidth\":0,\"ticks\":\"\"}},\"type\":\"scattergeo\"}],\"scattergl\":[{\"marker\":{\"colorbar\":{\"outlinewidth\":0,\"ticks\":\"\"}},\"type\":\"scattergl\"}],\"scattermapbox\":[{\"marker\":{\"colorbar\":{\"outlinewidth\":0,\"ticks\":\"\"}},\"type\":\"scattermapbox\"}],\"scatterpolar\":[{\"marker\":{\"colorbar\":{\"outlinewidth\":0,\"ticks\":\"\"}},\"type\":\"scatterpolar\"}],\"scatterpolargl\":[{\"marker\":{\"colorbar\":{\"outlinewidth\":0,\"ticks\":\"\"}},\"type\":\"scatterpolargl\"}],\"scatterternary\":[{\"marker\":{\"colorbar\":{\"outlinewidth\":0,\"ticks\":\"\"}},\"type\":\"scatterternary\"}],\"surface\":[{\"colorbar\":{\"outlinewidth\":0,\"ticks\":\"\"},\"colorscale\":[[0.0,\"#0d0887\"],[0.1111111111111111,\"#46039f\"],[0.2222222222222222,\"#7201a8\"],[0.3333333333333333,\"#9c179e\"],[0.4444444444444444,\"#bd3786\"],[0.5555555555555556,\"#d8576b\"],[0.6666666666666666,\"#ed7953\"],[0.7777777777777778,\"#fb9f3a\"],[0.8888888888888888,\"#fdca26\"],[1.0,\"#f0f921\"]],\"type\":\"surface\"}],\"table\":[{\"cells\":{\"fill\":{\"color\":\"#EBF0F8\"},\"line\":{\"color\":\"white\"}},\"header\":{\"fill\":{\"color\":\"#C8D4E3\"},\"line\":{\"color\":\"white\"}},\"type\":\"table\"}]},\"layout\":{\"annotationdefaults\":{\"arrowcolor\":\"#2a3f5f\",\"arrowhead\":0,\"arrowwidth\":1},\"autotypenumbers\":\"strict\",\"coloraxis\":{\"colorbar\":{\"outlinewidth\":0,\"ticks\":\"\"}},\"colorscale\":{\"diverging\":[[0,\"#8e0152\"],[0.1,\"#c51b7d\"],[0.2,\"#de77ae\"],[0.3,\"#f1b6da\"],[0.4,\"#fde0ef\"],[0.5,\"#f7f7f7\"],[0.6,\"#e6f5d0\"],[0.7,\"#b8e186\"],[0.8,\"#7fbc41\"],[0.9,\"#4d9221\"],[1,\"#276419\"]],\"sequential\":[[0.0,\"#0d0887\"],[0.1111111111111111,\"#46039f\"],[0.2222222222222222,\"#7201a8\"],[0.3333333333333333,\"#9c179e\"],[0.4444444444444444,\"#bd3786\"],[0.5555555555555556,\"#d8576b\"],[0.6666666666666666,\"#ed7953\"],[0.7777777777777778,\"#fb9f3a\"],[0.8888888888888888,\"#fdca26\"],[1.0,\"#f0f921\"]],\"sequentialminus\":[[0.0,\"#0d0887\"],[0.1111111111111111,\"#46039f\"],[0.2222222222222222,\"#7201a8\"],[0.3333333333333333,\"#9c179e\"],[0.4444444444444444,\"#bd3786\"],[0.5555555555555556,\"#d8576b\"],[0.6666666666666666,\"#ed7953\"],[0.7777777777777778,\"#fb9f3a\"],[0.8888888888888888,\"#fdca26\"],[1.0,\"#f0f921\"]]},\"colorway\":[\"#636efa\",\"#EF553B\",\"#00cc96\",\"#ab63fa\",\"#FFA15A\",\"#19d3f3\",\"#FF6692\",\"#B6E880\",\"#FF97FF\",\"#FECB52\"],\"font\":{\"color\":\"#2a3f5f\"},\"geo\":{\"bgcolor\":\"white\",\"lakecolor\":\"white\",\"landcolor\":\"#E5ECF6\",\"showlakes\":true,\"showland\":true,\"subunitcolor\":\"white\"},\"hoverlabel\":{\"align\":\"left\"},\"hovermode\":\"closest\",\"mapbox\":{\"style\":\"light\"},\"paper_bgcolor\":\"white\",\"plot_bgcolor\":\"#E5ECF6\",\"polar\":{\"angularaxis\":{\"gridcolor\":\"white\",\"linecolor\":\"white\",\"ticks\":\"\"},\"bgcolor\":\"#E5ECF6\",\"radialaxis\":{\"gridcolor\":\"white\",\"linecolor\":\"white\",\"ticks\":\"\"}},\"scene\":{\"xaxis\":{\"backgroundcolor\":\"#E5ECF6\",\"gridcolor\":\"white\",\"gridwidth\":2,\"linecolor\":\"white\",\"showbackground\":true,\"ticks\":\"\",\"zerolinecolor\":\"white\"},\"yaxis\":{\"backgroundcolor\":\"#E5ECF6\",\"gridcolor\":\"white\",\"gridwidth\":2,\"linecolor\":\"white\",\"showbackground\":true,\"ticks\":\"\",\"zerolinecolor\":\"white\"},\"zaxis\":{\"backgroundcolor\":\"#E5ECF6\",\"gridcolor\":\"white\",\"gridwidth\":2,\"linecolor\":\"white\",\"showbackground\":true,\"ticks\":\"\",\"zerolinecolor\":\"white\"}},\"shapedefaults\":{\"line\":{\"color\":\"#2a3f5f\"}},\"ternary\":{\"aaxis\":{\"gridcolor\":\"white\",\"linecolor\":\"white\",\"ticks\":\"\"},\"baxis\":{\"gridcolor\":\"white\",\"linecolor\":\"white\",\"ticks\":\"\"},\"bgcolor\":\"#E5ECF6\",\"caxis\":{\"gridcolor\":\"white\",\"linecolor\":\"white\",\"ticks\":\"\"}},\"title\":{\"x\":0.05},\"xaxis\":{\"automargin\":true,\"gridcolor\":\"white\",\"linecolor\":\"white\",\"ticks\":\"\",\"title\":{\"standoff\":15},\"zerolinecolor\":\"white\",\"zerolinewidth\":2},\"yaxis\":{\"automargin\":true,\"gridcolor\":\"white\",\"linecolor\":\"white\",\"ticks\":\"\",\"title\":{\"standoff\":15},\"zerolinecolor\":\"white\",\"zerolinewidth\":2}}},\"xaxis\":{\"anchor\":\"y\",\"domain\":[0.0,1.0],\"title\":{\"text\":\"DensMAP Dim. 1\"},\"autorange\":\"reversed\"},\"yaxis\":{\"anchor\":\"x\",\"domain\":[0.0,1.0],\"title\":{\"text\":\"DensMAP Dim. 2\"}},\"coloraxis\":{\"colorbar\":{\"title\":{\"text\":\"target\"}},\"colorscale\":[[0.0,\"#0d0887\"],[0.1111111111111111,\"#46039f\"],[0.2222222222222222,\"#7201a8\"],[0.3333333333333333,\"#9c179e\"],[0.4444444444444444,\"#bd3786\"],[0.5555555555555556,\"#d8576b\"],[0.6666666666666666,\"#ed7953\"],[0.7777777777777778,\"#fb9f3a\"],[0.8888888888888888,\"#fdca26\"],[1.0,\"#f0f921\"]]},\"legend\":{\"tracegroupgap\":0,\"orientation\":\"h\",\"y\":1.1,\"yanchor\":\"bottom\"},\"margin\":{\"t\":60}},                        {\"responsive\": true}                    ).then(function(){\n",
              "                            \n",
              "var gd = document.getElementById('4d596c77-a667-4629-ad50-4decb7c7b095');\n",
              "var x = new MutationObserver(function (mutations, observer) {{\n",
              "        var display = window.getComputedStyle(gd).display;\n",
              "        if (!display || display === 'none') {{\n",
              "            console.log([gd, 'removed!']);\n",
              "            Plotly.purge(gd);\n",
              "            observer.disconnect();\n",
              "        }}\n",
              "}});\n",
              "\n",
              "// Listen for the removal of the full notebook cells\n",
              "var notebookContainer = gd.closest('#notebook-container');\n",
              "if (notebookContainer) {{\n",
              "    x.observe(notebookContainer, {childList: true});\n",
              "}}\n",
              "\n",
              "// Listen for the clearing of the current output cell\n",
              "var outputEl = gd.closest('.output');\n",
              "if (outputEl) {{\n",
              "    x.observe(outputEl, {childList: true});\n",
              "}}\n",
              "\n",
              "                        })                };                            </script>        </div>\n",
              "</body>\n",
              "</html>"
            ]
          },
          "metadata": {}
        },
        {
          "output_type": "display_data",
          "data": {
            "image/png": "[encoded data removed]",
            "text/plain": [
              "<Figure size 432x288 with 2 Axes>"
            ]
          },
          "metadata": {
            "needs_background": "light"
          }
        },
        {
          "output_type": "display_data",
          "data": {
            "image/png": "[encoded data removed]",
            "text/plain": [
              "<Figure size 432x288 with 1 Axes>"
            ]
          },
          "metadata": {
            "needs_background": "light"
          }
        },
        {
          "output_type": "display_data",
          "data": {
            "text/html": [
              "<html>\n",
              "<head><meta charset=\"utf-8\" /></head>\n",
              "<body>\n",
              "    <div>            <script src=\"https://cdnjs.cloudflare.com/ajax/libs/mathjax/2.7.5/MathJax.js?config=TeX-AMS-MML_SVG\"></script><script type=\"text/javascript\">if (window.MathJax) {MathJax.Hub.Config({SVG: {font: \"STIX-Web\"}});}</script>                <script type=\"text/javascript\">window.PlotlyConfig = {MathJaxConfig: 'local'};</script>\n",
              "        <script src=\"https://cdn.plot.ly/plotly-2.9.0.min.js\"></script>                <div id=\"328e4601-622a-47d5-bf3c-a8c1d9df7774\" class=\"plotly-graph-div\" style=\"height:525px; width:100%;\"></div>            <script type=\"text/javascript\">                                    window.PLOTLYENV=window.PLOTLYENV || {};                                    if (document.getElementById(\"328e4601-622a-47d5-bf3c-a8c1d9df7774\")) {                    Plotly.newPlot(                        \"328e4601-622a-47d5-bf3c-a8c1d9df7774\",                        [{\"customdata\":[[\"AgAsF6\"],[\"AcYbHg2\"],[\"AcYbMg2\"],[\"AcYbCd2\"],[\"Ag3Ge5P6\"],[\"Ag2H3IO6\"],[\"Ac3Sn\"],[\"Ag3P11\"],[\"Ac3Th\"],[\"Ac3Pr\"],[\"AcEr3\"],[\"AcLa3\"],[\"Ac\"],[\"Ac3Yb\"],[\"Ac3Nd\"],[\"AcH2\"],[\"AcTiO3\"],[\"AcCuO3\"],[\"Ac2O3\"],[\"AcOF\"],[\"AcClO\"],[\"AcBr3\"],[\"AcInTe2\"],[\"AcSe3\"],[\"AcTlTe2\"],[\"AcGaTe2\"],[\"AcF3\"],[\"AcI3\"],[\"AcTe3\"],[\"AcH3\"],[\"AcCl3\"],[\"AcGa3\"],[\"AcMgTl2\"],[\"AcMgCd2\"],[\"AcInAu2\"],[\"AcAg2Sn\"],[\"AcMgHg2\"],[\"AcAl3\"],[\"AcAu3\"],[\"AcTlHg2\"],[\"AcCdAg2\"],[\"AcCdRh2\"],[\"AcSi3\"],[\"AcHgAu2\"],[\"AcAgHg2\"],[\"AcSnAu2\"],[\"AcHg3\"],[\"AcMg3\"],[\"AcPbAu2\"],[\"AcAgAu2\"],[\"AcTlAu2\"],[\"Ac2NiIr\"],[\"AcAg\"],[\"Ac2IrAu\"],[\"Ac2CuIr\"],[\"Ac2IrPd\"],[\"Ac2AgIr\"],[\"Ac2MgSn\"],[\"Ac2ZnSi\"],[\"Ac2HgGe\"],[\"Ac2CuSn\"],[\"Ac2CuGe\"],[\"Ac2SiAu\"],[\"Ac2SnHg\"],[\"Ac2SiHg\"],[\"Ac2ZnGe\"],[\"Ac2CdSn\"],[\"AcMg\"],[\"Ac2GePd\"],[\"Ac2NiGe\"],[\"AcN\"],[\"Ac2SiPd\"],[\"Ag2O3\"],[\"Ag5P(S2Cl)2\"],[\"Ag2CO3\"],[\"Ag2SeO3\"],[\"AgAsSe2\"],[\"Ag2SO4\"],[\"Ag2HgI4\"],[\"Ag2BiO3\"],[\"Ag2MoO4\"],[\"Ag3PO4\"],[\"AgAsS\"],[\"Ag3Hg\"],[\"Ag\"],[\"Ag3Sb\"],[\"Ag3Ge\"],[\"Ag3Pd\"],[\"Ag3Pt\"],[\"Ag3P\"],[\"Ag2S\"],[\"Ag3SI\"],[\"Ag2PdO2\"],[\"Ag2F\"],[\"Ag3AuS2\"],[\"Ag2Se\"],[\"Ag2Te\"],[\"Ag2HgO2\"],[\"Ag2O\"],[\"Ag2HgS2\"]],\"hovertemplate\":\"log density=%{x}<br>target=%{y}<br>formula=%{customdata[0]}<br>cluster ID=%{marker.color}<extra></extra>\",\"legendgroup\":\"\",\"marker\":{\"color\":[-1,-1,-1,-1,-1,-1,-1,-1,0,0,0,0,0,0,0,1,1,1,1,1,1,2,2,2,2,2,2,2,2,2,2,3,3,3,3,3,3,3,3,3,3,3,3,3,3,3,3,3,3,3,3,4,4,4,4,4,4,5,5,5,5,5,5,5,5,5,5,5,5,5,5,5,6,6,6,6,6,6,6,6,6,6,6,7,7,7,7,7,7,7,8,8,8,8,8,8,8,8,8,8],\"coloraxis\":\"coloraxis\",\"symbol\":\"circle\"},\"mode\":\"markers\",\"name\":\"\",\"orientation\":\"v\",\"showlegend\":false,\"x\":[-4.435165882110596,-3.0747809410095215,-3.0998735427856445,-3.043189525604248,-3.8034329414367676,-3.9163730144500732,-4.388247013092041,-3.7832553386688232,-2.6485915184020996,-2.335596799850464,-4.018893718719482,-2.313429832458496,-2.404710054397583,-2.893320083618164,-2.451814889907837,-3.6829230785369873,-3.8356404304504395,-3.837634563446045,-4.0198869705200195,-3.611361026763916,-3.575040340423584,-3.0172483921051025,-3.456319570541382,-3.304800271987915,-3.432056427001953,-3.361607313156128,-2.949875593185425,-3.0875988006591797,-3.334150552749634,-3.2236554622650146,-2.873323917388916,-2.6285362243652344,-2.6200623512268066,-1.922942876815796,-1.4980868101119995,-1.774997353553772,-1.722618818283081,-2.439080238342285,-2.848301649093628,-2.3070156574249268,-2.221561908721924,-2.2367944717407227,-3.430030584335327,-1.6695592403411865,-2.2491161823272705,-1.325104832649231,-1.7336552143096924,-2.3442232608795166,-1.3433135747909546,-2.744394063949585,-1.4181886911392212,-1.879354476928711,-2.1638410091400146,-1.008837103843689,-1.297705888748169,-1.498412847518921,-0.7358723878860474,-1.931414246559143,-1.8712738752365112,-1.8523470163345337,-2.4724011421203613,-2.2385799884796143,-2.2503530979156494,-1.8708802461624146,-1.8491051197052002,-1.7959710359573364,-1.8275833129882812,-2.529057264328003,-2.5946617126464844,-2.2248995304107666,-3.0831871032714844,-2.496701955795288,-2.8099915981292725,-2.956888437271118,-2.597105026245117,-2.6464083194732666,-2.982236623764038,-2.9238836765289307,-3.0828680992126465,-2.55400013923645,-3.044238805770874,-2.6524498462677,-2.804309844970703,-2.2662699222564697,-2.9500389099121094,-2.706117630004883,-2.564912796020508,-3.1300835609436035,-3.2222537994384766,-2.6864054203033447,-2.056753158569336,-2.197937250137329,-2.28952956199646,-2.220797538757324,-2.1247146129608154,-2.11802077293396,-2.402926206588745,-2.7806222438812256,-1.8973393440246582,-2.7852730751037598],\"xaxis\":\"x\",\"y\":[32.0,42.0,25.0,41.0,65.0,88.0,38.0,53.0,31.0,29.0,37.0,27.0,29.0,27.0,28.0,55.0,165.0,164.0,103.0,108.0,67.0,24.0,42.0,56.0,40.0,43.0,120.0,2.0,48.0,68.0,28.0,52.0,40.0,42.0,72.0,61.0,49.0,58.0,77.0,47.0,52.0,111.0,80.0,64.0,52.0,73.0,44.0,33.0,74.0,70.0,59.0,87.0,44.0,80.0,73.0,77.0,72.0,41.0,50.0,50.0,43.0,44.0,62.0,45.0,49.0,46.0,47.0,33.0,58.0,55.0,77.0,58.0,76.0,40.0,45.0,29.0,65.0,48.0,14.0,100.0,68.0,75.0,40.0,75.0,88.0,65.0,75.0,99.0,120.0,85.0,26.0,6.0,84.0,74.0,40.0,58.0,52.0,40.0,84.0,46.0],\"yaxis\":\"y\",\"type\":\"scatter\"},{\"hoverinfo\":\"skip\",\"line\":{\"color\":\"black\",\"dash\":\"dash\",\"width\":1},\"marker\":{\"size\":10,\"symbol\":\"circle-open\"},\"mode\":\"lines\",\"name\":\"pareto front\",\"x\":[-3.8356404304504395,-3.837634563446045,-4.0198869705200195,-4.388247013092041,-4.435165882110596],\"y\":[165.0,164.0,103.0,38.0,32.0],\"type\":\"scatter\"}],                        {\"template\":{\"data\":{\"bar\":[{\"error_x\":{\"color\":\"#2a3f5f\"},\"error_y\":{\"color\":\"#2a3f5f\"},\"marker\":{\"line\":{\"color\":\"#E5ECF6\",\"width\":0.5},\"pattern\":{\"fillmode\":\"overlay\",\"size\":10,\"solidity\":0.2}},\"type\":\"bar\"}],\"barpolar\":[{\"marker\":{\"line\":{\"color\":\"#E5ECF6\",\"width\":0.5},\"pattern\":{\"fillmode\":\"overlay\",\"size\":10,\"solidity\":0.2}},\"type\":\"barpolar\"}],\"carpet\":[{\"aaxis\":{\"endlinecolor\":\"#2a3f5f\",\"gridcolor\":\"white\",\"linecolor\":\"white\",\"minorgridcolor\":\"white\",\"startlinecolor\":\"#2a3f5f\"},\"baxis\":{\"endlinecolor\":\"#2a3f5f\",\"gridcolor\":\"white\",\"linecolor\":\"white\",\"minorgridcolor\":\"white\",\"startlinecolor\":\"#2a3f5f\"},\"type\":\"carpet\"}],\"choropleth\":[{\"colorbar\":{\"outlinewidth\":0,\"ticks\":\"\"},\"type\":\"choropleth\"}],\"contour\":[{\"colorbar\":{\"outlinewidth\":0,\"ticks\":\"\"},\"colorscale\":[[0.0,\"#0d0887\"],[0.1111111111111111,\"#46039f\"],[0.2222222222222222,\"#7201a8\"],[0.3333333333333333,\"#9c179e\"],[0.4444444444444444,\"#bd3786\"],[0.5555555555555556,\"#d8576b\"],[0.6666666666666666,\"#ed7953\"],[0.7777777777777778,\"#fb9f3a\"],[0.8888888888888888,\"#fdca26\"],[1.0,\"#f0f921\"]],\"type\":\"contour\"}],\"contourcarpet\":[{\"colorbar\":{\"outlinewidth\":0,\"ticks\":\"\"},\"type\":\"contourcarpet\"}],\"heatmap\":[{\"colorbar\":{\"outlinewidth\":0,\"ticks\":\"\"},\"colorscale\":[[0.0,\"#0d0887\"],[0.1111111111111111,\"#46039f\"],[0.2222222222222222,\"#7201a8\"],[0.3333333333333333,\"#9c179e\"],[0.4444444444444444,\"#bd3786\"],[0.5555555555555556,\"#d8576b\"],[0.6666666666666666,\"#ed7953\"],[0.7777777777777778,\"#fb9f3a\"],[0.8888888888888888,\"#fdca26\"],[1.0,\"#f0f921\"]],\"type\":\"heatmap\"}],\"heatmapgl\":[{\"colorbar\":{\"outlinewidth\":0,\"ticks\":\"\"},\"colorscale\":[[0.0,\"#0d0887\"],[0.1111111111111111,\"#46039f\"],[0.2222222222222222,\"#7201a8\"],[0.3333333333333333,\"#9c179e\"],[0.4444444444444444,\"#bd3786\"],[0.5555555555555556,\"#d8576b\"],[0.6666666666666666,\"#ed7953\"],[0.7777777777777778,\"#fb9f3a\"],[0.8888888888888888,\"#fdca26\"],[1.0,\"#f0f921\"]],\"type\":\"heatmapgl\"}],\"histogram\":[{\"marker\":{\"pattern\":{\"fillmode\":\"overlay\",\"size\":10,\"solidity\":0.2}},\"type\":\"histogram\"}],\"histogram2d\":[{\"colorbar\":{\"outlinewidth\":0,\"ticks\":\"\"},\"colorscale\":[[0.0,\"#0d0887\"],[0.1111111111111111,\"#46039f\"],[0.2222222222222222,\"#7201a8\"],[0.3333333333333333,\"#9c179e\"],[0.4444444444444444,\"#bd3786\"],[0.5555555555555556,\"#d8576b\"],[0.6666666666666666,\"#ed7953\"],[0.7777777777777778,\"#fb9f3a\"],[0.8888888888888888,\"#fdca26\"],[1.0,\"#f0f921\"]],\"type\":\"histogram2d\"}],\"histogram2dcontour\":[{\"colorbar\":{\"outlinewidth\":0,\"ticks\":\"\"},\"colorscale\":[[0.0,\"#0d0887\"],[0.1111111111111111,\"#46039f\"],[0.2222222222222222,\"#7201a8\"],[0.3333333333333333,\"#9c179e\"],[0.4444444444444444,\"#bd3786\"],[0.5555555555555556,\"#d8576b\"],[0.6666666666666666,\"#ed7953\"],[0.7777777777777778,\"#fb9f3a\"],[0.8888888888888888,\"#fdca26\"],[1.0,\"#f0f921\"]],\"type\":\"histogram2dcontour\"}],\"mesh3d\":[{\"colorbar\":{\"outlinewidth\":0,\"ticks\":\"\"},\"type\":\"mesh3d\"}],\"parcoords\":[{\"line\":{\"colorbar\":{\"outlinewidth\":0,\"ticks\":\"\"}},\"type\":\"parcoords\"}],\"pie\":[{\"automargin\":true,\"type\":\"pie\"}],\"scatter\":[{\"marker\":{\"colorbar\":{\"outlinewidth\":0,\"ticks\":\"\"}},\"type\":\"scatter\"}],\"scatter3d\":[{\"line\":{\"colorbar\":{\"outlinewidth\":0,\"ticks\":\"\"}},\"marker\":{\"colorbar\":{\"outlinewidth\":0,\"ticks\":\"\"}},\"type\":\"scatter3d\"}],\"scattercarpet\":[{\"marker\":{\"colorbar\":{\"outlinewidth\":0,\"ticks\":\"\"}},\"type\":\"scattercarpet\"}],\"scattergeo\":[{\"marker\":{\"colorbar\":{\"outlinewidth\":0,\"ticks\":\"\"}},\"type\":\"scattergeo\"}],\"scattergl\":[{\"marker\":{\"colorbar\":{\"outlinewidth\":0,\"ticks\":\"\"}},\"type\":\"scattergl\"}],\"scattermapbox\":[{\"marker\":{\"colorbar\":{\"outlinewidth\":0,\"ticks\":\"\"}},\"type\":\"scattermapbox\"}],\"scatterpolar\":[{\"marker\":{\"colorbar\":{\"outlinewidth\":0,\"ticks\":\"\"}},\"type\":\"scatterpolar\"}],\"scatterpolargl\":[{\"marker\":{\"colorbar\":{\"outlinewidth\":0,\"ticks\":\"\"}},\"type\":\"scatterpolargl\"}],\"scatterternary\":[{\"marker\":{\"colorbar\":{\"outlinewidth\":0,\"ticks\":\"\"}},\"type\":\"scatterternary\"}],\"surface\":[{\"colorbar\":{\"outlinewidth\":0,\"ticks\":\"\"},\"colorscale\":[[0.0,\"#0d0887\"],[0.1111111111111111,\"#46039f\"],[0.2222222222222222,\"#7201a8\"],[0.3333333333333333,\"#9c179e\"],[0.4444444444444444,\"#bd3786\"],[0.5555555555555556,\"#d8576b\"],[0.6666666666666666,\"#ed7953\"],[0.7777777777777778,\"#fb9f3a\"],[0.8888888888888888,\"#fdca26\"],[1.0,\"#f0f921\"]],\"type\":\"surface\"}],\"table\":[{\"cells\":{\"fill\":{\"color\":\"#EBF0F8\"},\"line\":{\"color\":\"white\"}},\"header\":{\"fill\":{\"color\":\"#C8D4E3\"},\"line\":{\"color\":\"white\"}},\"type\":\"table\"}]},\"layout\":{\"annotationdefaults\":{\"arrowcolor\":\"#2a3f5f\",\"arrowhead\":0,\"arrowwidth\":1},\"autotypenumbers\":\"strict\",\"coloraxis\":{\"colorbar\":{\"outlinewidth\":0,\"ticks\":\"\"}},\"colorscale\":{\"diverging\":[[0,\"#8e0152\"],[0.1,\"#c51b7d\"],[0.2,\"#de77ae\"],[0.3,\"#f1b6da\"],[0.4,\"#fde0ef\"],[0.5,\"#f7f7f7\"],[0.6,\"#e6f5d0\"],[0.7,\"#b8e186\"],[0.8,\"#7fbc41\"],[0.9,\"#4d9221\"],[1,\"#276419\"]],\"sequential\":[[0.0,\"#0d0887\"],[0.1111111111111111,\"#46039f\"],[0.2222222222222222,\"#7201a8\"],[0.3333333333333333,\"#9c179e\"],[0.4444444444444444,\"#bd3786\"],[0.5555555555555556,\"#d8576b\"],[0.6666666666666666,\"#ed7953\"],[0.7777777777777778,\"#fb9f3a\"],[0.8888888888888888,\"#fdca26\"],[1.0,\"#f0f921\"]],\"sequentialminus\":[[0.0,\"#0d0887\"],[0.1111111111111111,\"#46039f\"],[0.2222222222222222,\"#7201a8\"],[0.3333333333333333,\"#9c179e\"],[0.4444444444444444,\"#bd3786\"],[0.5555555555555556,\"#d8576b\"],[0.6666666666666666,\"#ed7953\"],[0.7777777777777778,\"#fb9f3a\"],[0.8888888888888888,\"#fdca26\"],[1.0,\"#f0f921\"]]},\"colorway\":[\"#636efa\",\"#EF553B\",\"#00cc96\",\"#ab63fa\",\"#FFA15A\",\"#19d3f3\",\"#FF6692\",\"#B6E880\",\"#FF97FF\",\"#FECB52\"],\"font\":{\"color\":\"#2a3f5f\"},\"geo\":{\"bgcolor\":\"white\",\"lakecolor\":\"white\",\"landcolor\":\"#E5ECF6\",\"showlakes\":true,\"showland\":true,\"subunitcolor\":\"white\"},\"hoverlabel\":{\"align\":\"left\"},\"hovermode\":\"closest\",\"mapbox\":{\"style\":\"light\"},\"paper_bgcolor\":\"white\",\"plot_bgcolor\":\"#E5ECF6\",\"polar\":{\"angularaxis\":{\"gridcolor\":\"white\",\"linecolor\":\"white\",\"ticks\":\"\"},\"bgcolor\":\"#E5ECF6\",\"radialaxis\":{\"gridcolor\":\"white\",\"linecolor\":\"white\",\"ticks\":\"\"}},\"scene\":{\"xaxis\":{\"backgroundcolor\":\"#E5ECF6\",\"gridcolor\":\"white\",\"gridwidth\":2,\"linecolor\":\"white\",\"showbackground\":true,\"ticks\":\"\",\"zerolinecolor\":\"white\"},\"yaxis\":{\"backgroundcolor\":\"#E5ECF6\",\"gridcolor\":\"white\",\"gridwidth\":2,\"linecolor\":\"white\",\"showbackground\":true,\"ticks\":\"\",\"zerolinecolor\":\"white\"},\"zaxis\":{\"backgroundcolor\":\"#E5ECF6\",\"gridcolor\":\"white\",\"gridwidth\":2,\"linecolor\":\"white\",\"showbackground\":true,\"ticks\":\"\",\"zerolinecolor\":\"white\"}},\"shapedefaults\":{\"line\":{\"color\":\"#2a3f5f\"}},\"ternary\":{\"aaxis\":{\"gridcolor\":\"white\",\"linecolor\":\"white\",\"ticks\":\"\"},\"baxis\":{\"gridcolor\":\"white\",\"linecolor\":\"white\",\"ticks\":\"\"},\"bgcolor\":\"#E5ECF6\",\"caxis\":{\"gridcolor\":\"white\",\"linecolor\":\"white\",\"ticks\":\"\"}},\"title\":{\"x\":0.05},\"xaxis\":{\"automargin\":true,\"gridcolor\":\"white\",\"linecolor\":\"white\",\"ticks\":\"\",\"title\":{\"standoff\":15},\"zerolinecolor\":\"white\",\"zerolinewidth\":2},\"yaxis\":{\"automargin\":true,\"gridcolor\":\"white\",\"linecolor\":\"white\",\"ticks\":\"\",\"title\":{\"standoff\":15},\"zerolinecolor\":\"white\",\"zerolinewidth\":2}}},\"xaxis\":{\"anchor\":\"y\",\"domain\":[0.0,1.0],\"title\":{\"text\":\"log density\"},\"autorange\":\"reversed\"},\"yaxis\":{\"anchor\":\"x\",\"domain\":[0.0,1.0],\"title\":{\"text\":\"target\"}},\"coloraxis\":{\"colorbar\":{\"title\":{\"text\":\"cluster ID\"}},\"colorscale\":[[0.0,\"rgb(0, 0, 0)\"],[0.125,\"rgb(66, 0, 161)\"],[0.25,\"rgb(0, 119, 221)\"],[0.375,\"rgb(0, 170, 151)\"],[0.5,\"rgb(0, 188, 0)\"],[0.625,\"rgb(102, 255, 0)\"],[0.75,\"rgb(255, 201, 0)\"],[0.875,\"rgb(235, 0, 0)\"],[1.0,\"rgb(204, 204, 204)\"]]},\"legend\":{\"tracegroupgap\":0,\"orientation\":\"h\",\"y\":1.1,\"yanchor\":\"bottom\"},\"margin\":{\"t\":60}},                        {\"responsive\": true}                    ).then(function(){\n",
              "                            \n",
              "var gd = document.getElementById('328e4601-622a-47d5-bf3c-a8c1d9df7774');\n",
              "var x = new MutationObserver(function (mutations, observer) {{\n",
              "        var display = window.getComputedStyle(gd).display;\n",
              "        if (!display || display === 'none') {{\n",
              "            console.log([gd, 'removed!']);\n",
              "            Plotly.purge(gd);\n",
              "            observer.disconnect();\n",
              "        }}\n",
              "}});\n",
              "\n",
              "// Listen for the removal of the full notebook cells\n",
              "var notebookContainer = gd.closest('#notebook-container');\n",
              "if (notebookContainer) {{\n",
              "    x.observe(notebookContainer, {childList: true});\n",
              "}}\n",
              "\n",
              "// Listen for the clearing of the current output cell\n",
              "var outputEl = gd.closest('.output');\n",
              "if (outputEl) {{\n",
              "    x.observe(outputEl, {childList: true});\n",
              "}}\n",
              "\n",
              "                        })                };                            </script>        </div>\n",
              "</body>\n",
              "</html>"
            ]
          },
          "metadata": {}
        },
        {
          "output_type": "display_data",
          "data": {
            "text/html": [
              "<html>\n",
              "<head><meta charset=\"utf-8\" /></head>\n",
              "<body>\n",
              "    <div>            <script src=\"https://cdnjs.cloudflare.com/ajax/libs/mathjax/2.7.5/MathJax.js?config=TeX-AMS-MML_SVG\"></script><script type=\"text/javascript\">if (window.MathJax) {MathJax.Hub.Config({SVG: {font: \"STIX-Web\"}});}</script>                <script type=\"text/javascript\">window.PlotlyConfig = {MathJaxConfig: 'local'};</script>\n",
              "        <script src=\"https://cdn.plot.ly/plotly-2.9.0.min.js\"></script>                <div id=\"16cc7b8c-ca73-41e7-9b6c-00562ea85d22\" class=\"plotly-graph-div\" style=\"height:525px; width:100%;\"></div>            <script type=\"text/javascript\">                                    window.PLOTLYENV=window.PLOTLYENV || {};                                    if (document.getElementById(\"16cc7b8c-ca73-41e7-9b6c-00562ea85d22\")) {                    Plotly.newPlot(                        \"16cc7b8c-ca73-41e7-9b6c-00562ea85d22\",                        [{\"hovertemplate\":\"cluster-wise validation fraction=%{x}<br>cluster-wise average target=%{y}<br>cluster ID=%{marker.color}<extra></extra>\",\"legendgroup\":\"\",\"marker\":{\"color\":[-1,0,1,2,3,4,5,6,7],\"coloraxis\":\"coloraxis\",\"symbol\":\"circle\"},\"mode\":\"markers\",\"name\":\"\",\"orientation\":\"v\",\"showlegend\":false,\"x\":[0.2222222222222222,0.14285714285714285,0.25,0.125,0.36363636363636365,0.3333333333333333,0.14285714285714285,0.0,0.2],\"xaxis\":\"x\",\"y\":[53.422904544406464,33.420885631016326,52.01632709503174,46.36017680168152,64.86534396084872,67.85782559712727,51.653951099940706,75.88129425048828,66.11086006164551],\"yaxis\":\"y\",\"type\":\"scatter\"},{\"hoverinfo\":\"skip\",\"line\":{\"color\":\"black\",\"dash\":\"dash\",\"width\":1},\"marker\":{\"size\":10,\"symbol\":\"circle-open\"},\"mode\":\"lines\",\"name\":\"pareto front\",\"x\":[0.0,0.3333333333333333,0.36363636363636365],\"y\":[75.88129425048828,67.85782559712727,64.86534396084872],\"type\":\"scatter\"}],                        {\"template\":{\"data\":{\"bar\":[{\"error_x\":{\"color\":\"#2a3f5f\"},\"error_y\":{\"color\":\"#2a3f5f\"},\"marker\":{\"line\":{\"color\":\"#E5ECF6\",\"width\":0.5},\"pattern\":{\"fillmode\":\"overlay\",\"size\":10,\"solidity\":0.2}},\"type\":\"bar\"}],\"barpolar\":[{\"marker\":{\"line\":{\"color\":\"#E5ECF6\",\"width\":0.5},\"pattern\":{\"fillmode\":\"overlay\",\"size\":10,\"solidity\":0.2}},\"type\":\"barpolar\"}],\"carpet\":[{\"aaxis\":{\"endlinecolor\":\"#2a3f5f\",\"gridcolor\":\"white\",\"linecolor\":\"white\",\"minorgridcolor\":\"white\",\"startlinecolor\":\"#2a3f5f\"},\"baxis\":{\"endlinecolor\":\"#2a3f5f\",\"gridcolor\":\"white\",\"linecolor\":\"white\",\"minorgridcolor\":\"white\",\"startlinecolor\":\"#2a3f5f\"},\"type\":\"carpet\"}],\"choropleth\":[{\"colorbar\":{\"outlinewidth\":0,\"ticks\":\"\"},\"type\":\"choropleth\"}],\"contour\":[{\"colorbar\":{\"outlinewidth\":0,\"ticks\":\"\"},\"colorscale\":[[0.0,\"#0d0887\"],[0.1111111111111111,\"#46039f\"],[0.2222222222222222,\"#7201a8\"],[0.3333333333333333,\"#9c179e\"],[0.4444444444444444,\"#bd3786\"],[0.5555555555555556,\"#d8576b\"],[0.6666666666666666,\"#ed7953\"],[0.7777777777777778,\"#fb9f3a\"],[0.8888888888888888,\"#fdca26\"],[1.0,\"#f0f921\"]],\"type\":\"contour\"}],\"contourcarpet\":[{\"colorbar\":{\"outlinewidth\":0,\"ticks\":\"\"},\"type\":\"contourcarpet\"}],\"heatmap\":[{\"colorbar\":{\"outlinewidth\":0,\"ticks\":\"\"},\"colorscale\":[[0.0,\"#0d0887\"],[0.1111111111111111,\"#46039f\"],[0.2222222222222222,\"#7201a8\"],[0.3333333333333333,\"#9c179e\"],[0.4444444444444444,\"#bd3786\"],[0.5555555555555556,\"#d8576b\"],[0.6666666666666666,\"#ed7953\"],[0.7777777777777778,\"#fb9f3a\"],[0.8888888888888888,\"#fdca26\"],[1.0,\"#f0f921\"]],\"type\":\"heatmap\"}],\"heatmapgl\":[{\"colorbar\":{\"outlinewidth\":0,\"ticks\":\"\"},\"colorscale\":[[0.0,\"#0d0887\"],[0.1111111111111111,\"#46039f\"],[0.2222222222222222,\"#7201a8\"],[0.3333333333333333,\"#9c179e\"],[0.4444444444444444,\"#bd3786\"],[0.5555555555555556,\"#d8576b\"],[0.6666666666666666,\"#ed7953\"],[0.7777777777777778,\"#fb9f3a\"],[0.8888888888888888,\"#fdca26\"],[1.0,\"#f0f921\"]],\"type\":\"heatmapgl\"}],\"histogram\":[{\"marker\":{\"pattern\":{\"fillmode\":\"overlay\",\"size\":10,\"solidity\":0.2}},\"type\":\"histogram\"}],\"histogram2d\":[{\"colorbar\":{\"outlinewidth\":0,\"ticks\":\"\"},\"colorscale\":[[0.0,\"#0d0887\"],[0.1111111111111111,\"#46039f\"],[0.2222222222222222,\"#7201a8\"],[0.3333333333333333,\"#9c179e\"],[0.4444444444444444,\"#bd3786\"],[0.5555555555555556,\"#d8576b\"],[0.6666666666666666,\"#ed7953\"],[0.7777777777777778,\"#fb9f3a\"],[0.8888888888888888,\"#fdca26\"],[1.0,\"#f0f921\"]],\"type\":\"histogram2d\"}],\"histogram2dcontour\":[{\"colorbar\":{\"outlinewidth\":0,\"ticks\":\"\"},\"colorscale\":[[0.0,\"#0d0887\"],[0.1111111111111111,\"#46039f\"],[0.2222222222222222,\"#7201a8\"],[0.3333333333333333,\"#9c179e\"],[0.4444444444444444,\"#bd3786\"],[0.5555555555555556,\"#d8576b\"],[0.6666666666666666,\"#ed7953\"],[0.7777777777777778,\"#fb9f3a\"],[0.8888888888888888,\"#fdca26\"],[1.0,\"#f0f921\"]],\"type\":\"histogram2dcontour\"}],\"mesh3d\":[{\"colorbar\":{\"outlinewidth\":0,\"ticks\":\"\"},\"type\":\"mesh3d\"}],\"parcoords\":[{\"line\":{\"colorbar\":{\"outlinewidth\":0,\"ticks\":\"\"}},\"type\":\"parcoords\"}],\"pie\":[{\"automargin\":true,\"type\":\"pie\"}],\"scatter\":[{\"marker\":{\"colorbar\":{\"outlinewidth\":0,\"ticks\":\"\"}},\"type\":\"scatter\"}],\"scatter3d\":[{\"line\":{\"colorbar\":{\"outlinewidth\":0,\"ticks\":\"\"}},\"marker\":{\"colorbar\":{\"outlinewidth\":0,\"ticks\":\"\"}},\"type\":\"scatter3d\"}],\"scattercarpet\":[{\"marker\":{\"colorbar\":{\"outlinewidth\":0,\"ticks\":\"\"}},\"type\":\"scattercarpet\"}],\"scattergeo\":[{\"marker\":{\"colorbar\":{\"outlinewidth\":0,\"ticks\":\"\"}},\"type\":\"scattergeo\"}],\"scattergl\":[{\"marker\":{\"colorbar\":{\"outlinewidth\":0,\"ticks\":\"\"}},\"type\":\"scattergl\"}],\"scattermapbox\":[{\"marker\":{\"colorbar\":{\"outlinewidth\":0,\"ticks\":\"\"}},\"type\":\"scattermapbox\"}],\"scatterpolar\":[{\"marker\":{\"colorbar\":{\"outlinewidth\":0,\"ticks\":\"\"}},\"type\":\"scatterpolar\"}],\"scatterpolargl\":[{\"marker\":{\"colorbar\":{\"outlinewidth\":0,\"ticks\":\"\"}},\"type\":\"scatterpolargl\"}],\"scatterternary\":[{\"marker\":{\"colorbar\":{\"outlinewidth\":0,\"ticks\":\"\"}},\"type\":\"scatterternary\"}],\"surface\":[{\"colorbar\":{\"outlinewidth\":0,\"ticks\":\"\"},\"colorscale\":[[0.0,\"#0d0887\"],[0.1111111111111111,\"#46039f\"],[0.2222222222222222,\"#7201a8\"],[0.3333333333333333,\"#9c179e\"],[0.4444444444444444,\"#bd3786\"],[0.5555555555555556,\"#d8576b\"],[0.6666666666666666,\"#ed7953\"],[0.7777777777777778,\"#fb9f3a\"],[0.8888888888888888,\"#fdca26\"],[1.0,\"#f0f921\"]],\"type\":\"surface\"}],\"table\":[{\"cells\":{\"fill\":{\"color\":\"#EBF0F8\"},\"line\":{\"color\":\"white\"}},\"header\":{\"fill\":{\"color\":\"#C8D4E3\"},\"line\":{\"color\":\"white\"}},\"type\":\"table\"}]},\"layout\":{\"annotationdefaults\":{\"arrowcolor\":\"#2a3f5f\",\"arrowhead\":0,\"arrowwidth\":1},\"autotypenumbers\":\"strict\",\"coloraxis\":{\"colorbar\":{\"outlinewidth\":0,\"ticks\":\"\"}},\"colorscale\":{\"diverging\":[[0,\"#8e0152\"],[0.1,\"#c51b7d\"],[0.2,\"#de77ae\"],[0.3,\"#f1b6da\"],[0.4,\"#fde0ef\"],[0.5,\"#f7f7f7\"],[0.6,\"#e6f5d0\"],[0.7,\"#b8e186\"],[0.8,\"#7fbc41\"],[0.9,\"#4d9221\"],[1,\"#276419\"]],\"sequential\":[[0.0,\"#0d0887\"],[0.1111111111111111,\"#46039f\"],[0.2222222222222222,\"#7201a8\"],[0.3333333333333333,\"#9c179e\"],[0.4444444444444444,\"#bd3786\"],[0.5555555555555556,\"#d8576b\"],[0.6666666666666666,\"#ed7953\"],[0.7777777777777778,\"#fb9f3a\"],[0.8888888888888888,\"#fdca26\"],[1.0,\"#f0f921\"]],\"sequentialminus\":[[0.0,\"#0d0887\"],[0.1111111111111111,\"#46039f\"],[0.2222222222222222,\"#7201a8\"],[0.3333333333333333,\"#9c179e\"],[0.4444444444444444,\"#bd3786\"],[0.5555555555555556,\"#d8576b\"],[0.6666666666666666,\"#ed7953\"],[0.7777777777777778,\"#fb9f3a\"],[0.8888888888888888,\"#fdca26\"],[1.0,\"#f0f921\"]]},\"colorway\":[\"#636efa\",\"#EF553B\",\"#00cc96\",\"#ab63fa\",\"#FFA15A\",\"#19d3f3\",\"#FF6692\",\"#B6E880\",\"#FF97FF\",\"#FECB52\"],\"font\":{\"color\":\"#2a3f5f\"},\"geo\":{\"bgcolor\":\"white\",\"lakecolor\":\"white\",\"landcolor\":\"#E5ECF6\",\"showlakes\":true,\"showland\":true,\"subunitcolor\":\"white\"},\"hoverlabel\":{\"align\":\"left\"},\"hovermode\":\"closest\",\"mapbox\":{\"style\":\"light\"},\"paper_bgcolor\":\"white\",\"plot_bgcolor\":\"#E5ECF6\",\"polar\":{\"angularaxis\":{\"gridcolor\":\"white\",\"linecolor\":\"white\",\"ticks\":\"\"},\"bgcolor\":\"#E5ECF6\",\"radialaxis\":{\"gridcolor\":\"white\",\"linecolor\":\"white\",\"ticks\":\"\"}},\"scene\":{\"xaxis\":{\"backgroundcolor\":\"#E5ECF6\",\"gridcolor\":\"white\",\"gridwidth\":2,\"linecolor\":\"white\",\"showbackground\":true,\"ticks\":\"\",\"zerolinecolor\":\"white\"},\"yaxis\":{\"backgroundcolor\":\"#E5ECF6\",\"gridcolor\":\"white\",\"gridwidth\":2,\"linecolor\":\"white\",\"showbackground\":true,\"ticks\":\"\",\"zerolinecolor\":\"white\"},\"zaxis\":{\"backgroundcolor\":\"#E5ECF6\",\"gridcolor\":\"white\",\"gridwidth\":2,\"linecolor\":\"white\",\"showbackground\":true,\"ticks\":\"\",\"zerolinecolor\":\"white\"}},\"shapedefaults\":{\"line\":{\"color\":\"#2a3f5f\"}},\"ternary\":{\"aaxis\":{\"gridcolor\":\"white\",\"linecolor\":\"white\",\"ticks\":\"\"},\"baxis\":{\"gridcolor\":\"white\",\"linecolor\":\"white\",\"ticks\":\"\"},\"bgcolor\":\"#E5ECF6\",\"caxis\":{\"gridcolor\":\"white\",\"linecolor\":\"white\",\"ticks\":\"\"}},\"title\":{\"x\":0.05},\"xaxis\":{\"automargin\":true,\"gridcolor\":\"white\",\"linecolor\":\"white\",\"ticks\":\"\",\"title\":{\"standoff\":15},\"zerolinecolor\":\"white\",\"zerolinewidth\":2},\"yaxis\":{\"automargin\":true,\"gridcolor\":\"white\",\"linecolor\":\"white\",\"ticks\":\"\",\"title\":{\"standoff\":15},\"zerolinecolor\":\"white\",\"zerolinewidth\":2}}},\"xaxis\":{\"anchor\":\"y\",\"domain\":[0.0,1.0],\"title\":{\"text\":\"cluster-wise validation fraction\"}},\"yaxis\":{\"anchor\":\"x\",\"domain\":[0.0,1.0],\"title\":{\"text\":\"cluster-wise average target\"}},\"coloraxis\":{\"colorbar\":{\"title\":{\"text\":\"cluster ID\"}},\"colorscale\":[[0.0,\"rgb(0, 0, 0)\"],[0.143,\"rgb(23, 0, 167)\"],[0.286,\"rgb(0, 143, 221)\"],[0.429,\"rgb(0, 160, 61)\"],[0.571,\"rgb(0, 236, 0)\"],[0.714,\"rgb(242, 228, 0)\"],[0.857,\"rgb(249, 0, 0)\"],[1.0,\"rgb(204, 204, 204)\"]]},\"legend\":{\"tracegroupgap\":0,\"orientation\":\"h\",\"y\":1.1,\"yanchor\":\"bottom\"},\"margin\":{\"t\":60}},                        {\"responsive\": true}                    ).then(function(){\n",
              "                            \n",
              "var gd = document.getElementById('16cc7b8c-ca73-41e7-9b6c-00562ea85d22');\n",
              "var x = new MutationObserver(function (mutations, observer) {{\n",
              "        var display = window.getComputedStyle(gd).display;\n",
              "        if (!display || display === 'none') {{\n",
              "            console.log([gd, 'removed!']);\n",
              "            Plotly.purge(gd);\n",
              "            observer.disconnect();\n",
              "        }}\n",
              "}});\n",
              "\n",
              "// Listen for the removal of the full notebook cells\n",
              "var notebookContainer = gd.closest('#notebook-container');\n",
              "if (notebookContainer) {{\n",
              "    x.observe(notebookContainer, {childList: true});\n",
              "}}\n",
              "\n",
              "// Listen for the clearing of the current output cell\n",
              "var outputEl = gd.closest('.output');\n",
              "if (outputEl) {{\n",
              "    x.observe(outputEl, {childList: true});\n",
              "}}\n",
              "\n",
              "                        })                };                            </script>        </div>\n",
              "</body>\n",
              "</html>"
            ]
          },
          "metadata": {}
        },
        {
          "output_type": "display_data",
          "data": {
            "text/html": [
              "<html>\n",
              "<head><meta charset=\"utf-8\" /></head>\n",
              "<body>\n",
              "    <div>            <script src=\"https://cdnjs.cloudflare.com/ajax/libs/mathjax/2.7.5/MathJax.js?config=TeX-AMS-MML_SVG\"></script><script type=\"text/javascript\">if (window.MathJax) {MathJax.Hub.Config({SVG: {font: \"STIX-Web\"}});}</script>                <script type=\"text/javascript\">window.PlotlyConfig = {MathJaxConfig: 'local'};</script>\n",
              "        <script src=\"https://cdn.plot.ly/plotly-2.9.0.min.js\"></script>                <div id=\"68eaad35-3214-4afb-8956-fb8148378303\" class=\"plotly-graph-div\" style=\"height:525px; width:100%;\"></div>            <script type=\"text/javascript\">                                    window.PLOTLYENV=window.PLOTLYENV || {};                                    if (document.getElementById(\"68eaad35-3214-4afb-8956-fb8148378303\")) {                    Plotly.newPlot(                        \"68eaad35-3214-4afb-8956-fb8148378303\",                        [{\"customdata\":[[null],[null],[null],[null],[null],[null],[null],[null],[null],[null]],\"hovertemplate\":\"true cluster avg target=%{x}<br>pred cluster avg target=%{y}<br>formula=%{customdata[0]}<br>cluster ID=%{marker.color}<extra></extra>\",\"legendgroup\":\"\",\"marker\":{\"color\":[-1,0,1,2,3,4,5,6,7,8],\"coloraxis\":\"coloraxis\",\"symbol\":\"circle\"},\"mode\":\"markers\",\"name\":\"\",\"orientation\":\"v\",\"showlegend\":false,\"x\":[54.54545454545455,51.0,48.0,47.1,110.33333333333333,50.53333333333333,72.16666666666667,60.5,29.714285714285715,86.71428571428571],\"xaxis\":\"x\",\"y\":[64.14346903020686,74.99774703979492,52.97771716117859,40.90430755615235,47.746236165364586,67.96962000528971,77.56439971923828,45.09278001785278,35.55757359095982,57.57503727504185],\"yaxis\":\"y\",\"type\":\"scatter\"},{\"name\":\"parity\",\"x\":[0,110.33333333333333],\"y\":[0,110.33333333333333],\"type\":\"scatter\"}],                        {\"template\":{\"data\":{\"bar\":[{\"error_x\":{\"color\":\"#2a3f5f\"},\"error_y\":{\"color\":\"#2a3f5f\"},\"marker\":{\"line\":{\"color\":\"#E5ECF6\",\"width\":0.5},\"pattern\":{\"fillmode\":\"overlay\",\"size\":10,\"solidity\":0.2}},\"type\":\"bar\"}],\"barpolar\":[{\"marker\":{\"line\":{\"color\":\"#E5ECF6\",\"width\":0.5},\"pattern\":{\"fillmode\":\"overlay\",\"size\":10,\"solidity\":0.2}},\"type\":\"barpolar\"}],\"carpet\":[{\"aaxis\":{\"endlinecolor\":\"#2a3f5f\",\"gridcolor\":\"white\",\"linecolor\":\"white\",\"minorgridcolor\":\"white\",\"startlinecolor\":\"#2a3f5f\"},\"baxis\":{\"endlinecolor\":\"#2a3f5f\",\"gridcolor\":\"white\",\"linecolor\":\"white\",\"minorgridcolor\":\"white\",\"startlinecolor\":\"#2a3f5f\"},\"type\":\"carpet\"}],\"choropleth\":[{\"colorbar\":{\"outlinewidth\":0,\"ticks\":\"\"},\"type\":\"choropleth\"}],\"contour\":[{\"colorbar\":{\"outlinewidth\":0,\"ticks\":\"\"},\"colorscale\":[[0.0,\"#0d0887\"],[0.1111111111111111,\"#46039f\"],[0.2222222222222222,\"#7201a8\"],[0.3333333333333333,\"#9c179e\"],[0.4444444444444444,\"#bd3786\"],[0.5555555555555556,\"#d8576b\"],[0.6666666666666666,\"#ed7953\"],[0.7777777777777778,\"#fb9f3a\"],[0.8888888888888888,\"#fdca26\"],[1.0,\"#f0f921\"]],\"type\":\"contour\"}],\"contourcarpet\":[{\"colorbar\":{\"outlinewidth\":0,\"ticks\":\"\"},\"type\":\"contourcarpet\"}],\"heatmap\":[{\"colorbar\":{\"outlinewidth\":0,\"ticks\":\"\"},\"colorscale\":[[0.0,\"#0d0887\"],[0.1111111111111111,\"#46039f\"],[0.2222222222222222,\"#7201a8\"],[0.3333333333333333,\"#9c179e\"],[0.4444444444444444,\"#bd3786\"],[0.5555555555555556,\"#d8576b\"],[0.6666666666666666,\"#ed7953\"],[0.7777777777777778,\"#fb9f3a\"],[0.8888888888888888,\"#fdca26\"],[1.0,\"#f0f921\"]],\"type\":\"heatmap\"}],\"heatmapgl\":[{\"colorbar\":{\"outlinewidth\":0,\"ticks\":\"\"},\"colorscale\":[[0.0,\"#0d0887\"],[0.1111111111111111,\"#46039f\"],[0.2222222222222222,\"#7201a8\"],[0.3333333333333333,\"#9c179e\"],[0.4444444444444444,\"#bd3786\"],[0.5555555555555556,\"#d8576b\"],[0.6666666666666666,\"#ed7953\"],[0.7777777777777778,\"#fb9f3a\"],[0.8888888888888888,\"#fdca26\"],[1.0,\"#f0f921\"]],\"type\":\"heatmapgl\"}],\"histogram\":[{\"marker\":{\"pattern\":{\"fillmode\":\"overlay\",\"size\":10,\"solidity\":0.2}},\"type\":\"histogram\"}],\"histogram2d\":[{\"colorbar\":{\"outlinewidth\":0,\"ticks\":\"\"},\"colorscale\":[[0.0,\"#0d0887\"],[0.1111111111111111,\"#46039f\"],[0.2222222222222222,\"#7201a8\"],[0.3333333333333333,\"#9c179e\"],[0.4444444444444444,\"#bd3786\"],[0.5555555555555556,\"#d8576b\"],[0.6666666666666666,\"#ed7953\"],[0.7777777777777778,\"#fb9f3a\"],[0.8888888888888888,\"#fdca26\"],[1.0,\"#f0f921\"]],\"type\":\"histogram2d\"}],\"histogram2dcontour\":[{\"colorbar\":{\"outlinewidth\":0,\"ticks\":\"\"},\"colorscale\":[[0.0,\"#0d0887\"],[0.1111111111111111,\"#46039f\"],[0.2222222222222222,\"#7201a8\"],[0.3333333333333333,\"#9c179e\"],[0.4444444444444444,\"#bd3786\"],[0.5555555555555556,\"#d8576b\"],[0.6666666666666666,\"#ed7953\"],[0.7777777777777778,\"#fb9f3a\"],[0.8888888888888888,\"#fdca26\"],[1.0,\"#f0f921\"]],\"type\":\"histogram2dcontour\"}],\"mesh3d\":[{\"colorbar\":{\"outlinewidth\":0,\"ticks\":\"\"},\"type\":\"mesh3d\"}],\"parcoords\":[{\"line\":{\"colorbar\":{\"outlinewidth\":0,\"ticks\":\"\"}},\"type\":\"parcoords\"}],\"pie\":[{\"automargin\":true,\"type\":\"pie\"}],\"scatter\":[{\"marker\":{\"colorbar\":{\"outlinewidth\":0,\"ticks\":\"\"}},\"type\":\"scatter\"}],\"scatter3d\":[{\"line\":{\"colorbar\":{\"outlinewidth\":0,\"ticks\":\"\"}},\"marker\":{\"colorbar\":{\"outlinewidth\":0,\"ticks\":\"\"}},\"type\":\"scatter3d\"}],\"scattercarpet\":[{\"marker\":{\"colorbar\":{\"outlinewidth\":0,\"ticks\":\"\"}},\"type\":\"scattercarpet\"}],\"scattergeo\":[{\"marker\":{\"colorbar\":{\"outlinewidth\":0,\"ticks\":\"\"}},\"type\":\"scattergeo\"}],\"scattergl\":[{\"marker\":{\"colorbar\":{\"outlinewidth\":0,\"ticks\":\"\"}},\"type\":\"scattergl\"}],\"scattermapbox\":[{\"marker\":{\"colorbar\":{\"outlinewidth\":0,\"ticks\":\"\"}},\"type\":\"scattermapbox\"}],\"scatterpolar\":[{\"marker\":{\"colorbar\":{\"outlinewidth\":0,\"ticks\":\"\"}},\"type\":\"scatterpolar\"}],\"scatterpolargl\":[{\"marker\":{\"colorbar\":{\"outlinewidth\":0,\"ticks\":\"\"}},\"type\":\"scatterpolargl\"}],\"scatterternary\":[{\"marker\":{\"colorbar\":{\"outlinewidth\":0,\"ticks\":\"\"}},\"type\":\"scatterternary\"}],\"surface\":[{\"colorbar\":{\"outlinewidth\":0,\"ticks\":\"\"},\"colorscale\":[[0.0,\"#0d0887\"],[0.1111111111111111,\"#46039f\"],[0.2222222222222222,\"#7201a8\"],[0.3333333333333333,\"#9c179e\"],[0.4444444444444444,\"#bd3786\"],[0.5555555555555556,\"#d8576b\"],[0.6666666666666666,\"#ed7953\"],[0.7777777777777778,\"#fb9f3a\"],[0.8888888888888888,\"#fdca26\"],[1.0,\"#f0f921\"]],\"type\":\"surface\"}],\"table\":[{\"cells\":{\"fill\":{\"color\":\"#EBF0F8\"},\"line\":{\"color\":\"white\"}},\"header\":{\"fill\":{\"color\":\"#C8D4E3\"},\"line\":{\"color\":\"white\"}},\"type\":\"table\"}]},\"layout\":{\"annotationdefaults\":{\"arrowcolor\":\"#2a3f5f\",\"arrowhead\":0,\"arrowwidth\":1},\"autotypenumbers\":\"strict\",\"coloraxis\":{\"colorbar\":{\"outlinewidth\":0,\"ticks\":\"\"}},\"colorscale\":{\"diverging\":[[0,\"#8e0152\"],[0.1,\"#c51b7d\"],[0.2,\"#de77ae\"],[0.3,\"#f1b6da\"],[0.4,\"#fde0ef\"],[0.5,\"#f7f7f7\"],[0.6,\"#e6f5d0\"],[0.7,\"#b8e186\"],[0.8,\"#7fbc41\"],[0.9,\"#4d9221\"],[1,\"#276419\"]],\"sequential\":[[0.0,\"#0d0887\"],[0.1111111111111111,\"#46039f\"],[0.2222222222222222,\"#7201a8\"],[0.3333333333333333,\"#9c179e\"],[0.4444444444444444,\"#bd3786\"],[0.5555555555555556,\"#d8576b\"],[0.6666666666666666,\"#ed7953\"],[0.7777777777777778,\"#fb9f3a\"],[0.8888888888888888,\"#fdca26\"],[1.0,\"#f0f921\"]],\"sequentialminus\":[[0.0,\"#0d0887\"],[0.1111111111111111,\"#46039f\"],[0.2222222222222222,\"#7201a8\"],[0.3333333333333333,\"#9c179e\"],[0.4444444444444444,\"#bd3786\"],[0.5555555555555556,\"#d8576b\"],[0.6666666666666666,\"#ed7953\"],[0.7777777777777778,\"#fb9f3a\"],[0.8888888888888888,\"#fdca26\"],[1.0,\"#f0f921\"]]},\"colorway\":[\"#636efa\",\"#EF553B\",\"#00cc96\",\"#ab63fa\",\"#FFA15A\",\"#19d3f3\",\"#FF6692\",\"#B6E880\",\"#FF97FF\",\"#FECB52\"],\"font\":{\"color\":\"#2a3f5f\"},\"geo\":{\"bgcolor\":\"white\",\"lakecolor\":\"white\",\"landcolor\":\"#E5ECF6\",\"showlakes\":true,\"showland\":true,\"subunitcolor\":\"white\"},\"hoverlabel\":{\"align\":\"left\"},\"hovermode\":\"closest\",\"mapbox\":{\"style\":\"light\"},\"paper_bgcolor\":\"white\",\"plot_bgcolor\":\"#E5ECF6\",\"polar\":{\"angularaxis\":{\"gridcolor\":\"white\",\"linecolor\":\"white\",\"ticks\":\"\"},\"bgcolor\":\"#E5ECF6\",\"radialaxis\":{\"gridcolor\":\"white\",\"linecolor\":\"white\",\"ticks\":\"\"}},\"scene\":{\"xaxis\":{\"backgroundcolor\":\"#E5ECF6\",\"gridcolor\":\"white\",\"gridwidth\":2,\"linecolor\":\"white\",\"showbackground\":true,\"ticks\":\"\",\"zerolinecolor\":\"white\"},\"yaxis\":{\"backgroundcolor\":\"#E5ECF6\",\"gridcolor\":\"white\",\"gridwidth\":2,\"linecolor\":\"white\",\"showbackground\":true,\"ticks\":\"\",\"zerolinecolor\":\"white\"},\"zaxis\":{\"backgroundcolor\":\"#E5ECF6\",\"gridcolor\":\"white\",\"gridwidth\":2,\"linecolor\":\"white\",\"showbackground\":true,\"ticks\":\"\",\"zerolinecolor\":\"white\"}},\"shapedefaults\":{\"line\":{\"color\":\"#2a3f5f\"}},\"ternary\":{\"aaxis\":{\"gridcolor\":\"white\",\"linecolor\":\"white\",\"ticks\":\"\"},\"baxis\":{\"gridcolor\":\"white\",\"linecolor\":\"white\",\"ticks\":\"\"},\"bgcolor\":\"#E5ECF6\",\"caxis\":{\"gridcolor\":\"white\",\"linecolor\":\"white\",\"ticks\":\"\"}},\"title\":{\"x\":0.05},\"xaxis\":{\"automargin\":true,\"gridcolor\":\"white\",\"linecolor\":\"white\",\"ticks\":\"\",\"title\":{\"standoff\":15},\"zerolinecolor\":\"white\",\"zerolinewidth\":2},\"yaxis\":{\"automargin\":true,\"gridcolor\":\"white\",\"linecolor\":\"white\",\"ticks\":\"\",\"title\":{\"standoff\":15},\"zerolinecolor\":\"white\",\"zerolinewidth\":2}}},\"xaxis\":{\"anchor\":\"y\",\"domain\":[0.0,1.0],\"title\":{\"text\":\"true cluster avg target\"}},\"yaxis\":{\"anchor\":\"x\",\"domain\":[0.0,1.0],\"title\":{\"text\":\"pred cluster avg target\"}},\"coloraxis\":{\"colorbar\":{\"title\":{\"text\":\"cluster ID\"}},\"colorscale\":[[0.0,\"rgb(0, 0, 0)\"],[0.125,\"rgb(66, 0, 161)\"],[0.25,\"rgb(0, 119, 221)\"],[0.375,\"rgb(0, 170, 151)\"],[0.5,\"rgb(0, 188, 0)\"],[0.625,\"rgb(102, 255, 0)\"],[0.75,\"rgb(255, 201, 0)\"],[0.875,\"rgb(235, 0, 0)\"],[1.0,\"rgb(204, 204, 204)\"]]},\"legend\":{\"tracegroupgap\":0,\"orientation\":\"h\",\"y\":1.1,\"yanchor\":\"bottom\"},\"margin\":{\"t\":60}},                        {\"responsive\": true}                    ).then(function(){\n",
              "                            \n",
              "var gd = document.getElementById('68eaad35-3214-4afb-8956-fb8148378303');\n",
              "var x = new MutationObserver(function (mutations, observer) {{\n",
              "        var display = window.getComputedStyle(gd).display;\n",
              "        if (!display || display === 'none') {{\n",
              "            console.log([gd, 'removed!']);\n",
              "            Plotly.purge(gd);\n",
              "            observer.disconnect();\n",
              "        }}\n",
              "}});\n",
              "\n",
              "// Listen for the removal of the full notebook cells\n",
              "var notebookContainer = gd.closest('#notebook-container');\n",
              "if (notebookContainer) {{\n",
              "    x.observe(notebookContainer, {childList: true});\n",
              "}}\n",
              "\n",
              "// Listen for the clearing of the current output cell\n",
              "var outputEl = gd.closest('.output');\n",
              "if (outputEl) {{\n",
              "    x.observe(outputEl, {childList: true});\n",
              "}}\n",
              "\n",
              "                        })                };                            </script>        </div>\n",
              "</body>\n",
              "</html>"
            ]
          },
          "metadata": {}
        }
      ],
      "source": [
        "disc.plot()"
      ]
    },
    {
      "cell_type": "code",
      "execution_count": null,
      "metadata": {
        "id": "E5SU1Kysf0XT",
        "colab": {
          "base_uri": "https://localhost:8080/",
          "height": 363
        },
        "outputId": "32aa03b5-f1fb-4602-803b-9c401c14ec58"
      },
      "outputs": [
        {
          "output_type": "execute_result",
          "data": {
            "text/html": [
              "\n",
              "  <div id=\"df-8f455cde-d445-4c71-90f1-e822004f2e4f\">\n",
              "    <div class=\"colab-df-container\">\n",
              "      <div>\n",
              "<style scoped>\n",
              "    .dataframe tbody tr th:only-of-type {\n",
              "        vertical-align: middle;\n",
              "    }\n",
              "\n",
              "    .dataframe tbody tr th {\n",
              "        vertical-align: top;\n",
              "    }\n",
              "\n",
              "    .dataframe thead th {\n",
              "        text-align: right;\n",
              "    }\n",
              "</style>\n",
              "<table border=\"1\" class=\"dataframe\">\n",
              "  <thead>\n",
              "    <tr style=\"text-align: right;\">\n",
              "      <th></th>\n",
              "      <th>formula</th>\n",
              "      <th>prediction</th>\n",
              "      <th>density</th>\n",
              "      <th>score</th>\n",
              "      <th>index</th>\n",
              "    </tr>\n",
              "  </thead>\n",
              "  <tbody>\n",
              "    <tr>\n",
              "      <th>90</th>\n",
              "      <td>Ag3P11</td>\n",
              "      <td>68.249908</td>\n",
              "      <td>0.152155</td>\n",
              "      <td>0.766659</td>\n",
              "      <td>90</td>\n",
              "    </tr>\n",
              "    <tr>\n",
              "      <th>70</th>\n",
              "      <td>Ag2CO3</td>\n",
              "      <td>70.506271</td>\n",
              "      <td>0.161554</td>\n",
              "      <td>0.680413</td>\n",
              "      <td>70</td>\n",
              "    </tr>\n",
              "    <tr>\n",
              "      <th>76</th>\n",
              "      <td>Ag2MoO4</td>\n",
              "      <td>72.738258</td>\n",
              "      <td>0.166697</td>\n",
              "      <td>0.665078</td>\n",
              "      <td>76</td>\n",
              "    </tr>\n",
              "    <tr>\n",
              "      <th>83</th>\n",
              "      <td>Ag2SeO3</td>\n",
              "      <td>65.048828</td>\n",
              "      <td>0.160325</td>\n",
              "      <td>0.526705</td>\n",
              "      <td>83</td>\n",
              "    </tr>\n",
              "    <tr>\n",
              "      <th>77</th>\n",
              "      <td>Ag2O</td>\n",
              "      <td>75.087906</td>\n",
              "      <td>0.184579</td>\n",
              "      <td>0.438881</td>\n",
              "      <td>77</td>\n",
              "    </tr>\n",
              "    <tr>\n",
              "      <th>73</th>\n",
              "      <td>Ag2HgI4</td>\n",
              "      <td>60.766151</td>\n",
              "      <td>0.164008</td>\n",
              "      <td>0.327791</td>\n",
              "      <td>73</td>\n",
              "    </tr>\n",
              "    <tr>\n",
              "      <th>45</th>\n",
              "      <td>AcI3</td>\n",
              "      <td>43.463760</td>\n",
              "      <td>0.136160</td>\n",
              "      <td>0.244041</td>\n",
              "      <td>45</td>\n",
              "    </tr>\n",
              "    <tr>\n",
              "      <th>0</th>\n",
              "      <td>Ac</td>\n",
              "      <td>35.121315</td>\n",
              "      <td>0.126285</td>\n",
              "      <td>0.143819</td>\n",
              "      <td>0</td>\n",
              "    </tr>\n",
              "    <tr>\n",
              "      <th>4</th>\n",
              "      <td>Ac2CuIr</td>\n",
              "      <td>66.051277</td>\n",
              "      <td>0.190612</td>\n",
              "      <td>0.048444</td>\n",
              "      <td>4</td>\n",
              "    </tr>\n",
              "    <tr>\n",
              "      <th>31</th>\n",
              "      <td>AcBr3</td>\n",
              "      <td>34.537712</td>\n",
              "      <td>0.132987</td>\n",
              "      <td>0.012242</td>\n",
              "      <td>31</td>\n",
              "    </tr>\n",
              "  </tbody>\n",
              "</table>\n",
              "</div>\n",
              "      <button class=\"colab-df-convert\" onclick=\"convertToInteractive('df-8f455cde-d445-4c71-90f1-e822004f2e4f')\"\n",
              "              title=\"Convert this dataframe to an interactive table.\"\n",
              "              style=\"display:none;\">\n",
              "        \n",
              "  <svg xmlns=\"http://www.w3.org/2000/svg\" height=\"24px\"viewBox=\"0 0 24 24\"\n",
              "       width=\"24px\">\n",
              "    <path d=\"M0 0h24v24H0V0z\" fill=\"none\"/>\n",
              "    <path d=\"M18.56 5.44l.94 2.06.94-2.06 2.06-.94-2.06-.94-.94-2.06-.94 2.06-2.06.94zm-11 1L8.5 8.5l.94-2.06 2.06-.94-2.06-.94L8.5 2.5l-.94 2.06-2.06.94zm10 10l.94 2.06.94-2.06 2.06-.94-2.06-.94-.94-2.06-.94 2.06-2.06.94z\"/><path d=\"M17.41 7.96l-1.37-1.37c-.4-.4-.92-.59-1.43-.59-.52 0-1.04.2-1.43.59L10.3 9.45l-7.72 7.72c-.78.78-.78 2.05 0 2.83L4 21.41c.39.39.9.59 1.41.59.51 0 1.02-.2 1.41-.59l7.78-7.78 2.81-2.81c.8-.78.8-2.07 0-2.86zM5.41 20L4 18.59l7.72-7.72 1.47 1.35L5.41 20z\"/>\n",
              "  </svg>\n",
              "      </button>\n",
              "      \n",
              "  <style>\n",
              "    .colab-df-container {\n",
              "      display:flex;\n",
              "      flex-wrap:wrap;\n",
              "      gap: 12px;\n",
              "    }\n",
              "\n",
              "    .colab-df-convert {\n",
              "      background-color: #E8F0FE;\n",
              "      border: none;\n",
              "      border-radius: 50%;\n",
              "      cursor: pointer;\n",
              "      display: none;\n",
              "      fill: #1967D2;\n",
              "      height: 32px;\n",
              "      padding: 0 0 0 0;\n",
              "      width: 32px;\n",
              "    }\n",
              "\n",
              "    .colab-df-convert:hover {\n",
              "      background-color: #E2EBFA;\n",
              "      box-shadow: 0px 1px 2px rgba(60, 64, 67, 0.3), 0px 1px 3px 1px rgba(60, 64, 67, 0.15);\n",
              "      fill: #174EA6;\n",
              "    }\n",
              "\n",
              "    [theme=dark] .colab-df-convert {\n",
              "      background-color: #3B4455;\n",
              "      fill: #D2E3FC;\n",
              "    }\n",
              "\n",
              "    [theme=dark] .colab-df-convert:hover {\n",
              "      background-color: #434B5C;\n",
              "      box-shadow: 0px 1px 3px 1px rgba(0, 0, 0, 0.15);\n",
              "      filter: drop-shadow(0px 1px 2px rgba(0, 0, 0, 0.3));\n",
              "      fill: #FFFFFF;\n",
              "    }\n",
              "  </style>\n",
              "\n",
              "      <script>\n",
              "        const buttonEl =\n",
              "          document.querySelector('#df-8f455cde-d445-4c71-90f1-e822004f2e4f button.colab-df-convert');\n",
              "        buttonEl.style.display =\n",
              "          google.colab.kernel.accessAllowed ? 'block' : 'none';\n",
              "\n",
              "        async function convertToInteractive(key) {\n",
              "          const element = document.querySelector('#df-8f455cde-d445-4c71-90f1-e822004f2e4f');\n",
              "          const dataTable =\n",
              "            await google.colab.kernel.invokeFunction('convertToInteractive',\n",
              "                                                     [key], {});\n",
              "          if (!dataTable) return;\n",
              "\n",
              "          const docLinkHtml = 'Like what you see? Visit the ' +\n",
              "            '<a target=\"_blank\" href=https://colab.research.google.com/notebooks/data_table.ipynb>data table notebook</a>'\n",
              "            + ' to learn more about interactive tables.';\n",
              "          element.innerHTML = '';\n",
              "          dataTable['output_type'] = 'display_data';\n",
              "          await google.colab.output.renderOutput(dataTable, element);\n",
              "          const docLink = document.createElement('div');\n",
              "          docLink.innerHTML = docLinkHtml;\n",
              "          element.appendChild(docLink);\n",
              "        }\n",
              "      </script>\n",
              "    </div>\n",
              "  </div>\n",
              "  "
            ],
            "text/plain": [
              "    formula  prediction   density     score  index\n",
              "90   Ag3P11   68.249908  0.152155  0.766659     90\n",
              "70   Ag2CO3   70.506271  0.161554  0.680413     70\n",
              "76  Ag2MoO4   72.738258  0.166697  0.665078     76\n",
              "83  Ag2SeO3   65.048828  0.160325  0.526705     83\n",
              "77     Ag2O   75.087906  0.184579  0.438881     77\n",
              "73  Ag2HgI4   60.766151  0.164008  0.327791     73\n",
              "45     AcI3   43.463760  0.136160  0.244041     45\n",
              "0        Ac   35.121315  0.126285  0.143819      0\n",
              "4   Ac2CuIr   66.051277  0.190612  0.048444      4\n",
              "31    AcBr3   34.537712  0.132987  0.012242     31"
            ]
          },
          "metadata": {},
          "execution_count": 8
        }
      ],
      "source": [
        "disc.dens_score_df.head(10)"
      ]
    },
    {
      "cell_type": "code",
      "execution_count": null,
      "metadata": {
        "id": "pnRk9t3pmDop",
        "colab": {
          "base_uri": "https://localhost:8080/",
          "height": 363
        },
        "outputId": "cca4721e-74b7-4b7e-811e-1312433f7d7d"
      },
      "outputs": [
        {
          "output_type": "execute_result",
          "data": {
            "text/html": [
              "\n",
              "  <div id=\"df-146ecca2-1032-441f-902c-5aeb34b60966\">\n",
              "    <div class=\"colab-df-container\">\n",
              "      <div>\n",
              "<style scoped>\n",
              "    .dataframe tbody tr th:only-of-type {\n",
              "        vertical-align: middle;\n",
              "    }\n",
              "\n",
              "    .dataframe tbody tr th {\n",
              "        vertical-align: top;\n",
              "    }\n",
              "\n",
              "    .dataframe thead th {\n",
              "        text-align: right;\n",
              "    }\n",
              "</style>\n",
              "<table border=\"1\" class=\"dataframe\">\n",
              "  <thead>\n",
              "    <tr style=\"text-align: right;\">\n",
              "      <th></th>\n",
              "      <th>formula</th>\n",
              "      <th>prediction</th>\n",
              "      <th>density</th>\n",
              "      <th>score</th>\n",
              "      <th>index</th>\n",
              "    </tr>\n",
              "  </thead>\n",
              "  <tbody>\n",
              "    <tr>\n",
              "      <th>30</th>\n",
              "      <td>AcAu3</td>\n",
              "      <td>64.459831</td>\n",
              "      <td>0.215798</td>\n",
              "      <td>1.022355</td>\n",
              "      <td>30</td>\n",
              "    </tr>\n",
              "    <tr>\n",
              "      <th>77</th>\n",
              "      <td>Ag2O</td>\n",
              "      <td>75.087906</td>\n",
              "      <td>0.184579</td>\n",
              "      <td>0.972298</td>\n",
              "      <td>77</td>\n",
              "    </tr>\n",
              "    <tr>\n",
              "      <th>45</th>\n",
              "      <td>AcI3</td>\n",
              "      <td>43.463760</td>\n",
              "      <td>0.136160</td>\n",
              "      <td>0.791634</td>\n",
              "      <td>45</td>\n",
              "    </tr>\n",
              "    <tr>\n",
              "      <th>76</th>\n",
              "      <td>Ag2MoO4</td>\n",
              "      <td>72.738258</td>\n",
              "      <td>0.166697</td>\n",
              "      <td>0.740044</td>\n",
              "      <td>76</td>\n",
              "    </tr>\n",
              "    <tr>\n",
              "      <th>70</th>\n",
              "      <td>Ag2CO3</td>\n",
              "      <td>70.506271</td>\n",
              "      <td>0.161554</td>\n",
              "      <td>0.504963</td>\n",
              "      <td>70</td>\n",
              "    </tr>\n",
              "    <tr>\n",
              "      <th>4</th>\n",
              "      <td>Ac2CuIr</td>\n",
              "      <td>66.051277</td>\n",
              "      <td>0.190612</td>\n",
              "      <td>0.294133</td>\n",
              "      <td>4</td>\n",
              "    </tr>\n",
              "    <tr>\n",
              "      <th>12</th>\n",
              "      <td>Ac2NiIr</td>\n",
              "      <td>65.560181</td>\n",
              "      <td>0.193282</td>\n",
              "      <td>0.219202</td>\n",
              "      <td>12</td>\n",
              "    </tr>\n",
              "    <tr>\n",
              "      <th>90</th>\n",
              "      <td>Ag3P11</td>\n",
              "      <td>68.249908</td>\n",
              "      <td>0.152155</td>\n",
              "      <td>0.163193</td>\n",
              "      <td>90</td>\n",
              "    </tr>\n",
              "    <tr>\n",
              "      <th>39</th>\n",
              "      <td>AcGa3</td>\n",
              "      <td>40.886024</td>\n",
              "      <td>0.224287</td>\n",
              "      <td>0.032117</td>\n",
              "      <td>39</td>\n",
              "    </tr>\n",
              "    <tr>\n",
              "      <th>53</th>\n",
              "      <td>AcMgTl2</td>\n",
              "      <td>40.417099</td>\n",
              "      <td>0.225347</td>\n",
              "      <td>0.007518</td>\n",
              "      <td>53</td>\n",
              "    </tr>\n",
              "  </tbody>\n",
              "</table>\n",
              "</div>\n",
              "      <button class=\"colab-df-convert\" onclick=\"convertToInteractive('df-146ecca2-1032-441f-902c-5aeb34b60966')\"\n",
              "              title=\"Convert this dataframe to an interactive table.\"\n",
              "              style=\"display:none;\">\n",
              "        \n",
              "  <svg xmlns=\"http://www.w3.org/2000/svg\" height=\"24px\"viewBox=\"0 0 24 24\"\n",
              "       width=\"24px\">\n",
              "    <path d=\"M0 0h24v24H0V0z\" fill=\"none\"/>\n",
              "    <path d=\"M18.56 5.44l.94 2.06.94-2.06 2.06-.94-2.06-.94-.94-2.06-.94 2.06-2.06.94zm-11 1L8.5 8.5l.94-2.06 2.06-.94-2.06-.94L8.5 2.5l-.94 2.06-2.06.94zm10 10l.94 2.06.94-2.06 2.06-.94-2.06-.94-.94-2.06-.94 2.06-2.06.94z\"/><path d=\"M17.41 7.96l-1.37-1.37c-.4-.4-.92-.59-1.43-.59-.52 0-1.04.2-1.43.59L10.3 9.45l-7.72 7.72c-.78.78-.78 2.05 0 2.83L4 21.41c.39.39.9.59 1.41.59.51 0 1.02-.2 1.41-.59l7.78-7.78 2.81-2.81c.8-.78.8-2.07 0-2.86zM5.41 20L4 18.59l7.72-7.72 1.47 1.35L5.41 20z\"/>\n",
              "  </svg>\n",
              "      </button>\n",
              "      \n",
              "  <style>\n",
              "    .colab-df-container {\n",
              "      display:flex;\n",
              "      flex-wrap:wrap;\n",
              "      gap: 12px;\n",
              "    }\n",
              "\n",
              "    .colab-df-convert {\n",
              "      background-color: #E8F0FE;\n",
              "      border: none;\n",
              "      border-radius: 50%;\n",
              "      cursor: pointer;\n",
              "      display: none;\n",
              "      fill: #1967D2;\n",
              "      height: 32px;\n",
              "      padding: 0 0 0 0;\n",
              "      width: 32px;\n",
              "    }\n",
              "\n",
              "    .colab-df-convert:hover {\n",
              "      background-color: #E2EBFA;\n",
              "      box-shadow: 0px 1px 2px rgba(60, 64, 67, 0.3), 0px 1px 3px 1px rgba(60, 64, 67, 0.15);\n",
              "      fill: #174EA6;\n",
              "    }\n",
              "\n",
              "    [theme=dark] .colab-df-convert {\n",
              "      background-color: #3B4455;\n",
              "      fill: #D2E3FC;\n",
              "    }\n",
              "\n",
              "    [theme=dark] .colab-df-convert:hover {\n",
              "      background-color: #434B5C;\n",
              "      box-shadow: 0px 1px 3px 1px rgba(0, 0, 0, 0.15);\n",
              "      filter: drop-shadow(0px 1px 2px rgba(0, 0, 0, 0.3));\n",
              "      fill: #FFFFFF;\n",
              "    }\n",
              "  </style>\n",
              "\n",
              "      <script>\n",
              "        const buttonEl =\n",
              "          document.querySelector('#df-146ecca2-1032-441f-902c-5aeb34b60966 button.colab-df-convert');\n",
              "        buttonEl.style.display =\n",
              "          google.colab.kernel.accessAllowed ? 'block' : 'none';\n",
              "\n",
              "        async function convertToInteractive(key) {\n",
              "          const element = document.querySelector('#df-146ecca2-1032-441f-902c-5aeb34b60966');\n",
              "          const dataTable =\n",
              "            await google.colab.kernel.invokeFunction('convertToInteractive',\n",
              "                                                     [key], {});\n",
              "          if (!dataTable) return;\n",
              "\n",
              "          const docLinkHtml = 'Like what you see? Visit the ' +\n",
              "            '<a target=\"_blank\" href=https://colab.research.google.com/notebooks/data_table.ipynb>data table notebook</a>'\n",
              "            + ' to learn more about interactive tables.';\n",
              "          element.innerHTML = '';\n",
              "          dataTable['output_type'] = 'display_data';\n",
              "          await google.colab.output.renderOutput(dataTable, element);\n",
              "          const docLink = document.createElement('div');\n",
              "          docLink.innerHTML = docLinkHtml;\n",
              "          element.appendChild(docLink);\n",
              "        }\n",
              "      </script>\n",
              "    </div>\n",
              "  </div>\n",
              "  "
            ],
            "text/plain": [
              "    formula  prediction   density     score  index\n",
              "30    AcAu3   64.459831  0.215798  1.022355     30\n",
              "77     Ag2O   75.087906  0.184579  0.972298     77\n",
              "45     AcI3   43.463760  0.136160  0.791634     45\n",
              "76  Ag2MoO4   72.738258  0.166697  0.740044     76\n",
              "70   Ag2CO3   70.506271  0.161554  0.504963     70\n",
              "4   Ac2CuIr   66.051277  0.190612  0.294133      4\n",
              "12  Ac2NiIr   65.560181  0.193282  0.219202     12\n",
              "90   Ag3P11   68.249908  0.152155  0.163193     90\n",
              "39    AcGa3   40.886024  0.224287  0.032117     39\n",
              "53  AcMgTl2   40.417099  0.225347  0.007518     53"
            ]
          },
          "metadata": {},
          "execution_count": 9
        }
      ],
      "source": [
        "disc.peak_score_df.head(10)"
      ]
    },
    {
      "cell_type": "markdown",
      "metadata": {
        "id": "Q5aw5DLhYcVJ"
      },
      "source": [
        "You can see what other built-in data is available by default via:"
      ]
    },
    {
      "cell_type": "code",
      "execution_count": null,
      "metadata": {
        "id": "nksu3Z-M3YMz",
        "colab": {
          "base_uri": "https://localhost:8080/"
        },
        "outputId": "6e139584-6071-403f-c110-8b1778c1cd94"
      },
      "outputs": [
        {
          "output_type": "execute_result",
          "data": {
            "text/plain": [
              "{'benchmark_data',\n",
              " 'benchmark_data.CritExam__Ed',\n",
              " 'benchmark_data.CritExam__Ef',\n",
              " 'benchmark_data.OQMD_Bandgap',\n",
              " 'benchmark_data.OQMD_Energy_per_atom',\n",
              " 'benchmark_data.OQMD_Formation_Enthalpy',\n",
              " 'benchmark_data.OQMD_Volume_per_atom',\n",
              " 'benchmark_data.aflow__Egap',\n",
              " 'benchmark_data.aflow__ael_bulk_modulus_vrh',\n",
              " 'benchmark_data.aflow__ael_debye_temperature',\n",
              " 'benchmark_data.aflow__ael_shear_modulus_vrh',\n",
              " 'benchmark_data.aflow__agl_thermal_conductivity_300K',\n",
              " 'benchmark_data.aflow__agl_thermal_expansion_300K',\n",
              " 'benchmark_data.aflow__energy_atom',\n",
              " 'benchmark_data.mp_bulk_modulus',\n",
              " 'benchmark_data.mp_e_hull',\n",
              " 'benchmark_data.mp_elastic_anisotropy',\n",
              " 'benchmark_data.mp_mu_b',\n",
              " 'benchmark_data.mp_shear_modulus',\n",
              " 'element_properties',\n",
              " 'matbench',\n",
              " 'materials_data',\n",
              " 'materials_data.elasticity',\n",
              " 'materials_data.example_materials_property'}"
            ]
          },
          "metadata": {},
          "execution_count": 10
        }
      ],
      "source": [
        "from pkgutil import iter_modules # https://stackoverflow.com/a/58684066/13697228\n",
        "from crabnet import data\n",
        "\n",
        "import sys\n",
        "from setuptools import find_packages\n",
        "from pkgutil import iter_modules\n",
        "\n",
        "def find_modules(path):\n",
        "    \"\"\"Find modules recursively. https://stackoverflow.com/a/54323162/13697228\"\"\"\n",
        "    modules = set()\n",
        "    for pkg in find_packages(path):\n",
        "        modules.add(pkg)\n",
        "        pkgpath = path + '/' + pkg.replace('.', '/')\n",
        "        if sys.version_info.major == 2 or (sys.version_info.major == 3 and sys.version_info.minor < 6):\n",
        "            for _, name, ispkg in iter_modules([pkgpath]):\n",
        "                if not ispkg:\n",
        "                    modules.add(pkg + '.' + name)\n",
        "        else:\n",
        "            for info in iter_modules([pkgpath]):\n",
        "                if not info.ispkg:\n",
        "                    modules.add(pkg + '.' + info.name)\n",
        "    return modules\n",
        "\n",
        "find_modules(data.__path__[0])"
      ]
    }
  ],
  "metadata": {
    "colab": {
      "collapsed_sections": [],
      "name": "mat_discover_pypi.ipynb",
      "provenance": []
    },
    "kernelspec": {
      "display_name": "Python 3",
      "name": "python3"
    },
    "language_info": {
      "name": "python"
    },
    "accelerator": "GPU"
  },
  "nbformat": 4,
  "nbformat_minor": 0
}